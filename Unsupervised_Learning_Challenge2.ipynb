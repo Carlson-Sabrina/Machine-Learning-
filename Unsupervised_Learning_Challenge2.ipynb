{
  "nbformat": 4,
  "nbformat_minor": 0,
  "metadata": {
    "colab": {
      "name": "Unsupervised Learning Challenge2.ipynb",
      "provenance": [],
      "collapsed_sections": []
    },
    "kernelspec": {
      "name": "python3",
      "display_name": "Python 3"
    }
  },
  "cells": [
    {
      "cell_type": "code",
      "metadata": {
        "id": "Es0li8cJPB3s",
        "colab_type": "code",
        "outputId": "594a99d9-b650-4253-8174-9806c86bc637",
        "colab": {
          "base_uri": "https://localhost:8080/",
          "height": 72
        }
      },
      "source": [
        "import numpy as np\n",
        "import pandas as pd\n",
        "import scipy\n",
        "import matplotlib.pyplot as plt\n",
        "import seaborn as sns\n",
        "%matplotlib inline\n",
        "from sklearn.preprocessing import normalize\n",
        "from sklearn.manifold import TSNE\n",
        "from sklearn.decomposition import PCA\n",
        "from sklearn.preprocessing import StandardScaler\n",
        "from sklearn.cluster import KMeans\n",
        "from sklearn.mixture import GaussianMixture\n",
        "from sklearn import metrics"
      ],
      "execution_count": 1,
      "outputs": [
        {
          "output_type": "stream",
          "text": [
            "/usr/local/lib/python3.6/dist-packages/statsmodels/tools/_testing.py:19: FutureWarning: pandas.util.testing is deprecated. Use the functions in the public API at pandas.testing instead.\n",
            "  import pandas.util.testing as tm\n"
          ],
          "name": "stderr"
        }
      ]
    },
    {
      "cell_type": "markdown",
      "metadata": {
        "id": "jBHWUCp7JwAr",
        "colab_type": "text"
      },
      "source": [
        "**Challenge:**   \n",
        "Apply dimensionality reduction techniques to visualize the observations.  \n",
        "Apply clustering techniques to group together similar observations.  \n",
        "In each of the tasks above, try alternative methods and select a best performing one.   Discuss how dimensionality reduction and clustering algorithms enable you to gain insights regarding the data."
      ]
    },
    {
      "cell_type": "markdown",
      "metadata": {
        "id": "Hi-vpGhhKEm7",
        "colab_type": "text"
      },
      "source": [
        "I am using a dataset on the 2014 Boston Marathon. This dataset is available here: https://github.com/llimllib/bostonmarathon/tree/master/results/2014  \n",
        "I want to explore how the different participants cluster into groups based on official race time. I will use dimensionality reduction techniques for visualization purposes. I will also apply k-means and GMM clustering techniques and compare them. Finally, I will further explore gender and age groups. Specifically, I will see how many men/women are in each cluster and how many of each age group (young, middle aged, elder) are in each cluster."
      ]
    },
    {
      "cell_type": "code",
      "metadata": {
        "id": "loaZCbEuPiaV",
        "colab_type": "code",
        "colab": {}
      },
      "source": [
        "#load data\n",
        "path = (\"https://raw.githubusercontent.com/llimllib/bostonmarathon/master/results/2014/results.csv\")\n",
        "marathon_df = pd.read_csv(path)"
      ],
      "execution_count": 0,
      "outputs": []
    },
    {
      "cell_type": "markdown",
      "metadata": {
        "id": "iil8yl26Pl4R",
        "colab_type": "text"
      },
      "source": [
        "**Data Exploration**"
      ]
    },
    {
      "cell_type": "code",
      "metadata": {
        "id": "o6zbq1c3PoeX",
        "colab_type": "code",
        "outputId": "3d004645-c23b-432a-fc3c-2eb33afdff6f",
        "colab": {
          "base_uri": "https://localhost:8080/",
          "height": 309
        }
      },
      "source": [
        "#get first 5 rows\n",
        "marathon_df.head()"
      ],
      "execution_count": 3,
      "outputs": [
        {
          "output_type": "execute_result",
          "data": {
            "text/html": [
              "<div>\n",
              "<style scoped>\n",
              "    .dataframe tbody tr th:only-of-type {\n",
              "        vertical-align: middle;\n",
              "    }\n",
              "\n",
              "    .dataframe tbody tr th {\n",
              "        vertical-align: top;\n",
              "    }\n",
              "\n",
              "    .dataframe thead th {\n",
              "        text-align: right;\n",
              "    }\n",
              "</style>\n",
              "<table border=\"1\" class=\"dataframe\">\n",
              "  <thead>\n",
              "    <tr style=\"text-align: right;\">\n",
              "      <th></th>\n",
              "      <th>10k</th>\n",
              "      <th>name</th>\n",
              "      <th>division</th>\n",
              "      <th>25k</th>\n",
              "      <th>gender</th>\n",
              "      <th>age</th>\n",
              "      <th>official</th>\n",
              "      <th>bib</th>\n",
              "      <th>genderdiv</th>\n",
              "      <th>ctz</th>\n",
              "      <th>35k</th>\n",
              "      <th>overall</th>\n",
              "      <th>pace</th>\n",
              "      <th>state</th>\n",
              "      <th>30k</th>\n",
              "      <th>5k</th>\n",
              "      <th>half</th>\n",
              "      <th>20k</th>\n",
              "      <th>country</th>\n",
              "      <th>city</th>\n",
              "      <th>40k</th>\n",
              "    </tr>\n",
              "  </thead>\n",
              "  <tbody>\n",
              "    <tr>\n",
              "      <th>0</th>\n",
              "      <td>17.37</td>\n",
              "      <td>Yamamoto, Hiroyuki</td>\n",
              "      <td>8</td>\n",
              "      <td>47.67</td>\n",
              "      <td>M</td>\n",
              "      <td>47</td>\n",
              "      <td>85.25</td>\n",
              "      <td>W1</td>\n",
              "      <td>8</td>\n",
              "      <td>NaN</td>\n",
              "      <td>71.40</td>\n",
              "      <td>8</td>\n",
              "      <td>3.27</td>\n",
              "      <td>NaN</td>\n",
              "      <td>59.18</td>\n",
              "      <td>8.02</td>\n",
              "      <td>39.72</td>\n",
              "      <td>37.65</td>\n",
              "      <td>JPN</td>\n",
              "      <td>Fukuoka</td>\n",
              "      <td>80.43</td>\n",
              "    </tr>\n",
              "    <tr>\n",
              "      <th>1</th>\n",
              "      <td>32.58</td>\n",
              "      <td>Jeptoo, Rita</td>\n",
              "      <td>1</td>\n",
              "      <td>82.43</td>\n",
              "      <td>F</td>\n",
              "      <td>33</td>\n",
              "      <td>138.95</td>\n",
              "      <td>F1</td>\n",
              "      <td>1</td>\n",
              "      <td>NaN</td>\n",
              "      <td>116.37</td>\n",
              "      <td>21</td>\n",
              "      <td>5.30</td>\n",
              "      <td>NaN</td>\n",
              "      <td>99.33</td>\n",
              "      <td>16.22</td>\n",
              "      <td>69.47</td>\n",
              "      <td>65.83</td>\n",
              "      <td>KEN</td>\n",
              "      <td>Eldoret</td>\n",
              "      <td>132.10</td>\n",
              "    </tr>\n",
              "    <tr>\n",
              "      <th>2</th>\n",
              "      <td>16.62</td>\n",
              "      <td>Van Dyk, Ernst F.</td>\n",
              "      <td>1</td>\n",
              "      <td>45.80</td>\n",
              "      <td>M</td>\n",
              "      <td>41</td>\n",
              "      <td>80.60</td>\n",
              "      <td>W2</td>\n",
              "      <td>1</td>\n",
              "      <td>NaN</td>\n",
              "      <td>67.42</td>\n",
              "      <td>1</td>\n",
              "      <td>3.08</td>\n",
              "      <td>NaN</td>\n",
              "      <td>56.45</td>\n",
              "      <td>7.75</td>\n",
              "      <td>38.03</td>\n",
              "      <td>36.10</td>\n",
              "      <td>RSA</td>\n",
              "      <td>Paarl</td>\n",
              "      <td>76.10</td>\n",
              "    </tr>\n",
              "    <tr>\n",
              "      <th>3</th>\n",
              "      <td>32.57</td>\n",
              "      <td>Dibaba, Mare</td>\n",
              "      <td>3</td>\n",
              "      <td>82.43</td>\n",
              "      <td>F</td>\n",
              "      <td>24</td>\n",
              "      <td>140.58</td>\n",
              "      <td>F2</td>\n",
              "      <td>3</td>\n",
              "      <td>NaN</td>\n",
              "      <td>116.37</td>\n",
              "      <td>27</td>\n",
              "      <td>5.37</td>\n",
              "      <td>NaN</td>\n",
              "      <td>99.33</td>\n",
              "      <td>16.20</td>\n",
              "      <td>69.47</td>\n",
              "      <td>65.83</td>\n",
              "      <td>ETH</td>\n",
              "      <td>Shoa</td>\n",
              "      <td>132.95</td>\n",
              "    </tr>\n",
              "    <tr>\n",
              "      <th>4</th>\n",
              "      <td>17.12</td>\n",
              "      <td>Hokinoue, Kota</td>\n",
              "      <td>2</td>\n",
              "      <td>46.37</td>\n",
              "      <td>M</td>\n",
              "      <td>40</td>\n",
              "      <td>81.23</td>\n",
              "      <td>W3</td>\n",
              "      <td>2</td>\n",
              "      <td>NaN</td>\n",
              "      <td>67.83</td>\n",
              "      <td>2</td>\n",
              "      <td>3.10</td>\n",
              "      <td>NaN</td>\n",
              "      <td>57.03</td>\n",
              "      <td>8.02</td>\n",
              "      <td>38.60</td>\n",
              "      <td>36.58</td>\n",
              "      <td>JPN</td>\n",
              "      <td>Nogata Fukuoka</td>\n",
              "      <td>76.72</td>\n",
              "    </tr>\n",
              "  </tbody>\n",
              "</table>\n",
              "</div>"
            ],
            "text/plain": [
              "     10k                name  division  ... country            city     40k\n",
              "0  17.37  Yamamoto, Hiroyuki         8  ...     JPN         Fukuoka   80.43\n",
              "1  32.58        Jeptoo, Rita         1  ...     KEN         Eldoret  132.10\n",
              "2  16.62   Van Dyk, Ernst F.         1  ...     RSA           Paarl   76.10\n",
              "3  32.57        Dibaba, Mare         3  ...     ETH            Shoa  132.95\n",
              "4  17.12      Hokinoue, Kota         2  ...     JPN  Nogata Fukuoka   76.72\n",
              "\n",
              "[5 rows x 21 columns]"
            ]
          },
          "metadata": {
            "tags": []
          },
          "execution_count": 3
        }
      ]
    },
    {
      "cell_type": "code",
      "metadata": {
        "id": "74tFKfWAPu2f",
        "colab_type": "code",
        "outputId": "0861bc57-2a3d-4c23-98e8-b66268893bd4",
        "colab": {
          "base_uri": "https://localhost:8080/",
          "height": 294
        }
      },
      "source": [
        "#get descriptive stats for numeric variables\n",
        "marathon_df.describe()"
      ],
      "execution_count": 4,
      "outputs": [
        {
          "output_type": "execute_result",
          "data": {
            "text/html": [
              "<div>\n",
              "<style scoped>\n",
              "    .dataframe tbody tr th:only-of-type {\n",
              "        vertical-align: middle;\n",
              "    }\n",
              "\n",
              "    .dataframe tbody tr th {\n",
              "        vertical-align: top;\n",
              "    }\n",
              "\n",
              "    .dataframe thead th {\n",
              "        text-align: right;\n",
              "    }\n",
              "</style>\n",
              "<table border=\"1\" class=\"dataframe\">\n",
              "  <thead>\n",
              "    <tr style=\"text-align: right;\">\n",
              "      <th></th>\n",
              "      <th>division</th>\n",
              "      <th>age</th>\n",
              "      <th>official</th>\n",
              "      <th>genderdiv</th>\n",
              "      <th>overall</th>\n",
              "      <th>pace</th>\n",
              "    </tr>\n",
              "  </thead>\n",
              "  <tbody>\n",
              "    <tr>\n",
              "      <th>count</th>\n",
              "      <td>31984.000000</td>\n",
              "      <td>31984.000000</td>\n",
              "      <td>31984.000000</td>\n",
              "      <td>31984.000000</td>\n",
              "      <td>31984.000000</td>\n",
              "      <td>31984.000000</td>\n",
              "    </tr>\n",
              "    <tr>\n",
              "      <th>mean</th>\n",
              "      <td>1932.563032</td>\n",
              "      <td>42.407079</td>\n",
              "      <td>242.997314</td>\n",
              "      <td>8051.044741</td>\n",
              "      <td>15939.587825</td>\n",
              "      <td>9.275658</td>\n",
              "    </tr>\n",
              "    <tr>\n",
              "      <th>std</th>\n",
              "      <td>1715.228694</td>\n",
              "      <td>11.316496</td>\n",
              "      <td>52.300431</td>\n",
              "      <td>4754.005626</td>\n",
              "      <td>9232.978224</td>\n",
              "      <td>1.992486</td>\n",
              "    </tr>\n",
              "    <tr>\n",
              "      <th>min</th>\n",
              "      <td>1.000000</td>\n",
              "      <td>18.000000</td>\n",
              "      <td>80.600000</td>\n",
              "      <td>1.000000</td>\n",
              "      <td>1.000000</td>\n",
              "      <td>3.080000</td>\n",
              "    </tr>\n",
              "    <tr>\n",
              "      <th>25%</th>\n",
              "      <td>610.000000</td>\n",
              "      <td>33.000000</td>\n",
              "      <td>205.527500</td>\n",
              "      <td>3972.000000</td>\n",
              "      <td>7943.750000</td>\n",
              "      <td>7.850000</td>\n",
              "    </tr>\n",
              "    <tr>\n",
              "      <th>50%</th>\n",
              "      <td>1425.000000</td>\n",
              "      <td>42.000000</td>\n",
              "      <td>232.370000</td>\n",
              "      <td>7970.000000</td>\n",
              "      <td>15939.500000</td>\n",
              "      <td>8.870000</td>\n",
              "    </tr>\n",
              "    <tr>\n",
              "      <th>75%</th>\n",
              "      <td>2611.000000</td>\n",
              "      <td>50.000000</td>\n",
              "      <td>273.235000</td>\n",
              "      <td>11968.000000</td>\n",
              "      <td>23935.250000</td>\n",
              "      <td>10.430000</td>\n",
              "    </tr>\n",
              "    <tr>\n",
              "      <th>max</th>\n",
              "      <td>6979.000000</td>\n",
              "      <td>81.000000</td>\n",
              "      <td>538.880000</td>\n",
              "      <td>17575.000000</td>\n",
              "      <td>31931.000000</td>\n",
              "      <td>20.570000</td>\n",
              "    </tr>\n",
              "  </tbody>\n",
              "</table>\n",
              "</div>"
            ],
            "text/plain": [
              "           division           age  ...       overall          pace\n",
              "count  31984.000000  31984.000000  ...  31984.000000  31984.000000\n",
              "mean    1932.563032     42.407079  ...  15939.587825      9.275658\n",
              "std     1715.228694     11.316496  ...   9232.978224      1.992486\n",
              "min        1.000000     18.000000  ...      1.000000      3.080000\n",
              "25%      610.000000     33.000000  ...   7943.750000      7.850000\n",
              "50%     1425.000000     42.000000  ...  15939.500000      8.870000\n",
              "75%     2611.000000     50.000000  ...  23935.250000     10.430000\n",
              "max     6979.000000     81.000000  ...  31931.000000     20.570000\n",
              "\n",
              "[8 rows x 6 columns]"
            ]
          },
          "metadata": {
            "tags": []
          },
          "execution_count": 4
        }
      ]
    },
    {
      "cell_type": "code",
      "metadata": {
        "id": "Mc6_eg9gPvCc",
        "colab_type": "code",
        "outputId": "0eefbaaa-5f9b-4345-fd97-e42dbaaa13b6",
        "colab": {
          "base_uri": "https://localhost:8080/",
          "height": 503
        }
      },
      "source": [
        "#data types\n",
        "marathon_df.info()"
      ],
      "execution_count": 5,
      "outputs": [
        {
          "output_type": "stream",
          "text": [
            "<class 'pandas.core.frame.DataFrame'>\n",
            "RangeIndex: 31984 entries, 0 to 31983\n",
            "Data columns (total 21 columns):\n",
            " #   Column     Non-Null Count  Dtype  \n",
            "---  ------     --------------  -----  \n",
            " 0   10k        31984 non-null  object \n",
            " 1   name       31984 non-null  object \n",
            " 2   division   31984 non-null  int64  \n",
            " 3   25k        31984 non-null  object \n",
            " 4   gender     31984 non-null  object \n",
            " 5   age        31984 non-null  int64  \n",
            " 6   official   31984 non-null  float64\n",
            " 7   bib        31984 non-null  object \n",
            " 8   genderdiv  31984 non-null  int64  \n",
            " 9   ctz        1244 non-null   object \n",
            " 10  35k        31984 non-null  object \n",
            " 11  overall    31984 non-null  int64  \n",
            " 12  pace       31984 non-null  float64\n",
            " 13  state      29408 non-null  object \n",
            " 14  30k        31984 non-null  object \n",
            " 15  5k         31984 non-null  object \n",
            " 16  half       31984 non-null  object \n",
            " 17  20k        31984 non-null  object \n",
            " 18  country    31984 non-null  object \n",
            " 19  city       31983 non-null  object \n",
            " 20  40k        31984 non-null  object \n",
            "dtypes: float64(2), int64(4), object(15)\n",
            "memory usage: 5.1+ MB\n"
          ],
          "name": "stdout"
        }
      ]
    },
    {
      "cell_type": "markdown",
      "metadata": {
        "id": "ukqA33f6LOIn",
        "colab_type": "text"
      },
      "source": [
        "Several of the variables that should be integers are actually objects. I will fix this issue now."
      ]
    },
    {
      "cell_type": "code",
      "metadata": {
        "id": "CmQ_YF0_P5dr",
        "colab_type": "code",
        "colab": {}
      },
      "source": [
        "#convert strings to numeric (10k etc)\n",
        "\n",
        "marathon_df['40k'] = pd.to_numeric(marathon_df['40k'], errors='coerce')\n",
        "marathon_df['20k'] = pd.to_numeric(marathon_df['20k'], errors='coerce')\n",
        "marathon_df['half'] = pd.to_numeric(marathon_df['half'], errors='coerce')\n",
        "marathon_df['5k'] = pd.to_numeric(marathon_df['5k'], errors='coerce')\n",
        "marathon_df['30k'] = pd.to_numeric(marathon_df['30k'], errors='coerce')\n",
        "marathon_df['35k'] = pd.to_numeric(marathon_df['35k'], errors='coerce')\n",
        "marathon_df['25k'] = pd.to_numeric(marathon_df['25k'], errors='coerce')\n",
        "marathon_df['10k'] = pd.to_numeric(marathon_df['10k'], errors='coerce')"
      ],
      "execution_count": 0,
      "outputs": []
    },
    {
      "cell_type": "code",
      "metadata": {
        "id": "h0TY3E1RRDsE",
        "colab_type": "code",
        "outputId": "27d6865d-d430-429c-f3e3-12dae378d60c",
        "colab": {
          "base_uri": "https://localhost:8080/",
          "height": 399
        }
      },
      "source": [
        "#check missing values\n",
        "marathon_df.isnull().sum()*100/marathon_df.isnull().count()"
      ],
      "execution_count": 7,
      "outputs": [
        {
          "output_type": "execute_result",
          "data": {
            "text/plain": [
              "10k           0.156328\n",
              "name          0.000000\n",
              "division      0.000000\n",
              "25k           0.675338\n",
              "gender        0.000000\n",
              "age           0.000000\n",
              "official      0.000000\n",
              "bib           0.000000\n",
              "genderdiv     0.000000\n",
              "ctz          96.110555\n",
              "35k           0.106303\n",
              "overall       0.000000\n",
              "pace          0.000000\n",
              "state         8.054027\n",
              "30k           0.125063\n",
              "5k            0.162581\n",
              "half          0.225113\n",
              "20k           0.159455\n",
              "country       0.000000\n",
              "city          0.003127\n",
              "40k           0.121936\n",
              "dtype: float64"
            ]
          },
          "metadata": {
            "tags": []
          },
          "execution_count": 7
        }
      ]
    },
    {
      "cell_type": "code",
      "metadata": {
        "id": "U8ED9pXCQzAB",
        "colab_type": "code",
        "colab": {}
      },
      "source": [
        "#K means and UMAP require numeric data. I will drop these because they are not needed\n",
        "marathon_df.drop(('ctz'), axis =1, inplace=True)\n",
        "marathon_df.drop(('name'), axis =1, inplace=True)\n",
        "marathon_df.drop(('bib'), axis=1, inplace=True)\n",
        "#drop state due to missing values\n",
        "marathon_df.drop(('state'), axis = 1, inplace=True)"
      ],
      "execution_count": 0,
      "outputs": []
    },
    {
      "cell_type": "code",
      "metadata": {
        "id": "mqMvcV8fRd9v",
        "colab_type": "code",
        "outputId": "ca3ac85c-60c5-4075-83eb-482beaa9724f",
        "colab": {
          "base_uri": "https://localhost:8080/",
          "height": 35
        }
      },
      "source": [
        "#convert, drop missing\n",
        "np.nan_to_num(marathon_df)\n",
        "marathon_df.dropna(inplace=True)\n",
        "marathon_df.shape"
      ],
      "execution_count": 9,
      "outputs": [
        {
          "output_type": "execute_result",
          "data": {
            "text/plain": [
              "(31648, 17)"
            ]
          },
          "metadata": {
            "tags": []
          },
          "execution_count": 9
        }
      ]
    },
    {
      "cell_type": "code",
      "metadata": {
        "id": "GGLFj0KDRjZD",
        "colab_type": "code",
        "outputId": "975ecceb-ba11-43c8-e6c2-7782abfa5da3",
        "colab": {
          "base_uri": "https://localhost:8080/",
          "height": 329
        }
      },
      "source": [
        "marathon_df.isnull().sum()"
      ],
      "execution_count": 10,
      "outputs": [
        {
          "output_type": "execute_result",
          "data": {
            "text/plain": [
              "10k          0\n",
              "division     0\n",
              "25k          0\n",
              "gender       0\n",
              "age          0\n",
              "official     0\n",
              "genderdiv    0\n",
              "35k          0\n",
              "overall      0\n",
              "pace         0\n",
              "30k          0\n",
              "5k           0\n",
              "half         0\n",
              "20k          0\n",
              "country      0\n",
              "city         0\n",
              "40k          0\n",
              "dtype: int64"
            ]
          },
          "metadata": {
            "tags": []
          },
          "execution_count": 10
        }
      ]
    },
    {
      "cell_type": "code",
      "metadata": {
        "id": "WrE4rQhg_Aeb",
        "colab_type": "code",
        "colab": {}
      },
      "source": [
        "#create categories for age groups \n",
        "bins= [18,40, 60, 81]\n",
        "labels = ['Young','Middle Aged','Elder']\n",
        "marathon_df['AgeGroup'] = pd.cut(marathon_df['age'], bins=bins, labels=labels, include_lowest = True)\n",
        "\n"
      ],
      "execution_count": 0,
      "outputs": []
    },
    {
      "cell_type": "markdown",
      "metadata": {
        "id": "kH8WSCf3RpEj",
        "colab_type": "text"
      },
      "source": [
        "***Dimensionality Reduction (for Visualization Purposes): t_SNE and PCA*** "
      ]
    },
    {
      "cell_type": "code",
      "metadata": {
        "id": "xqyzrZunRrY_",
        "colab_type": "code",
        "colab": {}
      },
      "source": [
        "#define X and y (target feature is official for official race time)\n",
        "X = marathon_df.drop(['overall'], axis = 1).copy()\n",
        "y = marathon_df['overall']\n",
        "#convert string variables to categorical\n",
        "list_to_categorical = ['gender', 'country', 'city', 'AgeGroup']\n",
        "for n in list_to_categorical:\n",
        "    \n",
        "    X[n] = pd.Categorical(X[n])\n",
        "    X[n] = X[n].cat.codes\n",
        "\n"
      ],
      "execution_count": 0,
      "outputs": []
    },
    {
      "cell_type": "markdown",
      "metadata": {
        "id": "72O7OR1uL__X",
        "colab_type": "text"
      },
      "source": [
        "**t-SNE:**"
      ]
    },
    {
      "cell_type": "code",
      "metadata": {
        "id": "TAHCmwRyCp2P",
        "colab_type": "code",
        "colab": {
          "base_uri": "https://localhost:8080/",
          "height": 676
        },
        "outputId": "3ad7b20b-0e85-47b0-8cb9-fc84b466921d"
      },
      "source": [
        "tsne = TSNE(n_components=2, verbose=1, perplexity=40, n_iter=300)\n",
        "tsne_results = tsne.fit_transform(X)"
      ],
      "execution_count": 13,
      "outputs": [
        {
          "output_type": "stream",
          "text": [
            "[t-SNE] Computing 121 nearest neighbors...\n",
            "[t-SNE] Indexed 31648 samples in 0.083s...\n",
            "[t-SNE] Computed neighbors for 31648 samples in 2.012s...\n",
            "[t-SNE] Computed conditional probabilities for sample 1000 / 31648\n",
            "[t-SNE] Computed conditional probabilities for sample 2000 / 31648\n",
            "[t-SNE] Computed conditional probabilities for sample 3000 / 31648\n",
            "[t-SNE] Computed conditional probabilities for sample 4000 / 31648\n",
            "[t-SNE] Computed conditional probabilities for sample 5000 / 31648\n",
            "[t-SNE] Computed conditional probabilities for sample 6000 / 31648\n",
            "[t-SNE] Computed conditional probabilities for sample 7000 / 31648\n",
            "[t-SNE] Computed conditional probabilities for sample 8000 / 31648\n",
            "[t-SNE] Computed conditional probabilities for sample 9000 / 31648\n",
            "[t-SNE] Computed conditional probabilities for sample 10000 / 31648\n",
            "[t-SNE] Computed conditional probabilities for sample 11000 / 31648\n",
            "[t-SNE] Computed conditional probabilities for sample 12000 / 31648\n",
            "[t-SNE] Computed conditional probabilities for sample 13000 / 31648\n",
            "[t-SNE] Computed conditional probabilities for sample 14000 / 31648\n",
            "[t-SNE] Computed conditional probabilities for sample 15000 / 31648\n",
            "[t-SNE] Computed conditional probabilities for sample 16000 / 31648\n",
            "[t-SNE] Computed conditional probabilities for sample 17000 / 31648\n",
            "[t-SNE] Computed conditional probabilities for sample 18000 / 31648\n",
            "[t-SNE] Computed conditional probabilities for sample 19000 / 31648\n",
            "[t-SNE] Computed conditional probabilities for sample 20000 / 31648\n",
            "[t-SNE] Computed conditional probabilities for sample 21000 / 31648\n",
            "[t-SNE] Computed conditional probabilities for sample 22000 / 31648\n",
            "[t-SNE] Computed conditional probabilities for sample 23000 / 31648\n",
            "[t-SNE] Computed conditional probabilities for sample 24000 / 31648\n",
            "[t-SNE] Computed conditional probabilities for sample 25000 / 31648\n",
            "[t-SNE] Computed conditional probabilities for sample 26000 / 31648\n",
            "[t-SNE] Computed conditional probabilities for sample 27000 / 31648\n",
            "[t-SNE] Computed conditional probabilities for sample 28000 / 31648\n",
            "[t-SNE] Computed conditional probabilities for sample 29000 / 31648\n",
            "[t-SNE] Computed conditional probabilities for sample 30000 / 31648\n",
            "[t-SNE] Computed conditional probabilities for sample 31000 / 31648\n",
            "[t-SNE] Computed conditional probabilities for sample 31648 / 31648\n",
            "[t-SNE] Mean sigma: 32.859187\n",
            "[t-SNE] KL divergence after 250 iterations with early exaggeration: 78.346069\n",
            "[t-SNE] KL divergence after 300 iterations: 3.588962\n"
          ],
          "name": "stdout"
        }
      ]
    },
    {
      "cell_type": "code",
      "metadata": {
        "id": "X9ULK_oJC2Bk",
        "colab_type": "code",
        "colab": {
          "base_uri": "https://localhost:8080/",
          "height": 248
        },
        "outputId": "b6bdeb41-183a-4db7-b298-7ff56e679952"
      },
      "source": [
        "#plot t-SNE \n",
        "plt.scatter(tsne_results[:, 0], tsne_results[:, 1])\n",
        "plt.xticks([])\n",
        "plt.yticks([])\n",
        "plt.axis('off')\n",
        "plt.show()"
      ],
      "execution_count": 14,
      "outputs": [
        {
          "output_type": "display_data",
          "data": {
            "image/png": "[encoded data removed]",
            "text/plain": [
              "<Figure size 432x288 with 1 Axes>"
            ]
          },
          "metadata": {
            "tags": []
          }
        }
      ]
    },
    {
      "cell_type": "markdown",
      "metadata": {
        "id": "BJvheLDiMHym",
        "colab_type": "text"
      },
      "source": [
        "Visualizing the data in two dimensions using t-SNE is helpful. The above graphic illustrates that there are several clusters. It is difficult to decipher the exact number of clusters, but it looks like there are 4 or 5 clusters. "
      ]
    },
    {
      "cell_type": "markdown",
      "metadata": {
        "id": "qMfR9CqyM8KJ",
        "colab_type": "text"
      },
      "source": [
        "**PCA with 2 components (for 2D visualization)**"
      ]
    },
    {
      "cell_type": "code",
      "metadata": {
        "id": "kFvdpnurFMjZ",
        "colab_type": "code",
        "colab": {
          "base_uri": "https://localhost:8080/",
          "height": 303
        },
        "outputId": "2a142991-6694-4cc5-dbb2-36f1d8fa9368"
      },
      "source": [
        "# Use 2 components for two dimensions\n",
        "pca = PCA(n_components=2)\n",
        "\n",
        "pca_components = pca.fit_transform(X)\n",
        "\n",
        "plt.figure(figsize=(10,5))\n",
        "plt.scatter(pca_components[:, 0], pca_components[:, 1])\n",
        "plt.xticks([])\n",
        "plt.yticks([])\n",
        "plt.axis('off')\n",
        "plt.show()"
      ],
      "execution_count": 15,
      "outputs": [
        {
          "output_type": "display_data",
          "data": {
            "image/png": "[encoded data removed]",
            "text/plain": [
              "<Figure size 720x360 with 1 Axes>"
            ]
          },
          "metadata": {
            "tags": []
          }
        }
      ]
    },
    {
      "cell_type": "markdown",
      "metadata": {
        "id": "vjhChSl3NLyk",
        "colab_type": "text"
      },
      "source": [
        "As the above graphic shows, PCA is not very helpful as a visualization technique. While PCA is great for reducing complexity, it does not stack up well against t-SNE in terms of helping us visualize the different clusters in the data."
      ]
    },
    {
      "cell_type": "markdown",
      "metadata": {
        "id": "DN_h-irwD9Ck",
        "colab_type": "text"
      },
      "source": [
        "**K Means**"
      ]
    },
    {
      "cell_type": "code",
      "metadata": {
        "id": "msi8f0PzTh_t",
        "colab_type": "code",
        "colab": {}
      },
      "source": [
        "# K mean is sensitive to the scale of data, so we standarize:\n",
        "scaler = StandardScaler()\n",
        "X_std = scaler.fit_transform(X)"
      ],
      "execution_count": 0,
      "outputs": []
    },
    {
      "cell_type": "markdown",
      "metadata": {
        "id": "yUMzAinWP0Bv",
        "colab_type": "text"
      },
      "source": [
        "Since I do not know the true clustering, I will run k-means with 2-6 clusters and compare the solutions. "
      ]
    },
    {
      "cell_type": "code",
      "metadata": {
        "id": "Tp9LuDgdT6e4",
        "colab_type": "code",
        "colab": {}
      },
      "source": [
        "#fit k means and get predictions (2-6 cluster solutions)\n",
        "pred_2 = KMeans(n_clusters=2, random_state=123).fit_predict(X_std)\n",
        "pred_3 = KMeans(n_clusters=3, random_state=123).fit_predict(X_std)\n",
        "pred_4 = KMeans(n_clusters=4, random_state=123).fit_predict(X_std)\n",
        "pred_5 = KMeans(n_clusters=5, random_state=123).fit_predict(X_std)\n",
        "pred_6 = KMeans(n_clusters=6, random_state=123).fit_predict(X_std)"
      ],
      "execution_count": 0,
      "outputs": []
    },
    {
      "cell_type": "code",
      "metadata": {
        "id": "Y2r3e2p2UFgf",
        "colab_type": "code",
        "outputId": "f7e37e09-6cee-45e1-c49c-724d67909e66",
        "colab": {
          "base_uri": "https://localhost:8080/",
          "height": 104
        }
      },
      "source": [
        "#get silhouette scores for each\n",
        "print(\"Silhouette score for two cluster k-means: {}\".format(\n",
        "    metrics.silhouette_score(X_std, pred_2, metric='euclidean')))\n",
        "print(\"Silhouette score for three cluster k-means: {}\".format(\n",
        "    metrics.silhouette_score(X_std, pred_3, metric='euclidean')))\n",
        "print(\"Silhouette score for four cluster k-means: {}\".format(\n",
        "    metrics.silhouette_score(X_std, pred_4, metric='euclidean')))\n",
        "print(\"Silhouette score for five cluster k-means: {}\".format(\n",
        "    metrics.silhouette_score(X_std, pred_5, 'euclidean')))\n",
        "print(\"Silhouette score for six cluster k-means: {}\".format(\n",
        "    metrics.silhouette_score(X_std, pred_6, 'euclidean')))"
      ],
      "execution_count": 18,
      "outputs": [
        {
          "output_type": "stream",
          "text": [
            "Silhouette score for two cluster k-means: 0.3709450080199346\n",
            "Silhouette score for three cluster k-means: 0.2483384650246784\n",
            "Silhouette score for four cluster k-means: 0.23849038122911373\n",
            "Silhouette score for five cluster k-means: 0.21990264564332737\n",
            "Silhouette score for six cluster k-means: 0.21876429607139514\n"
          ],
          "name": "stdout"
        }
      ]
    },
    {
      "cell_type": "markdown",
      "metadata": {
        "id": "ZcasW4biVEID",
        "colab_type": "text"
      },
      "source": [
        "The silhouette score is highest for the 2 cluster solution. However, for the last part of the analysis (when I compare men/women and the different age groups), I will use the 4 cluster solution. This is because it is difficult to perform an analysis with only 2 clusters. Since the silhouette scores for the 3 and 4 cluster solutions are so similar, I will choose the 4 cluster solution."
      ]
    },
    {
      "cell_type": "code",
      "metadata": {
        "id": "nYYBWvfzH_on",
        "colab_type": "code",
        "colab": {
          "base_uri": "https://localhost:8080/",
          "height": 267
        },
        "outputId": "5f432e36-5cfc-4e61-f95a-1a0cc734ad34"
      },
      "source": [
        "#visualize the k-means 4 cluster solution using 2 PCA components\n",
        "\n",
        "X_pca = PCA(2).fit_transform(X_std)\n",
        "\n",
        "y_pred = KMeans(n_clusters=4, random_state=123).fit_predict(X_std)\n",
        "\n",
        "# Plot the solution\n",
        "plt.scatter(X_pca[:, 0], X_pca[:, 1], c=y_pred)\n",
        "plt.show()\n"
      ],
      "execution_count": 21,
      "outputs": [
        {
          "output_type": "display_data",
          "data": {
            "image/png": "[encoded data removed]",
            "text/plain": [
              "<Figure size 432x288 with 1 Axes>"
            ]
          },
          "metadata": {
            "tags": []
          }
        }
      ]
    },
    {
      "cell_type": "markdown",
      "metadata": {
        "id": "4JuSuOG2UmRK",
        "colab_type": "text"
      },
      "source": [
        "**GMM Clustering**"
      ]
    },
    {
      "cell_type": "code",
      "metadata": {
        "id": "eNw2gwleYhCc",
        "colab_type": "code",
        "outputId": "312388d0-88e3-49e4-e327-10ab33170929",
        "colab": {
          "base_uri": "https://localhost:8080/",
          "height": 104
        }
      },
      "source": [
        "# Defining the agglomerative clustering for 2 clusters\n",
        "gmm_cluster2 = GaussianMixture(n_components=2, random_state=123)\n",
        "\n",
        "# Fit model\n",
        "clusters2 = gmm_cluster2.fit_predict(X_std)\n",
        "#get silhouette score 2 cluster solution\n",
        "print(\"Silhouette score for GMM 2 cluster solution: {}\".format(\n",
        "    metrics.silhouette_score(X_std, clusters2, metric='euclidean')))\n",
        "\n",
        "# Defining the agglomerative clustering for 3 clusters\n",
        "gmm_cluster3 = GaussianMixture(n_components=3, random_state=123)\n",
        "\n",
        "# Fit model\n",
        "clusters3 = gmm_cluster3.fit_predict(X_std)\n",
        "#get silhouette score 3 cluster solution\n",
        "print(\"Silhouette score for GMM 3 cluster solution: {}\".format(\n",
        "    metrics.silhouette_score(X_std, clusters3, metric='euclidean')))\n",
        "\n",
        "# Defining the agglomerative clustering for 4 clusters\n",
        "gmm_cluster4 = GaussianMixture(n_components=4, random_state=123)\n",
        "\n",
        "# Fit model\n",
        "clusters4 = gmm_cluster4.fit_predict(X_std)\n",
        "#get silhouette score 4 cluster solution\n",
        "print(\"Silhouette score for  for GMM 4 cluster solution: {}\".format(\n",
        "    metrics.silhouette_score(X_std, clusters4, metric='euclidean')))\n",
        "\n",
        "# Defining the agglomerative clustering for 5 clusters\n",
        "gmm_cluster5 = GaussianMixture(n_components=5, random_state=123)\n",
        "\n",
        "# Fit model\n",
        "clusters5 = gmm_cluster5.fit_predict(X_std)\n",
        "#get silhouette score 5 cluster solution\n",
        "print(\"Silhouette score for GMM 5 cluster solution: {}\".format(\n",
        "    metrics.silhouette_score(X_std, clusters5, metric='euclidean')))\n",
        "\n",
        "# Defining the agglomerative clustering for 6 clusters\n",
        "gmm_cluster6 = GaussianMixture(n_components=6, random_state=123)\n",
        "\n",
        "# Fit model\n",
        "clusters6 = gmm_cluster6.fit_predict(X_std)\n",
        "#get silhouette score 6 cluster solution\n",
        "print(\"Silhouette score for GMM 6 cluster solution: {}\".format(\n",
        "    metrics.silhouette_score(X_std, clusters6, metric='euclidean')))\n"
      ],
      "execution_count": 22,
      "outputs": [
        {
          "output_type": "stream",
          "text": [
            "Silhouette score for GMM 2 cluster solution: 0.2762941846761903\n",
            "Silhouette score for GMM 3 cluster solution: 0.12889046246480151\n",
            "Silhouette score for  for GMM 4 cluster solution: 0.11377245404915237\n",
            "Silhouette score for GMM 5 cluster solution: 0.07619926287989609\n",
            "Silhouette score for GMM 6 cluster solution: 0.08684955331296487\n"
          ],
          "name": "stdout"
        }
      ]
    },
    {
      "cell_type": "code",
      "metadata": {
        "id": "0QBZmT9SZqY6",
        "colab_type": "code",
        "outputId": "0512868f-0f3b-45e1-d1cc-8e2c564a9394",
        "colab": {
          "base_uri": "https://localhost:8080/",
          "height": 267
        }
      },
      "source": [
        "# Plot the GMM 4 cluster solution.\n",
        "plt.scatter(X_pca[:, 0], X_pca[:, 1], c=clusters4)\n",
        "plt.show()\n"
      ],
      "execution_count": 23,
      "outputs": [
        {
          "output_type": "display_data",
          "data": {
            "image/png": "[encoded data removed]",
            "text/plain": [
              "<Figure size 432x288 with 1 Axes>"
            ]
          },
          "metadata": {
            "tags": []
          }
        }
      ]
    },
    {
      "cell_type": "markdown",
      "metadata": {
        "id": "mtqRowa0Z7TP",
        "colab_type": "text"
      },
      "source": [
        "Comparing k-means and GMM, k-means performed better. For every number of cluster, the silhouette scores were higher for the k-means solution than for the GMM solution. This tells me that k-means produced better, denser clusters for this dataset. The two plots for the 4 cluster solutions confirm this conclusion. The k means 4 cluster solution plot illustrates more dense clusters in comparison to the GMM 4 cluster solution plot. "
      ]
    },
    {
      "cell_type": "markdown",
      "metadata": {
        "id": "3cZouo2texJ1",
        "colab_type": "text"
      },
      "source": [
        "Focusing on the k-means 4 cluster solution, I want to compare clusters. First, in terms of male/female, then in terms of age groups (18-35, 36-55, etc). Females are coded as 0 and males are coded as 1. The age groups are as follows: young (18-39), middle aged (40-59), elder (60+).\n"
      ]
    },
    {
      "cell_type": "code",
      "metadata": {
        "id": "lvhsr9aXzNEM",
        "colab_type": "code",
        "colab": {}
      },
      "source": [
        "#re-run K means with 4 clusters\n",
        "X_std = scaler.fit_transform(X)\n",
        "\n",
        "kmeans = KMeans(n_clusters=4, random_state=42)\n",
        "\n",
        "kmeans.fit(X_std)\n",
        "#add kmeans_gender predictions to X\n",
        "X['kmeans_gender'] = kmeans.labels_"
      ],
      "execution_count": 0,
      "outputs": []
    },
    {
      "cell_type": "code",
      "metadata": {
        "id": "k9JFy9ZHVQUn",
        "colab_type": "code",
        "colab": {
          "base_uri": "https://localhost:8080/",
          "height": 87
        },
        "outputId": "c2ba7680-19b5-48bf-d4c1-335b5ae382b4"
      },
      "source": [
        "#see gender breakdown pre-clustering\n",
        "X.groupby(['gender']).size()"
      ],
      "execution_count": 26,
      "outputs": [
        {
          "output_type": "execute_result",
          "data": {
            "text/plain": [
              "gender\n",
              "0    14164\n",
              "1    17484\n",
              "dtype: int64"
            ]
          },
          "metadata": {
            "tags": []
          },
          "execution_count": 26
        }
      ]
    },
    {
      "cell_type": "code",
      "metadata": {
        "id": "OUSJAlAcJDT7",
        "colab_type": "code",
        "colab": {
          "base_uri": "https://localhost:8080/",
          "height": 191
        },
        "outputId": "5dd99cbf-45f0-4076-b7e0-6c9de521897f"
      },
      "source": [
        "#get gender breakdown per cluster\n",
        "X.groupby(['kmeans_gender','gender']).size()"
      ],
      "execution_count": 25,
      "outputs": [
        {
          "output_type": "execute_result",
          "data": {
            "text/plain": [
              "kmeans_gender  gender\n",
              "0              0         2288\n",
              "               1         8060\n",
              "1              0         4724\n",
              "               1         5252\n",
              "2              0         3174\n",
              "               1         2802\n",
              "3              0         3978\n",
              "               1         1370\n",
              "dtype: int64"
            ]
          },
          "metadata": {
            "tags": []
          },
          "execution_count": 25
        }
      ]
    },
    {
      "cell_type": "code",
      "metadata": {
        "id": "4j1-OULutnWa",
        "colab_type": "code",
        "colab": {
          "base_uri": "https://localhost:8080/",
          "height": 295
        },
        "outputId": "7fa26b47-3acb-43aa-cac0-c45b74cddc02"
      },
      "source": [
        "pd.crosstab(X['kmeans_gender'],marathon_df['gender']).plot.bar(stacked=True)"
      ],
      "execution_count": 29,
      "outputs": [
        {
          "output_type": "execute_result",
          "data": {
            "text/plain": [
              "<matplotlib.axes._subplots.AxesSubplot at 0x7f4c82deaeb8>"
            ]
          },
          "metadata": {
            "tags": []
          },
          "execution_count": 29
        },
        {
          "output_type": "display_data",
          "data": {
            "image/png": "[encoded data removed]",
            "text/plain": [
              "<Figure size 432x288 with 1 Axes>"
            ]
          },
          "metadata": {
            "tags": []
          }
        }
      ]
    },
    {
      "cell_type": "markdown",
      "metadata": {
        "id": "WwX6MhneXkCr",
        "colab_type": "text"
      },
      "source": [
        "While the number of men and women who raced in the 2014 Boston Marathon was fairly evenly distributed, this is not the case in the 4 cluster solution. As the above bar graph illustrates, there are significantly more men than women in the first cluster but there are many more women than men in the fourth cluster. Since k-means groups based on similarity/distance, I think this graphic and the clustering are illustrating that men (in general) had faster race times. I bet that cluster 1 (or 0 in the plot) is a grouping of those who finished earlier while cluster 4 is a grouping of those who finished later.  "
      ]
    },
    {
      "cell_type": "code",
      "metadata": {
        "id": "ZFap-pZq8SzL",
        "colab_type": "code",
        "colab": {}
      },
      "source": [
        "#add kmeans_AgeGroup predictions to X\n",
        "X['kmeans_AgeGroup'] = kmeans.labels_\n"
      ],
      "execution_count": 0,
      "outputs": []
    },
    {
      "cell_type": "code",
      "metadata": {
        "id": "Vgm7qw5NZIDU",
        "colab_type": "code",
        "colab": {
          "base_uri": "https://localhost:8080/",
          "height": 104
        },
        "outputId": "3aaf142f-e057-489f-d6d0-f714d07521e9"
      },
      "source": [
        "#see age group breakdown pre-clustering\n",
        "X.groupby(['AgeGroup']).size()"
      ],
      "execution_count": 31,
      "outputs": [
        {
          "output_type": "execute_result",
          "data": {
            "text/plain": [
              "AgeGroup\n",
              "0    13879\n",
              "1    15855\n",
              "2     1914\n",
              "dtype: int64"
            ]
          },
          "metadata": {
            "tags": []
          },
          "execution_count": 31
        }
      ]
    },
    {
      "cell_type": "code",
      "metadata": {
        "id": "O3ch4gv-87Tt",
        "colab_type": "code",
        "colab": {
          "base_uri": "https://localhost:8080/",
          "height": 225
        },
        "outputId": "2bafe271-26f0-44e8-cec3-a0698a7c45e2"
      },
      "source": [
        "#count of age groups in each cluster\n",
        "X.groupby(['kmeans_AgeGroup','AgeGroup']).size()"
      ],
      "execution_count": 32,
      "outputs": [
        {
          "output_type": "execute_result",
          "data": {
            "text/plain": [
              "kmeans_AgeGroup  AgeGroup\n",
              "0                0           5580\n",
              "                 1           4735\n",
              "                 2             33\n",
              "1                0              5\n",
              "                 1           8549\n",
              "                 2           1422\n",
              "2                0           2946\n",
              "                 1           2571\n",
              "                 2            459\n",
              "3                0           5348\n",
              "dtype: int64"
            ]
          },
          "metadata": {
            "tags": []
          },
          "execution_count": 32
        }
      ]
    },
    {
      "cell_type": "code",
      "metadata": {
        "id": "W-0jyFBzpbvk",
        "colab_type": "code",
        "colab": {
          "base_uri": "https://localhost:8080/",
          "height": 295
        },
        "outputId": "b52ae6b3-28fe-4586-eb23-98ad04961936"
      },
      "source": [
        "pd.crosstab(X['kmeans_AgeGroup'],marathon_df['AgeGroup']).plot.bar(stacked=True)"
      ],
      "execution_count": 33,
      "outputs": [
        {
          "output_type": "execute_result",
          "data": {
            "text/plain": [
              "<matplotlib.axes._subplots.AxesSubplot at 0x7f4c82d64358>"
            ]
          },
          "metadata": {
            "tags": []
          },
          "execution_count": 33
        },
        {
          "output_type": "display_data",
          "data": {
            "image/png": "[encoded data removed]",
            "text/plain": [
              "<Figure size 432x288 with 1 Axes>"
            ]
          },
          "metadata": {
            "tags": []
          }
        }
      ]
    },
    {
      "cell_type": "markdown",
      "metadata": {
        "id": "m3HF5aozZU4x",
        "colab_type": "text"
      },
      "source": [
        "While the number of young and middle-aged marathon runners is similar, the number of elder runners is much smaller. The first cluster has a fairly even number of middle aged and young runners but only a small amount of elder runners (33). The second cluster has a very large number of middle aged participants, a small number of elder participants, and a negligible number of elder runners. Of the 4 clusters, the third cluster has the most even distribution of the 3 groups. The fourth cluster is entirely young participants. These clusters are logical to me since k-means clusters based on similarity/distance. The above graphic illustrates to me that participants can be clearly grouped into clusters based on their age group. This is logical as young people (mostly) run faster than those aged 60+ and so on. I would expect that cluster 4 had the fastest race times while cluster 2 had the slowest."
      ]
    },
    {
      "cell_type": "markdown",
      "metadata": {
        "id": "is1EDrzxbZ6Y",
        "colab_type": "text"
      },
      "source": [
        "**Summary**\n",
        "\n",
        "For this particular dataset, k-means produced denser clusters. In general, k-means was useful because I was able to see how the different runners clustered together in meaningful ways, looking closely at gender and age group. In terms of dimensionality reduction for visualization purposes, t-SNE was superior to PCA. This is logical because t-SNE aims to maintain local similarity while PCA focuses on maximizing variance."
      ]
    }
  ]
}