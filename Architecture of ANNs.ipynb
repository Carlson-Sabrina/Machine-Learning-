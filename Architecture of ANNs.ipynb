{
 "cells": [
  {
   "cell_type": "markdown",
   "metadata": {},
   "source": [
    "### Please specify whether the following arguments are true or false:  \n",
    "\n",
    "ANNs are the only neural network architecture that perform reasonably well in real-world tasks.  \n",
    "\n",
    "Answer:  False\n",
    "\n",
    "The sample size of the training data is a hyperparameter of an ANN model.  \n",
    "\n",
    "Answer:  False\n",
    "\n",
    "In the checkpoint, we covered two hyperparameters of ANNs: number of layers and number of neurons in the layers. But, there are also other hyperparameters of the model.  \n",
    "\n",
    "Answer: True\n",
    "\n",
    "\n",
    "Output layer of an ANN can only contain one neuron.  \n",
    "\n",
    "Answer:  False\n",
    "\n",
    "\n"
   ]
  },
  {
   "cell_type": "markdown",
   "metadata": {},
   "source": [
    "### We have data with 10 features and we designed an ANN to be trained on this data. If we have three layers with 512 neurons each in this ANN, how many parameters do we need to estimate?  \n",
    "\n",
    "Answer: \n",
    "In each layer, the parameters to be estimated include the weights (for the features), the bias (or constant) term, and the number of neurons. So, the first layer has 1 constant, 10 weights, 512 neurons. 512 x 11 = 5,632. In the second layer, the neurons each have 512 weights and then the constant/bias term. There are 513 total parameters in the second layer, so 512 x 513 = 262,656 parameters. Third layer: 512 weights + 1 constant = 513 parameters. With the 512 neurons in the layer, 512 X 513 = 262,656 (same as second layer). Combine ALL parmeters (5,632 + 262,656(x2) = 530,944 parameters.) This is a LOT of parameters, especially in comparison to the classic ML models.  "
   ]
  },
  {
   "cell_type": "markdown",
   "metadata": {},
   "source": [
    "### We have data with 100 features and we designed an ANN to be trained on this data. If in this ANN, we have three layers with 512, 256 and 10 neurons, how many parameters do we need to estimate?  \n",
    "\n",
    "Answer:  \n",
    "-first layer: 100 weights, 1 constant, so 101 parameters. The 512 neurons in this first layer x the 101 parameters = 51,712 parameters in this layer.    \n",
    "-second layer: 512 weights for EACH neuron, 1 bias term = 513. The 256 neurons in this layer x these 513 parameters = 131,328 parameters in the second layer.  \n",
    "-third layer: Each neuron has 256 weights, there is one bias term = 257 parameters. Muliple this by the 10 neurons in this layer, you get 257 x 10 = 2,570 parameters in the third layer. \n",
    "\n",
    "Final Combine all parameters: 51,712, 131,328 + 2,570 = a total of 185,610 parameters need to be estimated for this ANN.\n"
   ]
  }
 ],
 "metadata": {
  "kernelspec": {
   "display_name": "Python 3",
   "language": "python",
   "name": "python3"
  },
  "language_info": {
   "codemirror_mode": {
    "name": "ipython",
    "version": 3
   },
   "file_extension": ".py",
   "mimetype": "text/x-python",
   "name": "python",
   "nbconvert_exporter": "python",
   "pygments_lexer": "ipython3",
   "version": "3.7.4"
  }
 },
 "nbformat": 4,
 "nbformat_minor": 2
}
