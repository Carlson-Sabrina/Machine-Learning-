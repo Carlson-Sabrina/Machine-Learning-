{
  "nbformat": 4,
  "nbformat_minor": 0,
  "metadata": {
    "colab": {
      "name": "Deep Learning Challenge.ipynb",
      "provenance": [],
      "collapsed_sections": []
    },
    "kernelspec": {
      "name": "python3",
      "display_name": "Python 3"
    }
  },
  "cells": [
    {
      "cell_type": "code",
      "metadata": {
        "id": "s1iEPqYCghjk",
        "colab_type": "code",
        "colab": {
          "base_uri": "https://localhost:8080/",
          "height": 540
        },
        "outputId": "44a8d79f-1a95-4b93-9345-6975123106f3"
      },
      "source": [
        " #use gpu\n",
        "pip install tensorflow-gpu==2.0.0-rc1"
      ],
      "execution_count": 1,
      "outputs": [
        {
          "output_type": "stream",
          "text": [
            "Collecting tensorflow-gpu==2.0.0-rc1\n",
            "\u001b[?25l  Downloading https://files.pythonhosted.org/packages/73/cf/2fc69ba3e59edc8333e2676fa71b40197718dea7dc1282c79955cf6b2acb/tensorflow_gpu-2.0.0rc1-cp36-cp36m-manylinux2010_x86_64.whl (380.5MB)\n",
            "\u001b[K     |████████████████████████████████| 380.5MB 43kB/s \n",
            "\u001b[?25hRequirement already satisfied: numpy<2.0,>=1.16.0 in /usr/local/lib/python3.6/dist-packages (from tensorflow-gpu==2.0.0-rc1) (1.18.4)\n",
            "Requirement already satisfied: absl-py>=0.7.0 in /usr/local/lib/python3.6/dist-packages (from tensorflow-gpu==2.0.0-rc1) (0.9.0)\n",
            "Requirement already satisfied: astor>=0.6.0 in /usr/local/lib/python3.6/dist-packages (from tensorflow-gpu==2.0.0-rc1) (0.8.1)\n",
            "Requirement already satisfied: wheel>=0.26 in /usr/local/lib/python3.6/dist-packages (from tensorflow-gpu==2.0.0-rc1) (0.34.2)\n",
            "Requirement already satisfied: google-pasta>=0.1.6 in /usr/local/lib/python3.6/dist-packages (from tensorflow-gpu==2.0.0-rc1) (0.2.0)\n",
            "Requirement already satisfied: termcolor>=1.1.0 in /usr/local/lib/python3.6/dist-packages (from tensorflow-gpu==2.0.0-rc1) (1.1.0)\n",
            "Requirement already satisfied: six>=1.10.0 in /usr/local/lib/python3.6/dist-packages (from tensorflow-gpu==2.0.0-rc1) (1.12.0)\n",
            "Requirement already satisfied: opt-einsum>=2.3.2 in /usr/local/lib/python3.6/dist-packages (from tensorflow-gpu==2.0.0-rc1) (3.2.1)\n",
            "Requirement already satisfied: protobuf>=3.6.1 in /usr/local/lib/python3.6/dist-packages (from tensorflow-gpu==2.0.0-rc1) (3.10.0)\n",
            "Requirement already satisfied: grpcio>=1.8.6 in /usr/local/lib/python3.6/dist-packages (from tensorflow-gpu==2.0.0-rc1) (1.28.1)\n",
            "Collecting tf-estimator-nightly<1.14.0.dev2019080602,>=1.14.0.dev2019080601\n",
            "\u001b[?25l  Downloading https://files.pythonhosted.org/packages/21/28/f2a27a62943d5f041e4a6fd404b2d21cb7c59b2242a4e73b03d9ba166552/tf_estimator_nightly-1.14.0.dev2019080601-py2.py3-none-any.whl (501kB)\n",
            "\u001b[K     |████████████████████████████████| 501kB 44.6MB/s \n",
            "\u001b[?25hRequirement already satisfied: wrapt>=1.11.1 in /usr/local/lib/python3.6/dist-packages (from tensorflow-gpu==2.0.0-rc1) (1.12.1)\n",
            "Requirement already satisfied: gast>=0.2.0 in /usr/local/lib/python3.6/dist-packages (from tensorflow-gpu==2.0.0-rc1) (0.3.3)\n",
            "Requirement already satisfied: keras-preprocessing>=1.0.5 in /usr/local/lib/python3.6/dist-packages (from tensorflow-gpu==2.0.0-rc1) (1.1.0)\n",
            "Collecting tb-nightly<1.15.0a20190807,>=1.15.0a20190806\n",
            "\u001b[?25l  Downloading https://files.pythonhosted.org/packages/bc/88/24b5fb7280e74c7cf65bde47c171547fd02afb3840cff41bcbe9270650f5/tb_nightly-1.15.0a20190806-py3-none-any.whl (4.3MB)\n",
            "\u001b[K     |████████████████████████████████| 4.3MB 45.5MB/s \n",
            "\u001b[?25hRequirement already satisfied: keras-applications>=1.0.8 in /usr/local/lib/python3.6/dist-packages (from tensorflow-gpu==2.0.0-rc1) (1.0.8)\n",
            "Requirement already satisfied: setuptools in /usr/local/lib/python3.6/dist-packages (from protobuf>=3.6.1->tensorflow-gpu==2.0.0-rc1) (46.1.3)\n",
            "Requirement already satisfied: werkzeug>=0.11.15 in /usr/local/lib/python3.6/dist-packages (from tb-nightly<1.15.0a20190807,>=1.15.0a20190806->tensorflow-gpu==2.0.0-rc1) (1.0.1)\n",
            "Requirement already satisfied: markdown>=2.6.8 in /usr/local/lib/python3.6/dist-packages (from tb-nightly<1.15.0a20190807,>=1.15.0a20190806->tensorflow-gpu==2.0.0-rc1) (3.2.1)\n",
            "Requirement already satisfied: h5py in /usr/local/lib/python3.6/dist-packages (from keras-applications>=1.0.8->tensorflow-gpu==2.0.0-rc1) (2.10.0)\n",
            "Installing collected packages: tf-estimator-nightly, tb-nightly, tensorflow-gpu\n",
            "Successfully installed tb-nightly-1.15.0a20190806 tensorflow-gpu-2.0.0rc1 tf-estimator-nightly-1.14.0.dev2019080601\n"
          ],
          "name": "stdout"
        }
      ]
    },
    {
      "cell_type": "code",
      "metadata": {
        "id": "0qPyz7p0gosn",
        "colab_type": "code",
        "colab": {}
      },
      "source": [
        "#imports\n",
        "import warnings\n",
        "warnings.filterwarnings(\"ignore\")\n",
        "\n",
        "from tensorflow.keras.datasets import fashion_mnist\n",
        "from tensorflow.keras.utils import to_categorical\n",
        "from tensorflow.keras.models import Sequential \n",
        "from tensorflow.keras.layers import Dense\n",
        "from tensorflow.keras import optimizers"
      ],
      "execution_count": 0,
      "outputs": []
    },
    {
      "cell_type": "markdown",
      "metadata": {
        "id": "dbp4nfIxm4jr",
        "colab_type": "text"
      },
      "source": [
        "1. Preprocess your data so that you can feed it into ANN models.  \n",
        "2. Split your data into training and test sets.\n",
        "3. Compare your models' training scores and interpret your results.  \n",
        "4.  Evaluate your models' performances on your test set. \n",
        "5.  Compare the results of your models."
      ]
    },
    {
      "cell_type": "markdown",
      "metadata": {
        "id": "uUk5uGpPneJH",
        "colab_type": "text"
      },
      "source": [
        "The Fashion MNIST dataset is very similar to the MNIST dataset, as it has 60,000 training observations, 10,000 testing observations, 10 classes, and then 28x28 images. So, the preprocessing can be similar to the preprocessing steps used for the MNIST dataset."
      ]
    },
    {
      "cell_type": "code",
      "metadata": {
        "id": "z7RtZICOm5hj",
        "colab_type": "code",
        "colab": {
          "base_uri": "https://localhost:8080/",
          "height": 156
        },
        "outputId": "87908fe6-e28b-4eb9-c0e8-14ce5a117d45"
      },
      "source": [
        "(X_train, y_train), (X_test, y_test) = fashion_mnist.load_data()\n",
        "#Fashion MNIST has 28x28 greyscale images, so 28x28 = 784\n",
        "input_dim = 784  \n",
        "#10 classes:\n",
        "output_dim = nb_classes = 10\n",
        "#set 20 epochs\n",
        "nb_epoch = 20\n",
        "\n",
        "#split into test and training sets\n",
        "X_train = X_train.reshape(60000, input_dim)\n",
        "X_test = X_test.reshape(10000, input_dim)\n",
        "#convert to float type\n",
        "X_train = X_train.astype('float32')\n",
        "X_test = X_test.astype('float32')\n",
        "#normalize vectors\n",
        "X_train /= 255\n",
        "X_test /= 255"
      ],
      "execution_count": 4,
      "outputs": [
        {
          "output_type": "stream",
          "text": [
            "Downloading data from https://storage.googleapis.com/tensorflow/tf-keras-datasets/train-labels-idx1-ubyte.gz\n",
            "32768/29515 [=================================] - 0s 0us/step\n",
            "Downloading data from https://storage.googleapis.com/tensorflow/tf-keras-datasets/train-images-idx3-ubyte.gz\n",
            "26427392/26421880 [==============================] - 0s 0us/step\n",
            "Downloading data from https://storage.googleapis.com/tensorflow/tf-keras-datasets/t10k-labels-idx1-ubyte.gz\n",
            "8192/5148 [===============================================] - 0s 0us/step\n",
            "Downloading data from https://storage.googleapis.com/tensorflow/tf-keras-datasets/t10k-images-idx3-ubyte.gz\n",
            "4423680/4422102 [==============================] - 0s 0us/step\n"
          ],
          "name": "stdout"
        }
      ]
    },
    {
      "cell_type": "code",
      "metadata": {
        "id": "Zoug7M4mrhXh",
        "colab_type": "code",
        "colab": {}
      },
      "source": [
        "#convert Y_train, Y_test to categorical type\n",
        "Y_train = to_categorical(y_train, nb_classes)\n",
        "Y_test = to_categorical(y_test, nb_classes)"
      ],
      "execution_count": 0,
      "outputs": []
    },
    {
      "cell_type": "markdown",
      "metadata": {
        "id": "QgztwclFqJGO",
        "colab_type": "text"
      },
      "source": [
        "Try different ANN models and train them on your training set.   \n",
        "You can play with:  \n",
        "3.1. Number of layers.  \n",
        "3.2. Activation functions of the layers.   \n",
        "3.3. Number of neurons in the layers.  \n",
        "3.4. Different batch sizes during training."
      ]
    },
    {
      "cell_type": "markdown",
      "metadata": {
        "id": "dqYZDS0Jrx2W",
        "colab_type": "text"
      },
      "source": [
        "Let's start with a model from the checkpoint that worked well with the MNIST, just as a starting point: 3 dense layers with 128, 64, and 10 neurons, with batch size set to 128, and then tweak the number of layers."
      ]
    },
    {
      "cell_type": "code",
      "metadata": {
        "id": "vJcytyzQryMX",
        "colab_type": "code",
        "colab": {
          "base_uri": "https://localhost:8080/",
          "height": 107
        },
        "outputId": "013bfe4a-bd7d-4d8a-bc2b-03891eaaf590"
      },
      "source": [
        "#build the model\n",
        "model = Sequential()\n",
        "# add 3 dense layers with 128, 64, 10 neurons\n",
        "model.add(Dense(128, input_shape=(784,), activation=\"relu\"))\n",
        "model.add(Dense(64, activation=\"relu\"))\n",
        "model.add(Dense(10, activation=\"softmax\"))\n",
        "#compile the model\n",
        "model.compile(optimizer='sgd', loss='categorical_crossentropy',\n",
        "              metrics=['accuracy'])\n",
        "#set 128 as mini batch size\n",
        "model.fit(X_train, Y_train, batch_size=128, epochs=20, verbose=False)\n",
        "#evaluate the model\n",
        "score = model.evaluate(X_test, Y_test, verbose=0)\n",
        "print('Test score:', score[0])\n",
        "print('Test accuracy:', score[1])"
      ],
      "execution_count": 11,
      "outputs": [
        {
          "output_type": "stream",
          "text": [
            "WARNING:tensorflow:Entity <function Function._initialize_uninitialized_variables.<locals>.initialize_variables at 0x7fbeb82fa6a8> could not be transformed and will be executed as-is. Please report this to the AutoGraph team. When filing the bug, set the verbosity to 10 (on Linux, `export AUTOGRAPH_VERBOSITY=10`) and attach the full output. Cause: module 'gast' has no attribute 'Num'\n",
            "WARNING: Entity <function Function._initialize_uninitialized_variables.<locals>.initialize_variables at 0x7fbeb82fa6a8> could not be transformed and will be executed as-is. Please report this to the AutoGraph team. When filing the bug, set the verbosity to 10 (on Linux, `export AUTOGRAPH_VERBOSITY=10`) and attach the full output. Cause: module 'gast' has no attribute 'Num'\n",
            "Test score: 0.421596803188324\n",
            "Test accuracy: 0.8529\n"
          ],
          "name": "stdout"
        }
      ]
    },
    {
      "cell_type": "markdown",
      "metadata": {
        "id": "v86IUuGgs97H",
        "colab_type": "text"
      },
      "source": [
        "The above model had a decent accuracy score and does not seem to suffer from overfitting. I'll add another layer and see how they compare."
      ]
    },
    {
      "cell_type": "code",
      "metadata": {
        "id": "IqugqkbotIkD",
        "colab_type": "code",
        "colab": {
          "base_uri": "https://localhost:8080/",
          "height": 107
        },
        "outputId": "82619725-6d36-47f7-c525-a7283717cd6b"
      },
      "source": [
        "#build the model\n",
        "model = Sequential()\n",
        "# add 4 dense layers with 128, 64, 58, 10 neurons\n",
        "model.add(Dense(128, input_shape=(784,), activation=\"relu\"))\n",
        "model.add(Dense(64, activation=\"relu\"))\n",
        "model.add(Dense(58, activation=\"relu\"))\n",
        "model.add(Dense(10, activation=\"softmax\"))\n",
        "#compile the model\n",
        "model.compile(optimizer='sgd', loss='categorical_crossentropy',\n",
        "              metrics=['accuracy'])\n",
        "#set 128 as mini batch size\n",
        "model.fit(X_train, Y_train, batch_size=128, epochs=20, verbose=False)\n",
        "#evaluate the model\n",
        "score = model.evaluate(X_test, Y_test, verbose=0)\n",
        "print('Test score:', score[0])\n",
        "print('Test accuracy:', score[1])"
      ],
      "execution_count": 13,
      "outputs": [
        {
          "output_type": "stream",
          "text": [
            "WARNING:tensorflow:Entity <function Function._initialize_uninitialized_variables.<locals>.initialize_variables at 0x7fbeb53ccf28> could not be transformed and will be executed as-is. Please report this to the AutoGraph team. When filing the bug, set the verbosity to 10 (on Linux, `export AUTOGRAPH_VERBOSITY=10`) and attach the full output. Cause: module 'gast' has no attribute 'Num'\n",
            "WARNING: Entity <function Function._initialize_uninitialized_variables.<locals>.initialize_variables at 0x7fbeb53ccf28> could not be transformed and will be executed as-is. Please report this to the AutoGraph team. When filing the bug, set the verbosity to 10 (on Linux, `export AUTOGRAPH_VERBOSITY=10`) and attach the full output. Cause: module 'gast' has no attribute 'Num'\n",
            "Test score: 0.4227390152692795\n",
            "Test accuracy: 0.8515\n"
          ],
          "name": "stdout"
        }
      ]
    },
    {
      "cell_type": "markdown",
      "metadata": {
        "id": "NgyOtllqt_Q7",
        "colab_type": "text"
      },
      "source": [
        "The results for models 1 and 2 are incredibly similar for both test and training set accuracy scores. I'll add a fifth layer and see how that stacks up."
      ]
    },
    {
      "cell_type": "code",
      "metadata": {
        "id": "JiEVbLt2uEqk",
        "colab_type": "code",
        "colab": {
          "base_uri": "https://localhost:8080/",
          "height": 107
        },
        "outputId": "b35bc196-fab8-48ca-c7e5-fbed6605b712"
      },
      "source": [
        "#build the model\n",
        "model = Sequential()\n",
        "# add 5 dense layers with 128, 100, 64, 58, 10 neurons\n",
        "model.add(Dense(128, input_shape=(784,), activation=\"relu\"))\n",
        "model.add(Dense(100, activation=\"relu\"))\n",
        "model.add(Dense(64, activation=\"relu\"))\n",
        "model.add(Dense(58, activation=\"relu\"))\n",
        "model.add(Dense(10, activation=\"softmax\"))\n",
        "#compile the model\n",
        "model.compile(optimizer='sgd', loss='categorical_crossentropy',\n",
        "              metrics=['accuracy'])\n",
        "#set 128 as mini batch size\n",
        "model.fit(X_train, Y_train, batch_size=128, epochs=20, verbose=False)\n",
        "#evaluate the model\n",
        "score = model.evaluate(X_test, Y_test, verbose=0)\n",
        "print('Test score:', score[0])\n",
        "print('Test accuracy:', score[1])"
      ],
      "execution_count": 14,
      "outputs": [
        {
          "output_type": "stream",
          "text": [
            "WARNING:tensorflow:Entity <function Function._initialize_uninitialized_variables.<locals>.initialize_variables at 0x7fbeb5e16b70> could not be transformed and will be executed as-is. Please report this to the AutoGraph team. When filing the bug, set the verbosity to 10 (on Linux, `export AUTOGRAPH_VERBOSITY=10`) and attach the full output. Cause: module 'gast' has no attribute 'Num'\n",
            "WARNING: Entity <function Function._initialize_uninitialized_variables.<locals>.initialize_variables at 0x7fbeb5e16b70> could not be transformed and will be executed as-is. Please report this to the AutoGraph team. When filing the bug, set the verbosity to 10 (on Linux, `export AUTOGRAPH_VERBOSITY=10`) and attach the full output. Cause: module 'gast' has no attribute 'Num'\n",
            "Test score: 0.3953537586927414\n",
            "Test accuracy: 0.8603\n"
          ],
          "name": "stdout"
        }
      ]
    },
    {
      "cell_type": "markdown",
      "metadata": {
        "id": "yYY9qaggua3q",
        "colab_type": "text"
      },
      "source": [
        "Adding the fifth layer very slightly increased the test score's accuracy but the training score lowered. I'll stick with 3 layers since the accuracy scores are all similar and this way there are fewer parameters to estimate. "
      ]
    },
    {
      "cell_type": "markdown",
      "metadata": {
        "id": "IxAfH_Jmu64y",
        "colab_type": "text"
      },
      "source": [
        "Now, I want to see how varying the activation function changes the results. I'll compare relu, tanh, and sigmoid activation functions."
      ]
    },
    {
      "cell_type": "markdown",
      "metadata": {
        "id": "HmD1dnMiva2Z",
        "colab_type": "text"
      },
      "source": [
        "Using ReLU activation function:"
      ]
    },
    {
      "cell_type": "code",
      "metadata": {
        "id": "VtQG9aNAvOcs",
        "colab_type": "code",
        "colab": {
          "base_uri": "https://localhost:8080/",
          "height": 107
        },
        "outputId": "d052e757-7563-4103-d850-bc2529db94cf"
      },
      "source": [
        "#build the model\n",
        "model = Sequential()\n",
        "# add 3 dense layers with 128, 64, 10 neurons with activation set to 'relu'\n",
        "model.add(Dense(128, input_shape=(784,), activation=\"relu\"))\n",
        "model.add(Dense(64, activation=\"relu\"))\n",
        "model.add(Dense(10, activation=\"softmax\"))\n",
        "#compile the model\n",
        "model.compile(optimizer='sgd', loss='categorical_crossentropy',\n",
        "              metrics=['accuracy'])\n",
        "#set 128 as mini batch size\n",
        "model.fit(X_train, Y_train, batch_size=128, epochs=20, verbose=False)\n",
        "#evaluate the model\n",
        "score = model.evaluate(X_test, Y_test, verbose=0)\n",
        "print('Test score:', score[0])\n",
        "print('Test accuracy:', score[1])"
      ],
      "execution_count": 15,
      "outputs": [
        {
          "output_type": "stream",
          "text": [
            "WARNING:tensorflow:Entity <function Function._initialize_uninitialized_variables.<locals>.initialize_variables at 0x7fbeb5494840> could not be transformed and will be executed as-is. Please report this to the AutoGraph team. When filing the bug, set the verbosity to 10 (on Linux, `export AUTOGRAPH_VERBOSITY=10`) and attach the full output. Cause: module 'gast' has no attribute 'Num'\n",
            "WARNING: Entity <function Function._initialize_uninitialized_variables.<locals>.initialize_variables at 0x7fbeb5494840> could not be transformed and will be executed as-is. Please report this to the AutoGraph team. When filing the bug, set the verbosity to 10 (on Linux, `export AUTOGRAPH_VERBOSITY=10`) and attach the full output. Cause: module 'gast' has no attribute 'Num'\n",
            "Test score: 0.42110576870441435\n",
            "Test accuracy: 0.8487\n"
          ],
          "name": "stdout"
        }
      ]
    },
    {
      "cell_type": "markdown",
      "metadata": {
        "id": "BbEQ1eEYvjhk",
        "colab_type": "text"
      },
      "source": [
        "Using tanh activation function:"
      ]
    },
    {
      "cell_type": "code",
      "metadata": {
        "id": "CaiWJ2o9vm5z",
        "colab_type": "code",
        "colab": {
          "base_uri": "https://localhost:8080/",
          "height": 107
        },
        "outputId": "2bd6669f-f168-45f9-9725-d1704f6d168f"
      },
      "source": [
        "#build the model\n",
        "model = Sequential()\n",
        "# add 3 dense layers with 128, 64, 10 neurons with activation set to tanh\n",
        "model.add(Dense(128, input_shape=(784,), activation=\"tanh\"))\n",
        "model.add(Dense(64, activation=\"relu\"))\n",
        "model.add(Dense(10, activation=\"softmax\"))\n",
        "#compile the model\n",
        "model.compile(optimizer='sgd', loss='categorical_crossentropy',\n",
        "              metrics=['accuracy'])\n",
        "#set 128 as mini batch size\n",
        "model.fit(X_train, Y_train, batch_size=128, epochs=20, verbose=False)\n",
        "#evaluate the model\n",
        "score = model.evaluate(X_test, Y_test, verbose=0)\n",
        "print('Test score:', score[0])\n",
        "print('Test accuracy:', score[1])"
      ],
      "execution_count": 16,
      "outputs": [
        {
          "output_type": "stream",
          "text": [
            "WARNING:tensorflow:Entity <function Function._initialize_uninitialized_variables.<locals>.initialize_variables at 0x7fbeb5532950> could not be transformed and will be executed as-is. Please report this to the AutoGraph team. When filing the bug, set the verbosity to 10 (on Linux, `export AUTOGRAPH_VERBOSITY=10`) and attach the full output. Cause: module 'gast' has no attribute 'Num'\n",
            "WARNING: Entity <function Function._initialize_uninitialized_variables.<locals>.initialize_variables at 0x7fbeb5532950> could not be transformed and will be executed as-is. Please report this to the AutoGraph team. When filing the bug, set the verbosity to 10 (on Linux, `export AUTOGRAPH_VERBOSITY=10`) and attach the full output. Cause: module 'gast' has no attribute 'Num'\n",
            "Test score: 0.41781514134407044\n",
            "Test accuracy: 0.8481\n"
          ],
          "name": "stdout"
        }
      ]
    },
    {
      "cell_type": "markdown",
      "metadata": {
        "id": "H1XU2sXmvpvv",
        "colab_type": "text"
      },
      "source": [
        "Using sigmoid activation function:"
      ]
    },
    {
      "cell_type": "code",
      "metadata": {
        "id": "3qjn03FtvsBI",
        "colab_type": "code",
        "colab": {
          "base_uri": "https://localhost:8080/",
          "height": 107
        },
        "outputId": "47125306-17d4-4c28-8c75-69bd922ecd1d"
      },
      "source": [
        "#build the model\n",
        "model = Sequential()\n",
        "# add 3 dense layers with 128, 64, 10 neurons with activation set to sigmoid\n",
        "model.add(Dense(128, input_shape=(784,), activation=\"sigmoid\"))\n",
        "model.add(Dense(64, activation=\"relu\"))\n",
        "model.add(Dense(10, activation=\"softmax\"))\n",
        "#compile the model\n",
        "model.compile(optimizer='sgd', loss='categorical_crossentropy',\n",
        "              metrics=['accuracy'])\n",
        "#set 128 as mini batch size\n",
        "model.fit(X_train, Y_train, batch_size=128, epochs=20, verbose=False)\n",
        "#evaluate the model\n",
        "score = model.evaluate(X_test, Y_test, verbose=0)\n",
        "print('Test score:', score[0])\n",
        "print('Test accuracy:', score[1])"
      ],
      "execution_count": 17,
      "outputs": [
        {
          "output_type": "stream",
          "text": [
            "WARNING:tensorflow:Entity <function Function._initialize_uninitialized_variables.<locals>.initialize_variables at 0x7fbeb5e16510> could not be transformed and will be executed as-is. Please report this to the AutoGraph team. When filing the bug, set the verbosity to 10 (on Linux, `export AUTOGRAPH_VERBOSITY=10`) and attach the full output. Cause: module 'gast' has no attribute 'Num'\n",
            "WARNING: Entity <function Function._initialize_uninitialized_variables.<locals>.initialize_variables at 0x7fbeb5e16510> could not be transformed and will be executed as-is. Please report this to the AutoGraph team. When filing the bug, set the verbosity to 10 (on Linux, `export AUTOGRAPH_VERBOSITY=10`) and attach the full output. Cause: module 'gast' has no attribute 'Num'\n",
            "Test score: 0.5020918565750122\n",
            "Test accuracy: 0.8164\n"
          ],
          "name": "stdout"
        }
      ]
    },
    {
      "cell_type": "markdown",
      "metadata": {
        "id": "-DbL0DcwwRfM",
        "colab_type": "text"
      },
      "source": [
        "Varying the activation functions did produce slighly different results. The model that used the ReLU activation function had a *very* slightly higher accuracy score for the test set than the one that used the tanh activation function. These two models also had very similar scores for the training sets. The model with the sigmoid activation function had a lower accuracy score for the test set but a higher accuracy score for the training set. None of the three models appear to suffer from overfitting. The model that used the ReLU activation function did perform the best of the three, but only slightly."
      ]
    },
    {
      "cell_type": "markdown",
      "metadata": {
        "id": "5C61VYb3xcA6",
        "colab_type": "text"
      },
      "source": [
        "Now, let's vary the number of neurons in each layer. I'll start with the model that has thus far performed the best and then vary the number of neurons."
      ]
    },
    {
      "cell_type": "code",
      "metadata": {
        "id": "XTpHr8E2xnS_",
        "colab_type": "code",
        "colab": {
          "base_uri": "https://localhost:8080/",
          "height": 107
        },
        "outputId": "21264d83-253b-4035-a648-3f0d00601053"
      },
      "source": [
        "#build the model\n",
        "model = Sequential()\n",
        "# add 3 dense layers with 128, 64, 10 neurons with activation set to 'relu'\n",
        "model.add(Dense(128, input_shape=(784,), activation=\"relu\"))\n",
        "model.add(Dense(64, activation=\"relu\"))\n",
        "model.add(Dense(10, activation=\"softmax\"))\n",
        "#compile the model\n",
        "model.compile(optimizer='sgd', loss='categorical_crossentropy',\n",
        "              metrics=['accuracy'])\n",
        "#set 128 as mini batch size\n",
        "model.fit(X_train, Y_train, batch_size=128, epochs=20, verbose=False)\n",
        "#evaluate the model\n",
        "score = model.evaluate(X_test, Y_test, verbose=0)\n",
        "print('Test score:', score[0])\n",
        "print('Test accuracy:', score[1])"
      ],
      "execution_count": 18,
      "outputs": [
        {
          "output_type": "stream",
          "text": [
            "WARNING:tensorflow:Entity <function Function._initialize_uninitialized_variables.<locals>.initialize_variables at 0x7fbeb593a8c8> could not be transformed and will be executed as-is. Please report this to the AutoGraph team. When filing the bug, set the verbosity to 10 (on Linux, `export AUTOGRAPH_VERBOSITY=10`) and attach the full output. Cause: module 'gast' has no attribute 'Num'\n",
            "WARNING: Entity <function Function._initialize_uninitialized_variables.<locals>.initialize_variables at 0x7fbeb593a8c8> could not be transformed and will be executed as-is. Please report this to the AutoGraph team. When filing the bug, set the verbosity to 10 (on Linux, `export AUTOGRAPH_VERBOSITY=10`) and attach the full output. Cause: module 'gast' has no attribute 'Num'\n",
            "Test score: 0.4375872406959534\n",
            "Test accuracy: 0.8436\n"
          ],
          "name": "stdout"
        }
      ]
    },
    {
      "cell_type": "code",
      "metadata": {
        "id": "NcM3nO7Sxxk3",
        "colab_type": "code",
        "colab": {
          "base_uri": "https://localhost:8080/",
          "height": 107
        },
        "outputId": "399b19d6-0866-4ab1-ee0b-563025b94cc0"
      },
      "source": [
        "#build the model\n",
        "model = Sequential()\n",
        "# add 3 dense layers with 100, 50, 10 neurons with activation set to 'relu'\n",
        "model.add(Dense(100, input_shape=(784,), activation=\"relu\"))\n",
        "model.add(Dense(50, activation=\"relu\"))\n",
        "model.add(Dense(10, activation=\"softmax\"))\n",
        "#compile the model\n",
        "model.compile(optimizer='sgd', loss='categorical_crossentropy',\n",
        "              metrics=['accuracy'])\n",
        "#set 128 as mini batch size\n",
        "model.fit(X_train, Y_train, batch_size=128, epochs=20, verbose=False)\n",
        "#evaluate the model\n",
        "score = model.evaluate(X_test, Y_test, verbose=0)\n",
        "print('Test score:', score[0])\n",
        "print('Test accuracy:', score[1])"
      ],
      "execution_count": 19,
      "outputs": [
        {
          "output_type": "stream",
          "text": [
            "WARNING:tensorflow:Entity <function Function._initialize_uninitialized_variables.<locals>.initialize_variables at 0x7fbeb82fa950> could not be transformed and will be executed as-is. Please report this to the AutoGraph team. When filing the bug, set the verbosity to 10 (on Linux, `export AUTOGRAPH_VERBOSITY=10`) and attach the full output. Cause: module 'gast' has no attribute 'Num'\n",
            "WARNING: Entity <function Function._initialize_uninitialized_variables.<locals>.initialize_variables at 0x7fbeb82fa950> could not be transformed and will be executed as-is. Please report this to the AutoGraph team. When filing the bug, set the verbosity to 10 (on Linux, `export AUTOGRAPH_VERBOSITY=10`) and attach the full output. Cause: module 'gast' has no attribute 'Num'\n",
            "Test score: 0.4293047427892685\n",
            "Test accuracy: 0.8484\n"
          ],
          "name": "stdout"
        }
      ]
    },
    {
      "cell_type": "code",
      "metadata": {
        "id": "Y1nIlw12yAul",
        "colab_type": "code",
        "colab": {
          "base_uri": "https://localhost:8080/",
          "height": 107
        },
        "outputId": "5ab1d6eb-d7b7-4ee6-ffe1-03477fe43a6a"
      },
      "source": [
        "#build the model\n",
        "model = Sequential()\n",
        "# add 3 dense layers with 1000, 500, 10 neurons with activation set to 'relu'\n",
        "model.add(Dense(1000, input_shape=(784,), activation=\"relu\"))\n",
        "model.add(Dense(500, activation=\"relu\"))\n",
        "model.add(Dense(10, activation=\"softmax\"))\n",
        "#compile the model\n",
        "model.compile(optimizer='sgd', loss='categorical_crossentropy',\n",
        "              metrics=['accuracy'])\n",
        "#set 128 as mini batch size\n",
        "model.fit(X_train, Y_train, batch_size=128, epochs=20, verbose=False)\n",
        "#evaluate the model\n",
        "score = model.evaluate(X_test, Y_test, verbose=0)\n",
        "print('Test score:', score[0])\n",
        "print('Test accuracy:', score[1])"
      ],
      "execution_count": 20,
      "outputs": [
        {
          "output_type": "stream",
          "text": [
            "WARNING:tensorflow:Entity <function Function._initialize_uninitialized_variables.<locals>.initialize_variables at 0x7fbeb83edbf8> could not be transformed and will be executed as-is. Please report this to the AutoGraph team. When filing the bug, set the verbosity to 10 (on Linux, `export AUTOGRAPH_VERBOSITY=10`) and attach the full output. Cause: module 'gast' has no attribute 'Num'\n",
            "WARNING: Entity <function Function._initialize_uninitialized_variables.<locals>.initialize_variables at 0x7fbeb83edbf8> could not be transformed and will be executed as-is. Please report this to the AutoGraph team. When filing the bug, set the verbosity to 10 (on Linux, `export AUTOGRAPH_VERBOSITY=10`) and attach the full output. Cause: module 'gast' has no attribute 'Num'\n",
            "Test score: 0.39503794045448304\n",
            "Test accuracy: 0.8613\n"
          ],
          "name": "stdout"
        }
      ]
    },
    {
      "cell_type": "code",
      "metadata": {
        "id": "W1KN7XqxzMnF",
        "colab_type": "code",
        "colab": {
          "base_uri": "https://localhost:8080/",
          "height": 107
        },
        "outputId": "caf518cb-5634-4b35-9037-32cafe262461"
      },
      "source": [
        "#build the model\n",
        "model = Sequential()\n",
        "# add 3 dense layers with 1500, 800, 10 neurons with activation set to 'relu'\n",
        "model.add(Dense(1500, input_shape=(784,), activation=\"relu\"))\n",
        "model.add(Dense(800, activation=\"relu\"))\n",
        "model.add(Dense(10, activation=\"softmax\"))\n",
        "#compile the model\n",
        "model.compile(optimizer='sgd', loss='categorical_crossentropy',\n",
        "              metrics=['accuracy'])\n",
        "#set 128 as mini batch size\n",
        "model.fit(X_train, Y_train, batch_size=128, epochs=20, verbose=False)\n",
        "#evaluate the model\n",
        "score = model.evaluate(X_test, Y_test, verbose=0)\n",
        "print('Test score:', score[0])\n",
        "print('Test accuracy:', score[1])"
      ],
      "execution_count": 21,
      "outputs": [
        {
          "output_type": "stream",
          "text": [
            "WARNING:tensorflow:Entity <function Function._initialize_uninitialized_variables.<locals>.initialize_variables at 0x7fbeb5d54e18> could not be transformed and will be executed as-is. Please report this to the AutoGraph team. When filing the bug, set the verbosity to 10 (on Linux, `export AUTOGRAPH_VERBOSITY=10`) and attach the full output. Cause: module 'gast' has no attribute 'Num'\n",
            "WARNING: Entity <function Function._initialize_uninitialized_variables.<locals>.initialize_variables at 0x7fbeb5d54e18> could not be transformed and will be executed as-is. Please report this to the AutoGraph team. When filing the bug, set the verbosity to 10 (on Linux, `export AUTOGRAPH_VERBOSITY=10`) and attach the full output. Cause: module 'gast' has no attribute 'Num'\n",
            "Test score: 0.4035951648950577\n",
            "Test accuracy: 0.8537\n"
          ],
          "name": "stdout"
        }
      ]
    },
    {
      "cell_type": "markdown",
      "metadata": {
        "id": "gmYLLtoE065j",
        "colab_type": "text"
      },
      "source": [
        "I was able to achieve a slightly higher accuracy when changing the number of neurons in the layers. Specifically, increasing the neurons in each layer to 1000, 500, and 10 resulted in a slightly higher accuracy score (86 %) but a slightly lower score for the training set. However, this model took longer to run and the 1% increase in accuracy is not worth the extra computational power needed. "
      ]
    },
    {
      "cell_type": "markdown",
      "metadata": {
        "id": "m2MOZo140686",
        "colab_type": "text"
      },
      "source": [
        "Finally, I will tinker with the batch sizes to see how different models compare. I'll use a lower batch size number, a higher batch size, and the full sample. "
      ]
    },
    {
      "cell_type": "code",
      "metadata": {
        "id": "BBXbjPbr2qbv",
        "colab_type": "code",
        "colab": {
          "base_uri": "https://localhost:8080/",
          "height": 107
        },
        "outputId": "953df9df-eb8a-4445-e986-3d0a230359ea"
      },
      "source": [
        "#build the model\n",
        "model = Sequential()\n",
        "# add 3 dense layers with 128, 64, 10 neurons with activation set to 'relu'\n",
        "model.add(Dense(128, input_shape=(784,), activation=\"relu\"))\n",
        "model.add(Dense(64, activation=\"relu\"))\n",
        "model.add(Dense(10, activation=\"softmax\"))\n",
        "#compile the model\n",
        "model.compile(optimizer='sgd', loss='categorical_crossentropy',\n",
        "              metrics=['accuracy'])\n",
        "#set 128 as mini batch size\n",
        "model.fit(X_train, Y_train, batch_size=128, epochs=20, verbose=False)\n",
        "#evaluate the model\n",
        "score = model.evaluate(X_test, Y_test, verbose=0)\n",
        "print('Test score:', score[0])\n",
        "print('Test accuracy:', score[1])"
      ],
      "execution_count": 22,
      "outputs": [
        {
          "output_type": "stream",
          "text": [
            "WARNING:tensorflow:Entity <function Function._initialize_uninitialized_variables.<locals>.initialize_variables at 0x7fbeb3320d08> could not be transformed and will be executed as-is. Please report this to the AutoGraph team. When filing the bug, set the verbosity to 10 (on Linux, `export AUTOGRAPH_VERBOSITY=10`) and attach the full output. Cause: module 'gast' has no attribute 'Num'\n",
            "WARNING: Entity <function Function._initialize_uninitialized_variables.<locals>.initialize_variables at 0x7fbeb3320d08> could not be transformed and will be executed as-is. Please report this to the AutoGraph team. When filing the bug, set the verbosity to 10 (on Linux, `export AUTOGRAPH_VERBOSITY=10`) and attach the full output. Cause: module 'gast' has no attribute 'Num'\n",
            "Test score: 0.418895344209671\n",
            "Test accuracy: 0.8504\n"
          ],
          "name": "stdout"
        }
      ]
    },
    {
      "cell_type": "code",
      "metadata": {
        "id": "eK73ZS5V2ykc",
        "colab_type": "code",
        "colab": {
          "base_uri": "https://localhost:8080/",
          "height": 107
        },
        "outputId": "00dec921-2054-4dcc-d456-b052e9f6d7c4"
      },
      "source": [
        "#build the model\n",
        "model = Sequential()\n",
        "# add 3 dense layers with 128, 64, 10 neurons with activation set to 'relu'\n",
        "model.add(Dense(128, input_shape=(784,), activation=\"relu\"))\n",
        "model.add(Dense(64, activation=\"relu\"))\n",
        "model.add(Dense(10, activation=\"softmax\"))\n",
        "#compile the model\n",
        "model.compile(optimizer='sgd', loss='categorical_crossentropy',\n",
        "              metrics=['accuracy'])\n",
        "#set 8 as mini batch size\n",
        "model.fit(X_train, Y_train, batch_size=8, epochs=20, verbose=False)\n",
        "#evaluate the model\n",
        "score = model.evaluate(X_test, Y_test, verbose=0)\n",
        "print('Test score:', score[0])\n",
        "print('Test accuracy:', score[1])"
      ],
      "execution_count": 23,
      "outputs": [
        {
          "output_type": "stream",
          "text": [
            "WARNING:tensorflow:Entity <function Function._initialize_uninitialized_variables.<locals>.initialize_variables at 0x7fbeb82fabf8> could not be transformed and will be executed as-is. Please report this to the AutoGraph team. When filing the bug, set the verbosity to 10 (on Linux, `export AUTOGRAPH_VERBOSITY=10`) and attach the full output. Cause: module 'gast' has no attribute 'Num'\n",
            "WARNING: Entity <function Function._initialize_uninitialized_variables.<locals>.initialize_variables at 0x7fbeb82fabf8> could not be transformed and will be executed as-is. Please report this to the AutoGraph team. When filing the bug, set the verbosity to 10 (on Linux, `export AUTOGRAPH_VERBOSITY=10`) and attach the full output. Cause: module 'gast' has no attribute 'Num'\n",
            "Test score: 0.32098620592355726\n",
            "Test accuracy: 0.8898\n"
          ],
          "name": "stdout"
        }
      ]
    },
    {
      "cell_type": "code",
      "metadata": {
        "id": "k_xxRQRK25V2",
        "colab_type": "code",
        "colab": {
          "base_uri": "https://localhost:8080/",
          "height": 107
        },
        "outputId": "d4498e13-8024-4185-b6fd-11680342fe54"
      },
      "source": [
        "#build the model\n",
        "model = Sequential()\n",
        "# add 3 dense layers with 128, 64, 10 neurons with activation set to 'relu'\n",
        "model.add(Dense(128, input_shape=(784,), activation=\"relu\"))\n",
        "model.add(Dense(64, activation=\"relu\"))\n",
        "model.add(Dense(10, activation=\"softmax\"))\n",
        "#compile the model\n",
        "model.compile(optimizer='sgd', loss='categorical_crossentropy',\n",
        "              metrics=['accuracy'])\n",
        "#set 300 as mini batch size\n",
        "model.fit(X_train, Y_train, batch_size=300, epochs=20, verbose=False)\n",
        "#evaluate the model\n",
        "score = model.evaluate(X_test, Y_test, verbose=0)\n",
        "print('Test score:', score[0])\n",
        "print('Test accuracy:', score[1])"
      ],
      "execution_count": 24,
      "outputs": [
        {
          "output_type": "stream",
          "text": [
            "WARNING:tensorflow:Entity <function Function._initialize_uninitialized_variables.<locals>.initialize_variables at 0x7fbeb30deb70> could not be transformed and will be executed as-is. Please report this to the AutoGraph team. When filing the bug, set the verbosity to 10 (on Linux, `export AUTOGRAPH_VERBOSITY=10`) and attach the full output. Cause: module 'gast' has no attribute 'Num'\n",
            "WARNING: Entity <function Function._initialize_uninitialized_variables.<locals>.initialize_variables at 0x7fbeb30deb70> could not be transformed and will be executed as-is. Please report this to the AutoGraph team. When filing the bug, set the verbosity to 10 (on Linux, `export AUTOGRAPH_VERBOSITY=10`) and attach the full output. Cause: module 'gast' has no attribute 'Num'\n",
            "Test score: 0.4648570243835449\n",
            "Test accuracy: 0.838\n"
          ],
          "name": "stdout"
        }
      ]
    },
    {
      "cell_type": "code",
      "metadata": {
        "id": "BeVCp03y3Bo0",
        "colab_type": "code",
        "colab": {
          "base_uri": "https://localhost:8080/",
          "height": 107
        },
        "outputId": "e32a35b3-d1ad-4ec3-d9e5-9bd5227203e7"
      },
      "source": [
        "#build the model\n",
        "model = Sequential()\n",
        "# add 3 dense layers with 128, 64, 10 neurons with activation set to 'relu'\n",
        "model.add(Dense(128, input_shape=(784,), activation=\"relu\"))\n",
        "model.add(Dense(64, activation=\"relu\"))\n",
        "model.add(Dense(10, activation=\"softmax\"))\n",
        "#compile the model\n",
        "model.compile(optimizer='sgd', loss='categorical_crossentropy',\n",
        "              metrics=['accuracy'])\n",
        "#use full sample\n",
        "model.fit(X_train, Y_train, batch_size=X_train.shape[0], epochs=20, verbose=False)\n",
        "#evaluate the model\n",
        "score = model.evaluate(X_test, Y_test, verbose=0)\n",
        "print('Test score:', score[0])\n",
        "print('Test accuracy:', score[1])"
      ],
      "execution_count": 25,
      "outputs": [
        {
          "output_type": "stream",
          "text": [
            "WARNING:tensorflow:Entity <function Function._initialize_uninitialized_variables.<locals>.initialize_variables at 0x7fbeb56d0840> could not be transformed and will be executed as-is. Please report this to the AutoGraph team. When filing the bug, set the verbosity to 10 (on Linux, `export AUTOGRAPH_VERBOSITY=10`) and attach the full output. Cause: module 'gast' has no attribute 'Num'\n",
            "WARNING: Entity <function Function._initialize_uninitialized_variables.<locals>.initialize_variables at 0x7fbeb56d0840> could not be transformed and will be executed as-is. Please report this to the AutoGraph team. When filing the bug, set the verbosity to 10 (on Linux, `export AUTOGRAPH_VERBOSITY=10`) and attach the full output. Cause: module 'gast' has no attribute 'Num'\n",
            "Test score: 2.0489540309906005\n",
            "Test accuracy: 0.3377\n"
          ],
          "name": "stdout"
        }
      ]
    },
    {
      "cell_type": "markdown",
      "metadata": {
        "id": "meSVGPPl4rU1",
        "colab_type": "text"
      },
      "source": [
        "Varying the batch size led to interesting results. Using the full sample produced a much lower accuracy for the test set (33.8%). Using a lower batch number (8) led to the highest accuracy for the test set thus far (89%) but also the lowest accuracy for the training set (suggesting that there might be some overfitting happening with that model). "
      ]
    },
    {
      "cell_type": "markdown",
      "metadata": {
        "id": "QK6Mjfy15OoR",
        "colab_type": "text"
      },
      "source": [
        "Taking computational time and test/training accuracy rates into consideration, I would argue that the model with 3 dense layers, with 128, 64, and 10 neurons, with batch size set to 128, and with the ReLU activation function performed the best. This model does not seem to suffer from overfitting (based on the difference between the test/training set accuracy scores) and is fairly accuracy (85%). While a few models did have slightly higher accuracy scores, such models either had lower accuracy rates for the training sets (indicating potential overfitting issues) or took significantly longer to run.   \n",
        "\n",
        "  \n",
        "In the checkpoints, we were able to achieve accuracy rates of 97% for the MNIST dataset using ANNs. In this challenge, I was only able to achieve accuracy rates of 80-88% even when varying the activation function, the number of layers, neurons, batch sizes, etc. This seems to indicate that it is more challenging to accurately model the Fashion MNIST data than the MNIST data. I could keep tuning the hyperparameters, but perhaps another deep learning approach could achieve even better accuracy rates than these ANN models were able to. 85% accuracy is fine but there is certainly room for improvement here.\n",
        "\n",
        " "
      ]
    }
  ]
}