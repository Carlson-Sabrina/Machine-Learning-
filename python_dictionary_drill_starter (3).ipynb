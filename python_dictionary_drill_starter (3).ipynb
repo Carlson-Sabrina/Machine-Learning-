{
  "nbformat": 4,
  "nbformat_minor": 0,
  "metadata": {
    "kernelspec": {
      "display_name": "Python 3",
      "language": "python",
      "name": "python3"
    },
    "language_info": {
      "codemirror_mode": {
        "name": "ipython",
        "version": 3
      },
      "file_extension": ".py",
      "mimetype": "text/x-python",
      "name": "python",
      "nbconvert_exporter": "python",
      "pygments_lexer": "ipython3",
      "version": "3.7.0"
    },
    "colab": {
      "name": "Copy of python_dictionary_drill_starter.ipynb",
      "provenance": [],
      "collapsed_sections": []
    }
  },
  "cells": [
    {
      "cell_type": "markdown",
      "metadata": {
        "id": "_JnYqK3Li_DD",
        "colab_type": "text"
      },
      "source": [
        "## 1: `fillable`\n",
        "\n",
        "You're running an online business and a big part of your day is fulfilling orders. As your volume picks up that's been taking more of your time, and unfortunately lately you've been running into situations where you take an order but can't fulfill it.\n",
        "\n",
        "You've decided to write a function `fillable` that takes three arguments: a dictionary stock representing all the merchandise you have in stock, a string merch representing the thing your customer wants to buy, and an integer `n` representing the number of units of merch they would like to buy. Your function should return `True` if you have the merchandise in stock to complete the sale, otherwise it should return `False`.\n",
        "\n",
        "Valid data will always be passed in and n will always be >= 1."
      ]
    },
    {
      "cell_type": "code",
      "metadata": {
        "id": "-JT6-MCti_DH",
        "colab_type": "code",
        "colab": {
          "base_uri": "https://localhost:8080/",
          "height": 104
        },
        "outputId": "71eafad6-be50-4ca9-c0ff-68d6fb615c12"
      },
      "source": [
        "my_stock = {\"Apples\": 1,\n",
        "           \"Bananas\": 2,\n",
        "            \"Oranges\": 3}\n",
        "def fillable(stock,merch,units):\n",
        "  if merch not in stock:\n",
        "    return False\n",
        "  elif stock[merch] >= units:\n",
        "   return(True)\n",
        "  else: \n",
        "    return(False)\n",
        "\n",
        "\n",
        "\n",
        "print(fillable(my_stock, \"Apples\", 1))\n",
        "print(fillable(my_stock, \"Grapes\", 7))\n",
        "print(fillable({\"Pears\": 1, \"Pineapples\": 8}, \"Pineapples\", 8))\n",
        "print(fillable({\"Apples\": 2, \"Mangos\": 5, \"Pears\": 1}, \"Mangos\", 4))\n",
        "print(fillable({\"Apples\": 2, \"Mangos\": 5, \"Pears\": 1}, \"Mangos\", 6))"
      ],
      "execution_count": null,
      "outputs": [
        {
          "output_type": "stream",
          "text": [
            "True\n",
            "False\n",
            "True\n",
            "True\n",
            "False\n"
          ],
          "name": "stdout"
        }
      ]
    },
    {
      "cell_type": "markdown",
      "metadata": {
        "id": "D4ZUrp_pi_DN",
        "colab_type": "text"
      },
      "source": [
        " \n",
        "\n",
        "You're putting together contact information for all the users of your website to ship them a small gift. You queried your database and got back a list of users, where each user is another list with up to two items: a string representing the user's name and their shipping zip code. Example data might look like:\n",
        "\n",
        "```python\n",
        "[[\"Grae Drake\", 98110], [\"Bethany Kok\"], [\"Alex Nussbacher\", 94101], [\"Darrell Silver\", 11201]]\n",
        "```\n",
        "\n",
        "Notice that one of the users above has a name but doesn't have a zip code.\n",
        "\n",
        "Write a function `user_contacts` that takes a two-dimensional list like the one above and returns a dictionary with an item for each user where the key is the user's name and the value is the user's zip code. If your data doesn't include a zip code then the value should be `None`.\n",
        "\n",
        "For example, using the input above, user_contacts would return this dictionary:\n",
        "\n",
        "```python\n",
        "{\n",
        "    \"Grae Drake\": 98110,\n",
        "    \"Bethany Kok\": None,\n",
        "    \"Alex Nussbacher\": 94101,\n",
        "    \"Darrell Silver\": 11201,    \n",
        "}\n",
        "```\n",
        "\n",
        "You don't have to worry about leading zeros in zip codes."
      ]
    },
    {
      "cell_type": "code",
      "metadata": {
        "id": "W_uMNltcg-lm",
        "colab_type": "code",
        "colab": {
          "base_uri": "https://localhost:8080/",
          "height": 35
        },
        "outputId": "fdd0dc12-4678-4261-b384-3059dd5fd0ac"
      },
      "source": [
        "user_info = [[\"Sabrina\", 27527], [\"Sean\", 20120], [\"Asher\", 27613], [\"Jude\"]]\n",
        "def user_contacts(info):\n",
        "  contact_info = {}\n",
        "  for item in info:\n",
        "    if len(item) == 2:\n",
        "      contact_info[item[0]] = item[1]\n",
        "   #if len(item) == 1:\n",
        "   # contact_info[item[0]] = None\n",
        "    else:\n",
        "     contact_info[item[0]] = None \n",
        "  return(contact_info)\n",
        "print(user_contacts(user_info))\n",
        "\n"
      ],
      "execution_count": null,
      "outputs": [
        {
          "output_type": "stream",
          "text": [
            "{'Sabrina': 27527, 'Sean': 20120, 'Asher': 27613, 'Jude': None}\n"
          ],
          "name": "stdout"
        }
      ]
    }
  ]
}