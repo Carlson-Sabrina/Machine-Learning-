{
 "cells": [
  {
   "cell_type": "markdown",
   "metadata": {},
   "source": [
    "### Final Capstone Proposal"
   ]
  },
  {
   "cell_type": "markdown",
   "metadata": {},
   "source": [
    "**Question 1: What is the problem you are attempting to solve?**\n"
   ]
  },
  {
   "cell_type": "markdown",
   "metadata": {},
   "source": [
    "I am attempting to help Instacart predict their product re-orders. Specifically, Instacart needs to know whether or not a customer will re-order a specific product. I will attempt to produce a model that will help Instacart with these predictions. I have explored the dataset quite a bit and am excited to help Instacart with this solution. I hope to achieve at least an 85% accuracy rate."
   ]
  },
  {
   "cell_type": "markdown",
   "metadata": {},
   "source": [
    "**Question 2: How is your solution valuable?**\n"
   ]
  },
  {
   "cell_type": "markdown",
   "metadata": {},
   "source": [
    "This solution is valuable because it will help Instacart to develop marketing techniques that will encourage customers to re-order specific products. Being able to accurately predict whether or not a customer will re-order a product will help Instacart to improve their marketing strategies and to ultimately increase their profit. For instance, learning that customers who order frequently will likely order fresh fruit can encourage Instacart to send such customers weekly reminder emails with ads for fresh fruit."
   ]
  },
  {
   "cell_type": "markdown",
   "metadata": {},
   "source": [
    "**Question 3: What is your data source and how will you access it?**\n"
   ]
  },
  {
   "cell_type": "markdown",
   "metadata": {},
   "source": [
    "My data source is Instacart's open source data that was made available in 2017. This dataset consists of 3 million orders and can be accessed here: https://www.instacart.com/datasets/grocery-shopping-2017."
   ]
  },
  {
   "cell_type": "markdown",
   "metadata": {},
   "source": [
    "**Question 4: What techniques from the course do you anticipate using?**\n"
   ]
  },
  {
   "cell_type": "markdown",
   "metadata": {},
   "source": [
    "I will first use data exploration techniques to understand the data and clean it if necessary. I want to understand patterns in the data (e.g., how often customers order, which products are most often re-ordered, how many unique customers are in the dataset, etc.). I will use PCA for dimensionality reduction because this is a large dataset. I will use supervised learning techniques to predict re-orders, including a logistic regression, decision tree, KNN, and gradient boosting model. I will also use clustering algorithms to determine whether I can observe interesting patterns in the data or pull meaningful information from the clusters. Finally, I will use my specialization, which is deep learning, with this dataset. Specifically, I plan to use a neural network to predict re-orders."
   ]
  },
  {
   "cell_type": "markdown",
   "metadata": {},
   "source": [
    "**Question 5: What do you anticipate to be the biggest challenge you’ll face?**"
   ]
  },
  {
   "cell_type": "markdown",
   "metadata": {},
   "source": [
    "I have explored the dataset and can see that there are many challenges with the data. First, there are 6 different files included with the dataset, so it is challenging to understand what each dataset comprises (as this is not obvious) and to determine whether it would be logical to merge the various files. Second, this is a much larger dataset than any other I have worked with, so I know that the supervised models will take a long time to run. Given this challenge, I may have to learn how to use AWS or Google Cloud to run the models. Third, I think it will be difficult to use a neural network with this dataset because there are no images in the data and there are no sequential relationships among the observations. I expect that it will be difficult to achieve a decent accuracy rate with the neural network."
   ]
  }
 ],
 "metadata": {
  "kernelspec": {
   "display_name": "Python 3",
   "language": "python",
   "name": "python3"
  },
  "language_info": {
   "codemirror_mode": {
    "name": "ipython",
    "version": 3
   },
   "file_extension": ".py",
   "mimetype": "text/x-python",
   "name": "python",
   "nbconvert_exporter": "python",
   "pygments_lexer": "ipython3",
   "version": "3.7.4"
  }
 },
 "nbformat": 4,
 "nbformat_minor": 2
}
