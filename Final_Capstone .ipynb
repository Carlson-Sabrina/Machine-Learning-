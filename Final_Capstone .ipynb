{
 "cells": [
  {
   "cell_type": "markdown",
   "metadata": {
    "colab_type": "text",
    "id": "YrePLh2XVO6Y"
   },
   "source": [
    "Instacart operates a grocery delivery and pick-up service across the US and parts of Canada. In 2017, Instacart released an open sourced dataset that comprises 3 millon orders. By exploring this dataset, we can learn about when customers order, what they order, what they re-order, and how often they order. The purpose of this project is to determine whether we can build machine learning models to accurately predict which products Instacart customers re-order. To do so, I will start by exploring the data in detail. I will then fit six different supervised models (logistic regression, KNN, decision tree, random forest, SVC, and gradient boosting models) to determine whether the models can be used to accurately predict future re-orders. I use selectKbest (to find the most important features) and fit these six models, and then apply PCA and use the components to again fit the six supervised models.   \n",
    "\n",
    "I also apply unsupervised learning techniques to the data, aiming to explore whether the data clusters in meaningful and interesting ways. Finally, I build an artifical neutral network to determine if deep learning techniques are useful for this datasest. The data was accessed from https://www.instacart.com/datasets/grocery-shopping-2017 on May 14, 2020."
   ]
  },
  {
   "cell_type": "markdown",
   "metadata": {},
   "source": [
    "### Imports"
   ]
  },
  {
   "cell_type": "code",
   "execution_count": 1,
   "metadata": {
    "colab": {},
    "colab_type": "code",
    "id": "iAttK_SVVING"
   },
   "outputs": [],
   "source": [
    "import warnings\n",
    "warnings.filterwarnings(\"ignore\")\n",
    "\n",
    "from tensorflow.keras.models import Sequential \n",
    "from tensorflow.keras.layers import Dense\n",
    "from tensorflow.keras import optimizers\n",
    "import pandas as pd\n",
    "import numpy as np\n",
    "import matplotlib.pyplot as plt\n",
    "import os\n",
    "from sklearn.model_selection import cross_val_score\n",
    "from sklearn.ensemble import RandomForestClassifier\n",
    "from sklearn.ensemble import GradientBoostingClassifier\n",
    "from sklearn import ensemble\n",
    "from sklearn import svm, datasets\n",
    "from sklearn.metrics import accuracy_score,recall_score,precision_score,f1_score, classification_report, roc_curve, auc, roc_auc_score\n",
    "from sklearn.model_selection import GridSearchCV\n",
    "import seaborn as sns\n",
    "from sklearn.model_selection import train_test_split\n",
    "from sklearn.feature_selection import SelectKBest, f_classif, chi2\n",
    "from sklearn.linear_model import LogisticRegression\n",
    "from sklearn.utils import resample\n",
    "from sklearn.neighbors import KNeighborsClassifier\n",
    "from sklearn.tree import DecisionTreeClassifier\n",
    "from sklearn.metrics import confusion_matrix\n",
    "from sklearn.svm import SVC \n",
    "from sklearn import ensemble\n",
    "from sklearn.preprocessing import StandardScaler\n",
    "from sklearn.decomposition import PCA\n",
    "from sklearn.metrics import accuracy_score\n",
    "from sklearn.model_selection import cross_val_score\n",
    "from sklearn.ensemble import GradientBoostingClassifier\n",
    "from sklearn import metrics\n",
    "from sklearn.cluster import AgglomerativeClustering\n",
    "from sklearn import svm, datasets\n",
    "from sklearn.mixture import GaussianMixture\n",
    "from scipy.stats.mstats import winsorize\n",
    "from sklearn.utils import resample\n",
    "from sklearn.cluster import KMeans\n",
    "from sklearn.manifold import TSNE\n",
    "import io\n",
    "%matplotlib inline"
   ]
  },
  {
   "cell_type": "markdown",
   "metadata": {},
   "source": [
    "## Data Exploration"
   ]
  },
  {
   "cell_type": "markdown",
   "metadata": {},
   "source": [
    "There are six different files included with this Instacart data. The **orders** file, contains data about each order (the person who ordered [id number], when the order was purchased [e.g., day of week, hour of day], etc.). The rows contain the individual orders, and each user has ordered between 4 and 100 times. The **order_products_prior** and **order_products_train** files contain data on the products that were purchased in each order. The former contains data on the previous (most recent) orders for all customers, while the latter contains data on last orders for a subset of customers. I did not use the **order_products_train** file in this project for two reasons. First, I faced computational limitations; second, this dataset was originally used for a competition wherein the contestants needed to utilize this separate file to predict exactly which products were in each basket (which is not the goal of the current project). The **aisles** file provides data on the aisle names, while the **departments** file contains information on the various departments in the stores. Finally, the **products** file provides data on the product names, product ids, and the aisles/departments where the product is located. I will load each file and assign them to dataframes. Then, I will begin the exploration by examining each dataframe individually. "
   ]
  },
  {
   "cell_type": "code",
   "execution_count": 2,
   "metadata": {},
   "outputs": [],
   "source": [
    "#load dataset\n",
    "aisle_df = pd.read_csv(\n",
    "    r'C:\\Users\\Lowe\\Documents\\Thinkful\\Datasets\\Final Capstone Data\\aisles.csv')\n",
    "departments_df = pd.read_csv(\n",
    "    r'C:\\Users\\Lowe\\Documents\\Thinkful\\Datasets\\Final Capstone Data\\departments.csv')\n",
    "order_products_prior_df = pd.read_csv(\n",
    "    r'C:\\Users\\Lowe\\Documents\\Thinkful\\Datasets\\Final Capstone Data\\order_products__prior.csv')\n",
    "order_products_train_df = pd.read_csv(\n",
    "    r'C:\\Users\\Lowe\\Documents\\Thinkful\\Datasets\\Final Capstone Data\\order_products__train.csv')\n",
    "orders_df = pd.read_csv(\n",
    "    r'C:\\Users\\Lowe\\Documents\\Thinkful\\Datasets\\Final Capstone Data\\orders.csv')\n",
    "products_df = pd.read_csv(\n",
    "    r'C:\\Users\\Lowe\\Documents\\Thinkful\\Datasets\\Final Capstone Data\\products.csv')"
   ]
  },
  {
   "cell_type": "markdown",
   "metadata": {},
   "source": [
    "### Orders"
   ]
  },
  {
   "cell_type": "markdown",
   "metadata": {
    "colab_type": "text",
    "id": "s2rlYBz_B2Tg"
   },
   "source": [
    "Let's explore the **orders** dataframe, which provides detailed information on each order. "
   ]
  },
  {
   "cell_type": "code",
   "execution_count": 27,
   "metadata": {
    "colab": {
     "base_uri": "https://localhost:8080/",
     "height": 35
    },
    "colab_type": "code",
    "id": "x-UTcg2HziqL",
    "outputId": "897024ff-8e40-43e8-e139-065018ae7429"
   },
   "outputs": [
    {
     "name": "stdout",
     "output_type": "stream",
     "text": [
      "Number of rows in the dataset :  1048575\n"
     ]
    }
   ],
   "source": [
    "print(\"Number of rows in the dataset : \",len(orders_df))"
   ]
  },
  {
   "cell_type": "code",
   "execution_count": 4,
   "metadata": {
    "colab": {
     "base_uri": "https://localhost:8080/",
     "height": 355
    },
    "colab_type": "code",
    "id": "DPhJHKLmGbUZ",
    "outputId": "f99c8b4f-56f1-487a-8c46-3d08c47bc36a"
   },
   "outputs": [
    {
     "data": {
      "text/html": [
       "<div>\n",
       "<style scoped>\n",
       "    .dataframe tbody tr th:only-of-type {\n",
       "        vertical-align: middle;\n",
       "    }\n",
       "\n",
       "    .dataframe tbody tr th {\n",
       "        vertical-align: top;\n",
       "    }\n",
       "\n",
       "    .dataframe thead th {\n",
       "        text-align: right;\n",
       "    }\n",
       "</style>\n",
       "<table border=\"1\" class=\"dataframe\">\n",
       "  <thead>\n",
       "    <tr style=\"text-align: right;\">\n",
       "      <th></th>\n",
       "      <th>order_id</th>\n",
       "      <th>user_id</th>\n",
       "      <th>eval_set</th>\n",
       "      <th>order_number</th>\n",
       "      <th>order_dow</th>\n",
       "      <th>order_hour_of_day</th>\n",
       "      <th>days_since_prior_order</th>\n",
       "    </tr>\n",
       "  </thead>\n",
       "  <tbody>\n",
       "    <tr>\n",
       "      <td>0</td>\n",
       "      <td>2539329</td>\n",
       "      <td>1</td>\n",
       "      <td>prior</td>\n",
       "      <td>1</td>\n",
       "      <td>2</td>\n",
       "      <td>8</td>\n",
       "      <td>NaN</td>\n",
       "    </tr>\n",
       "    <tr>\n",
       "      <td>1</td>\n",
       "      <td>2398795</td>\n",
       "      <td>1</td>\n",
       "      <td>prior</td>\n",
       "      <td>2</td>\n",
       "      <td>3</td>\n",
       "      <td>7</td>\n",
       "      <td>15.0</td>\n",
       "    </tr>\n",
       "    <tr>\n",
       "      <td>2</td>\n",
       "      <td>473747</td>\n",
       "      <td>1</td>\n",
       "      <td>prior</td>\n",
       "      <td>3</td>\n",
       "      <td>3</td>\n",
       "      <td>12</td>\n",
       "      <td>21.0</td>\n",
       "    </tr>\n",
       "    <tr>\n",
       "      <td>3</td>\n",
       "      <td>2254736</td>\n",
       "      <td>1</td>\n",
       "      <td>prior</td>\n",
       "      <td>4</td>\n",
       "      <td>4</td>\n",
       "      <td>7</td>\n",
       "      <td>29.0</td>\n",
       "    </tr>\n",
       "    <tr>\n",
       "      <td>4</td>\n",
       "      <td>431534</td>\n",
       "      <td>1</td>\n",
       "      <td>prior</td>\n",
       "      <td>5</td>\n",
       "      <td>4</td>\n",
       "      <td>15</td>\n",
       "      <td>28.0</td>\n",
       "    </tr>\n",
       "    <tr>\n",
       "      <td>5</td>\n",
       "      <td>3367565</td>\n",
       "      <td>1</td>\n",
       "      <td>prior</td>\n",
       "      <td>6</td>\n",
       "      <td>2</td>\n",
       "      <td>7</td>\n",
       "      <td>19.0</td>\n",
       "    </tr>\n",
       "    <tr>\n",
       "      <td>6</td>\n",
       "      <td>550135</td>\n",
       "      <td>1</td>\n",
       "      <td>prior</td>\n",
       "      <td>7</td>\n",
       "      <td>1</td>\n",
       "      <td>9</td>\n",
       "      <td>20.0</td>\n",
       "    </tr>\n",
       "    <tr>\n",
       "      <td>7</td>\n",
       "      <td>3108588</td>\n",
       "      <td>1</td>\n",
       "      <td>prior</td>\n",
       "      <td>8</td>\n",
       "      <td>1</td>\n",
       "      <td>14</td>\n",
       "      <td>14.0</td>\n",
       "    </tr>\n",
       "    <tr>\n",
       "      <td>8</td>\n",
       "      <td>2295261</td>\n",
       "      <td>1</td>\n",
       "      <td>prior</td>\n",
       "      <td>9</td>\n",
       "      <td>1</td>\n",
       "      <td>16</td>\n",
       "      <td>0.0</td>\n",
       "    </tr>\n",
       "    <tr>\n",
       "      <td>9</td>\n",
       "      <td>2550362</td>\n",
       "      <td>1</td>\n",
       "      <td>prior</td>\n",
       "      <td>10</td>\n",
       "      <td>4</td>\n",
       "      <td>8</td>\n",
       "      <td>30.0</td>\n",
       "    </tr>\n",
       "  </tbody>\n",
       "</table>\n",
       "</div>"
      ],
      "text/plain": [
       "   order_id  user_id eval_set  order_number  order_dow  order_hour_of_day  \\\n",
       "0   2539329        1    prior             1          2                  8   \n",
       "1   2398795        1    prior             2          3                  7   \n",
       "2    473747        1    prior             3          3                 12   \n",
       "3   2254736        1    prior             4          4                  7   \n",
       "4    431534        1    prior             5          4                 15   \n",
       "5   3367565        1    prior             6          2                  7   \n",
       "6    550135        1    prior             7          1                  9   \n",
       "7   3108588        1    prior             8          1                 14   \n",
       "8   2295261        1    prior             9          1                 16   \n",
       "9   2550362        1    prior            10          4                  8   \n",
       "\n",
       "   days_since_prior_order  \n",
       "0                     NaN  \n",
       "1                    15.0  \n",
       "2                    21.0  \n",
       "3                    29.0  \n",
       "4                    28.0  \n",
       "5                    19.0  \n",
       "6                    20.0  \n",
       "7                    14.0  \n",
       "8                     0.0  \n",
       "9                    30.0  "
      ]
     },
     "execution_count": 4,
     "metadata": {},
     "output_type": "execute_result"
    }
   ],
   "source": [
    "orders_df.head(10)"
   ]
  },
  {
   "cell_type": "markdown",
   "metadata": {
    "colab_type": "text",
    "id": "Jcs9z07SGjMv"
   },
   "source": [
    "As the above table displays, this dataframe contains information on the order id, user id, order number, the day of the week that the order was placed, the hour of the day that the order was placed, how many days have passed since the last order, and which file the order was assigned to (prior, test, or train). This variable (eval_set) is not useful for the present project for reasons explained above. An important distinction is between order_id and order_number. Order_id is used to identify the specific order (think of this as similar to a confirmation number). Order_number, on the other hand, measures how many times a particular user has ordered from Instacart (from 4 to 100 times)."
   ]
  },
  {
   "cell_type": "markdown",
   "metadata": {},
   "source": [
    "Let's check to see whether there are any missing values."
   ]
  },
  {
   "cell_type": "code",
   "execution_count": 6,
   "metadata": {
    "colab": {
     "base_uri": "https://localhost:8080/",
     "height": 156
    },
    "colab_type": "code",
    "id": "3JPUb5tnqpyG",
    "outputId": "e8adad2a-f327-45c4-d496-cbe5e06531ab"
   },
   "outputs": [
    {
     "data": {
      "text/plain": [
       "order_id                  0.000000\n",
       "user_id                   0.000000\n",
       "eval_set                  0.000000\n",
       "order_number              0.000000\n",
       "order_dow                 0.000000\n",
       "order_hour_of_day         0.000000\n",
       "days_since_prior_order    0.060177\n",
       "dtype: float64"
      ]
     },
     "execution_count": 6,
     "metadata": {},
     "output_type": "execute_result"
    }
   ],
   "source": [
    "#get missing values\n",
    "orders_df.isnull().sum()/orders_df.isnull().count().sort_values(ascending=True)"
   ]
  },
  {
   "cell_type": "markdown",
   "metadata": {
    "colab_type": "text",
    "id": "LQ2rY27Sq6AH"
   },
   "source": [
    "The missing values comprise 6.1% of the rows for the days_since_prior_order variable. No other variable contains missing values. I'll impute the mean for the missing values and check to make sure there were no substantial changes."
   ]
  },
  {
   "cell_type": "code",
   "execution_count": 0,
   "metadata": {
    "colab": {
     "base_uri": "https://localhost:8080/",
     "height": 35
    },
    "colab_type": "code",
    "id": "yegDSC-jusxz",
    "outputId": "bab79abf-f7b5-49ad-b489-b0afb34612cc"
   },
   "outputs": [
    {
     "name": "stdout",
     "output_type": "stream",
     "text": [
      "Mean for days_since_prior_order before imputation :  11.102505898170932\n"
     ]
    }
   ],
   "source": [
    "print(\"Mean for days_since_prior_order before imputation : \",orders_df['days_since_prior_order'].mean())"
   ]
  },
  {
   "cell_type": "code",
   "execution_count": 3,
   "metadata": {
    "colab": {},
    "colab_type": "code",
    "id": "cofLq0AAubVB"
   },
   "outputs": [],
   "source": [
    "#impute mean for missing values\n",
    "orders_df[\"days_since_prior_order\"] = orders_df[\"days_since_prior_order\"].fillna(orders_df[\"days_since_prior_order\"].mean())"
   ]
  },
  {
   "cell_type": "code",
   "execution_count": 6,
   "metadata": {
    "colab": {
     "base_uri": "https://localhost:8080/",
     "height": 35
    },
    "colab_type": "code",
    "id": "8H4iBMUvvXJk",
    "outputId": "3a84bbb6-11e8-489f-c0cc-4f3fe674307c"
   },
   "outputs": [
    {
     "name": "stdout",
     "output_type": "stream",
     "text": [
      "Mean for days_since_prior_order after imputation :  11.102505898167335\n"
     ]
    }
   ],
   "source": [
    "print(\"Mean for days_since_prior_order after imputation : \",orders_df['days_since_prior_order'].mean())"
   ]
  },
  {
   "cell_type": "markdown",
   "metadata": {
    "colab_type": "text",
    "id": "RQx7IA7VxBci"
   },
   "source": [
    "The difference in means before and after imputation is negligible. It is safe to move forward after imputing the mean for missing values. Let's see how many unique customers there are in the dataset."
   ]
  },
  {
   "cell_type": "code",
   "execution_count": 0,
   "metadata": {
    "colab": {
     "base_uri": "https://localhost:8080/",
     "height": 35
    },
    "colab_type": "code",
    "id": "HEWG4DTNhMGG",
    "outputId": "50b8047d-8553-4468-d1cb-8c7809959c50"
   },
   "outputs": [
    {
     "name": "stdout",
     "output_type": "stream",
     "text": [
      "Number of unique customers in the dataset :  63100\n"
     ]
    }
   ],
   "source": [
    "print(\"Number of unique customers in the dataset : \",len(set(orders_df.user_id)))"
   ]
  },
  {
   "cell_type": "markdown",
   "metadata": {
    "colab_type": "text",
    "id": "OjnA7_vPPDlM"
   },
   "source": [
    "There are 63,100 users in total. Let's check out the time of day and day of week that people place orders."
   ]
  },
  {
   "cell_type": "code",
   "execution_count": 0,
   "metadata": {
    "colab": {
     "base_uri": "https://localhost:8080/",
     "height": 279
    },
    "colab_type": "code",
    "id": "8AmZE8yKJP2X",
    "outputId": "067e8b52-4b16-4364-b4f7-083a5676becd"
   },
   "outputs": [
    {
     "data": {
      "image/png": "[encoded data removed]",
      "text/plain": [
       "<Figure size 432x288 with 1 Axes>"
      ]
     },
     "metadata": {
      "needs_background": "light",
      "tags": []
     },
     "output_type": "display_data"
    }
   ],
   "source": [
    "ax = sns.countplot(data=orders_df, x='order_hour_of_day', palette='pastel')\n",
    "ax.set(xlabel='Hour of Day', ylabel='Number of Orders')\n",
    "plt.show()"
   ]
  },
  {
   "cell_type": "markdown",
   "metadata": {
    "colab_type": "text",
    "id": "U5lgXvNZkU0q"
   },
   "source": [
    "Most people order in the middle of the day, between 8am and 6pm. This makes sense since most people are likely not ordering groceries in the middle of the night."
   ]
  },
  {
   "cell_type": "code",
   "execution_count": 0,
   "metadata": {
    "colab": {
     "base_uri": "https://localhost:8080/",
     "height": 279
    },
    "colab_type": "code",
    "id": "HLbmlt_CR0RV",
    "outputId": "92a1122b-16c8-44c7-d8a8-091e54c66bf9"
   },
   "outputs": [
    {
     "data": {
      "image/png": "[encoded data removed]",
      "text/plain": [
       "<Figure size 432x288 with 1 Axes>"
      ]
     },
     "metadata": {
      "needs_background": "light",
      "tags": []
     },
     "output_type": "display_data"
    }
   ],
   "source": [
    "ax = sns.countplot(data=orders_df, x='order_dow', palette='pastel' )\n",
    "ax.set(xlabel='Day of Week', ylabel='Number of Orders')\n",
    "plt.show()"
   ]
  },
  {
   "cell_type": "markdown",
   "metadata": {
    "colab_type": "text",
    "id": "jmkobW-_kYmV"
   },
   "source": [
    "The above bar plot illustrates that the order count is highest early in the week, though there is not a huge variation in day of the week by number of orders placed."
   ]
  },
  {
   "cell_type": "code",
   "execution_count": 0,
   "metadata": {
    "colab": {
     "base_uri": "https://localhost:8080/",
     "height": 497
    },
    "colab_type": "code",
    "id": "vMtKKCGfxMZg",
    "outputId": "b8b6e593-cca8-4e32-b7ac-8f5fecf6faea"
   },
   "outputs": [
    {
     "data": {
      "image/png": "[encoded data removed]",
      "text/plain": [
       "<Figure size 1152x576 with 1 Axes>"
      ]
     },
     "metadata": {
      "needs_background": "light",
      "tags": []
     },
     "output_type": "display_data"
    }
   ],
   "source": [
    "a = orders_df.groupby('order_id')['days_since_prior_order'].aggregate('sum').reset_index()\n",
    "a = a.days_since_prior_order.value_counts()\n",
    "plt.subplots(figsize=(16, 8))\n",
    "sns.barplot(a.index,a.values,palette='pastel')\n",
    "plt.ylabel('Number of Orders', fontsize=12)\n",
    "plt.xlabel('Days Since Previous Order Placed')\n",
    "plt.show()"
   ]
  },
  {
   "cell_type": "markdown",
   "metadata": {
    "colab_type": "text",
    "id": "8gSWduWajdp_"
   },
   "source": [
    "The above barplot illustrates that the data is skewed to the left, indicating that most customers re-order within two weeks or so. There is a very large number of customers (over 100,000) who have not re-ordered in the last 30 days. I suspect that these customers either only use Instacart infrequently or do not plan to use the service again at all."
   ]
  },
  {
   "cell_type": "code",
   "execution_count": 0,
   "metadata": {
    "colab": {
     "base_uri": "https://localhost:8080/",
     "height": 605
    },
    "colab_type": "code",
    "id": "_mjq5CM8lUHC",
    "outputId": "c6d2fdbc-9a78-4536-8cc8-9ec594fdb9e5"
   },
   "outputs": [
    {
     "data": {
      "image/png": "[encoded data removed]",
      "text/plain": [
       "<Figure size 1440x720 with 1 Axes>"
      ]
     },
     "metadata": {
      "needs_background": "light",
      "tags": []
     },
     "output_type": "display_data"
    }
   ],
   "source": [
    "b = orders_df.groupby('user_id')['order_id'].apply(lambda x: len(x.unique())).reset_index()\n",
    "b = b.groupby('order_id').aggregate('count')\n",
    "plt.subplots(figsize=(20, 10))\n",
    "sns.barplot(b.index, b.user_id, palette='pastel')\n",
    "plt.ylabel('Numbers of Users')\n",
    "plt.xlabel('Number of Orders Per User')\n",
    "plt.xticks(rotation='vertical')\n",
    "plt.show()"
   ]
  },
  {
   "cell_type": "markdown",
   "metadata": {
    "colab_type": "text",
    "id": "qKQqF_T8nThQ"
   },
   "source": [
    "The above graphic illustrates the number of users per customer. Each customer has ordered at least 4 times but no more than 100 times. The distribution is heavily skewed to the left, indicating that most customers have ordered fewer than 20 times or so. "
   ]
  },
  {
   "cell_type": "markdown",
   "metadata": {
    "colab_type": "text",
    "id": "QwphSZBqx6rw"
   },
   "source": [
    "Let's now explore the **order_products_prior** dataframe, which contains information on all previous orders."
   ]
  },
  {
   "cell_type": "code",
   "execution_count": 0,
   "metadata": {
    "colab": {
     "base_uri": "https://localhost:8080/",
     "height": 35
    },
    "colab_type": "code",
    "id": "Bjk2su9DyxXa",
    "outputId": "720140ce-90aa-4a9e-dfc5-14e647d75efa"
   },
   "outputs": [
    {
     "name": "stdout",
     "output_type": "stream",
     "text": [
      "Number of ordered products :  1048575\n"
     ]
    }
   ],
   "source": [
    "print(\"Number of ordered products : \",len(order_products_prior_df))"
   ]
  },
  {
   "cell_type": "code",
   "execution_count": 0,
   "metadata": {
    "colab": {
     "base_uri": "https://localhost:8080/",
     "height": 355
    },
    "colab_type": "code",
    "id": "O2PkDNPeyJ7-",
    "outputId": "381bb585-a710-43f1-b456-87a540aff9e5"
   },
   "outputs": [
    {
     "data": {
      "text/html": [
       "<div>\n",
       "<style scoped>\n",
       "    .dataframe tbody tr th:only-of-type {\n",
       "        vertical-align: middle;\n",
       "    }\n",
       "\n",
       "    .dataframe tbody tr th {\n",
       "        vertical-align: top;\n",
       "    }\n",
       "\n",
       "    .dataframe thead th {\n",
       "        text-align: right;\n",
       "    }\n",
       "</style>\n",
       "<table border=\"1\" class=\"dataframe\">\n",
       "  <thead>\n",
       "    <tr style=\"text-align: right;\">\n",
       "      <th></th>\n",
       "      <th>order_id</th>\n",
       "      <th>product_id</th>\n",
       "      <th>add_to_cart_order</th>\n",
       "      <th>reordered</th>\n",
       "    </tr>\n",
       "  </thead>\n",
       "  <tbody>\n",
       "    <tr>\n",
       "      <th>0</th>\n",
       "      <td>2</td>\n",
       "      <td>33120</td>\n",
       "      <td>1</td>\n",
       "      <td>1</td>\n",
       "    </tr>\n",
       "    <tr>\n",
       "      <th>1</th>\n",
       "      <td>2</td>\n",
       "      <td>28985</td>\n",
       "      <td>2</td>\n",
       "      <td>1</td>\n",
       "    </tr>\n",
       "    <tr>\n",
       "      <th>2</th>\n",
       "      <td>2</td>\n",
       "      <td>9327</td>\n",
       "      <td>3</td>\n",
       "      <td>0</td>\n",
       "    </tr>\n",
       "    <tr>\n",
       "      <th>3</th>\n",
       "      <td>2</td>\n",
       "      <td>45918</td>\n",
       "      <td>4</td>\n",
       "      <td>1</td>\n",
       "    </tr>\n",
       "    <tr>\n",
       "      <th>4</th>\n",
       "      <td>2</td>\n",
       "      <td>30035</td>\n",
       "      <td>5</td>\n",
       "      <td>0</td>\n",
       "    </tr>\n",
       "    <tr>\n",
       "      <th>5</th>\n",
       "      <td>2</td>\n",
       "      <td>17794</td>\n",
       "      <td>6</td>\n",
       "      <td>1</td>\n",
       "    </tr>\n",
       "    <tr>\n",
       "      <th>6</th>\n",
       "      <td>2</td>\n",
       "      <td>40141</td>\n",
       "      <td>7</td>\n",
       "      <td>1</td>\n",
       "    </tr>\n",
       "    <tr>\n",
       "      <th>7</th>\n",
       "      <td>2</td>\n",
       "      <td>1819</td>\n",
       "      <td>8</td>\n",
       "      <td>1</td>\n",
       "    </tr>\n",
       "    <tr>\n",
       "      <th>8</th>\n",
       "      <td>2</td>\n",
       "      <td>43668</td>\n",
       "      <td>9</td>\n",
       "      <td>0</td>\n",
       "    </tr>\n",
       "    <tr>\n",
       "      <th>9</th>\n",
       "      <td>3</td>\n",
       "      <td>33754</td>\n",
       "      <td>1</td>\n",
       "      <td>1</td>\n",
       "    </tr>\n",
       "  </tbody>\n",
       "</table>\n",
       "</div>"
      ],
      "text/plain": [
       "   order_id  product_id  add_to_cart_order  reordered\n",
       "0         2       33120                  1          1\n",
       "1         2       28985                  2          1\n",
       "2         2        9327                  3          0\n",
       "3         2       45918                  4          1\n",
       "4         2       30035                  5          0\n",
       "5         2       17794                  6          1\n",
       "6         2       40141                  7          1\n",
       "7         2        1819                  8          1\n",
       "8         2       43668                  9          0\n",
       "9         3       33754                  1          1"
      ]
     },
     "execution_count": 55,
     "metadata": {
      "tags": []
     },
     "output_type": "execute_result"
    }
   ],
   "source": [
    "#look at first 10 rows\n",
    "order_products_prior_df.head(10)"
   ]
  },
  {
   "cell_type": "markdown",
   "metadata": {
    "colab_type": "text",
    "id": "kXICI8hozuWo"
   },
   "source": [
    "The above table shows that this dataframe contains information on order_id, product_id,  add_to_cart_order, and reordered. Let's start by exploring whether there are missing values."
   ]
  },
  {
   "cell_type": "code",
   "execution_count": 0,
   "metadata": {
    "colab": {
     "base_uri": "https://localhost:8080/",
     "height": 104
    },
    "colab_type": "code",
    "id": "8y-kaqgZ0DaT",
    "outputId": "9241a713-1866-41ac-ba85-dffbb3fa8387"
   },
   "outputs": [
    {
     "data": {
      "text/plain": [
       "order_id             0.0\n",
       "product_id           0.0\n",
       "add_to_cart_order    0.0\n",
       "reordered            0.0\n",
       "dtype: float64"
      ]
     },
     "execution_count": 62,
     "metadata": {
      "tags": []
     },
     "output_type": "execute_result"
    }
   ],
   "source": [
    "#get missing values\n",
    "order_products_prior_df.isnull().sum()/order_products_prior_df.isnull().count().sort_values(ascending=True)"
   ]
  },
  {
   "cell_type": "markdown",
   "metadata": {
    "colab_type": "text",
    "id": "SxSV-t700X11"
   },
   "source": [
    "Luckily, there are no missing values in this dataframe. Let's check out the breakdown for the reordered variable."
   ]
  },
  {
   "cell_type": "code",
   "execution_count": 0,
   "metadata": {
    "colab": {
     "base_uri": "https://localhost:8080/",
     "height": 69
    },
    "colab_type": "code",
    "id": "v41N5U-O04qW",
    "outputId": "c1c39ff4-5c3a-4dd4-e332-1cffe35e083e"
   },
   "outputs": [
    {
     "data": {
      "text/plain": [
       "1    619141\n",
       "0    429434\n",
       "Name: reordered, dtype: int64"
      ]
     },
     "execution_count": 63,
     "metadata": {
      "tags": []
     },
     "output_type": "execute_result"
    }
   ],
   "source": [
    "#get value counts\n",
    "order_products_prior_df['reordered'].value_counts()"
   ]
  },
  {
   "cell_type": "code",
   "execution_count": 0,
   "metadata": {
    "colab": {
     "base_uri": "https://localhost:8080/",
     "height": 35
    },
    "colab_type": "code",
    "id": "JbWyh4mammjC",
    "outputId": "e839dd47-3b06-4bff-c8d7-6b32c74c61ad"
   },
   "outputs": [
    {
     "name": "stdout",
     "output_type": "stream",
     "text": [
      "The percentage of re-ordered products is  0.5904594330400782\n"
     ]
    }
   ],
   "source": [
    "#get percentage of reordered\n",
    "print(\"The percentage of re-ordered products is \", order_products_prior_df['reordered'].sum() / order_products_prior_df.shape[0])"
   ]
  },
  {
   "cell_type": "code",
   "execution_count": 0,
   "metadata": {
    "colab": {
     "base_uri": "https://localhost:8080/",
     "height": 299
    },
    "colab_type": "code",
    "id": "gjeVu-up1H8k",
    "outputId": "c16278bc-b97b-4caa-dca9-c1b05b63ef76"
   },
   "outputs": [
    {
     "data": {
      "text/plain": [
       "Text(0, 0.5, 'Value Counts')"
      ]
     },
     "execution_count": 26,
     "metadata": {
      "tags": []
     },
     "output_type": "execute_result"
    },
    {
     "data": {
      "image/png": "[encoded data removed]",
      "text/plain": [
       "<Figure size 432x288 with 1 Axes>"
      ]
     },
     "metadata": {
      "needs_background": "light",
      "tags": []
     },
     "output_type": "display_data"
    }
   ],
   "source": [
    "#plot value counts\n",
    "sns.countplot(order_products_prior_df['reordered'], palette='pastel')\n",
    "plt.title('Product Not Re-ordered (0) V. Product Re-ordered (1)')\n",
    "plt.xlabel('')\n",
    "plt.ylabel('Value Counts')"
   ]
  },
  {
   "cell_type": "markdown",
   "metadata": {
    "colab_type": "text",
    "id": "ZZGkgn2C2H1p"
   },
   "source": [
    "More products are reordered in comparison to products that are not re-ordered. Let's check out how many products people typically order from Instacart."
   ]
  },
  {
   "cell_type": "code",
   "execution_count": 0,
   "metadata": {
    "colab": {
     "base_uri": "https://localhost:8080/",
     "height": 615
    },
    "colab_type": "code",
    "id": "OghA-UHEgzPy",
    "outputId": "db970e5d-41fe-4fb8-927b-eddd46b4ed02"
   },
   "outputs": [
    {
     "data": {
      "image/png": "[encoded data removed]",
      "text/plain": [
       "<Figure size 1152x720 with 1 Axes>"
      ]
     },
     "metadata": {
      "needs_background": "light",
      "tags": []
     },
     "output_type": "display_data"
    }
   ],
   "source": [
    "#get value counts\n",
    "d = order_products_prior_df.groupby(\"order_id\")[\"add_to_cart_order\"].aggregate(\"max\").reset_index()\n",
    "d = d.add_to_cart_order.value_counts()\n",
    "\n",
    "#plot value counts\n",
    "plt.subplots(figsize=(16, 10))\n",
    "plt.xticks(rotation='vertical')\n",
    "sns.barplot(d.index, d.values, palette='pastel')\n",
    "\n",
    "plt.ylabel('Number of Orders')\n",
    "plt.xlabel('Number of products per order')\n",
    "plt.show()"
   ]
  },
  {
   "cell_type": "markdown",
   "metadata": {
    "colab_type": "text",
    "id": "QfWdNFVAKkdb"
   },
   "source": [
    "I want to merge the **products, orders**, and **orders_products_prior_df** dataframes so that I can explore which products are most often re-ordered. This is an important step because the **order_products_prior_df** only contains the product ids, which is not very meaningful. Merging all three dataframes will combine all order and all product information."
   ]
  },
  {
   "cell_type": "code",
   "execution_count": 4,
   "metadata": {
    "colab": {
     "base_uri": "https://localhost:8080/",
     "height": 202
    },
    "colab_type": "code",
    "id": "56bSXxt1joYF",
    "outputId": "929177cd-9597-4037-f82a-484faf2e2158"
   },
   "outputs": [
    {
     "data": {
      "text/html": [
       "<div>\n",
       "<style scoped>\n",
       "    .dataframe tbody tr th:only-of-type {\n",
       "        vertical-align: middle;\n",
       "    }\n",
       "\n",
       "    .dataframe tbody tr th {\n",
       "        vertical-align: top;\n",
       "    }\n",
       "\n",
       "    .dataframe thead th {\n",
       "        text-align: right;\n",
       "    }\n",
       "</style>\n",
       "<table border=\"1\" class=\"dataframe\">\n",
       "  <thead>\n",
       "    <tr style=\"text-align: right;\">\n",
       "      <th></th>\n",
       "      <th>order_id</th>\n",
       "      <th>product_id</th>\n",
       "      <th>add_to_cart_order</th>\n",
       "      <th>reordered</th>\n",
       "      <th>product_name</th>\n",
       "      <th>aisle_id</th>\n",
       "      <th>department_id</th>\n",
       "    </tr>\n",
       "  </thead>\n",
       "  <tbody>\n",
       "    <tr>\n",
       "      <td>0</td>\n",
       "      <td>2</td>\n",
       "      <td>33120</td>\n",
       "      <td>1</td>\n",
       "      <td>1</td>\n",
       "      <td>Organic Egg Whites</td>\n",
       "      <td>86</td>\n",
       "      <td>16</td>\n",
       "    </tr>\n",
       "    <tr>\n",
       "      <td>1</td>\n",
       "      <td>2</td>\n",
       "      <td>28985</td>\n",
       "      <td>2</td>\n",
       "      <td>1</td>\n",
       "      <td>Michigan Organic Kale</td>\n",
       "      <td>83</td>\n",
       "      <td>4</td>\n",
       "    </tr>\n",
       "    <tr>\n",
       "      <td>2</td>\n",
       "      <td>2</td>\n",
       "      <td>9327</td>\n",
       "      <td>3</td>\n",
       "      <td>0</td>\n",
       "      <td>Garlic Powder</td>\n",
       "      <td>104</td>\n",
       "      <td>13</td>\n",
       "    </tr>\n",
       "    <tr>\n",
       "      <td>3</td>\n",
       "      <td>2</td>\n",
       "      <td>45918</td>\n",
       "      <td>4</td>\n",
       "      <td>1</td>\n",
       "      <td>Coconut Butter</td>\n",
       "      <td>19</td>\n",
       "      <td>13</td>\n",
       "    </tr>\n",
       "    <tr>\n",
       "      <td>4</td>\n",
       "      <td>2</td>\n",
       "      <td>30035</td>\n",
       "      <td>5</td>\n",
       "      <td>0</td>\n",
       "      <td>Natural Sweetener</td>\n",
       "      <td>17</td>\n",
       "      <td>13</td>\n",
       "    </tr>\n",
       "  </tbody>\n",
       "</table>\n",
       "</div>"
      ],
      "text/plain": [
       "   order_id  product_id  add_to_cart_order  reordered           product_name  \\\n",
       "0         2       33120                  1          1     Organic Egg Whites   \n",
       "1         2       28985                  2          1  Michigan Organic Kale   \n",
       "2         2        9327                  3          0          Garlic Powder   \n",
       "3         2       45918                  4          1         Coconut Butter   \n",
       "4         2       30035                  5          0      Natural Sweetener   \n",
       "\n",
       "   aisle_id  department_id  \n",
       "0        86             16  \n",
       "1        83              4  \n",
       "2       104             13  \n",
       "3        19             13  \n",
       "4        17             13  "
      ]
     },
     "execution_count": 4,
     "metadata": {},
     "output_type": "execute_result"
    }
   ],
   "source": [
    "#merge dataframes\n",
    "order_products_prior_df = pd.merge(order_products_prior_df, products_df, on='product_id', how='left')\n",
    "order_products_prior_df.head()"
   ]
  },
  {
   "cell_type": "code",
   "execution_count": 5,
   "metadata": {
    "colab": {
     "base_uri": "https://localhost:8080/",
     "height": 165
    },
    "colab_type": "code",
    "id": "4w03L0hWQ0a1",
    "outputId": "72f363ac-1cef-46db-8160-244026ad8047"
   },
   "outputs": [
    {
     "data": {
      "text/html": [
       "<div>\n",
       "<style scoped>\n",
       "    .dataframe tbody tr th:only-of-type {\n",
       "        vertical-align: middle;\n",
       "    }\n",
       "\n",
       "    .dataframe tbody tr th {\n",
       "        vertical-align: top;\n",
       "    }\n",
       "\n",
       "    .dataframe thead th {\n",
       "        text-align: right;\n",
       "    }\n",
       "</style>\n",
       "<table border=\"1\" class=\"dataframe\">\n",
       "  <thead>\n",
       "    <tr style=\"text-align: right;\">\n",
       "      <th></th>\n",
       "      <th>order_id</th>\n",
       "      <th>user_id</th>\n",
       "      <th>eval_set</th>\n",
       "      <th>order_number</th>\n",
       "      <th>order_dow</th>\n",
       "      <th>order_hour_of_day</th>\n",
       "      <th>days_since_prior_order</th>\n",
       "      <th>product_id</th>\n",
       "      <th>add_to_cart_order</th>\n",
       "      <th>reordered</th>\n",
       "      <th>product_name</th>\n",
       "      <th>aisle_id</th>\n",
       "      <th>department_id</th>\n",
       "    </tr>\n",
       "  </thead>\n",
       "  <tbody>\n",
       "    <tr>\n",
       "      <td>0</td>\n",
       "      <td>94891</td>\n",
       "      <td>4</td>\n",
       "      <td>prior</td>\n",
       "      <td>4</td>\n",
       "      <td>5</td>\n",
       "      <td>13</td>\n",
       "      <td>15.0</td>\n",
       "      <td>22199</td>\n",
       "      <td>1</td>\n",
       "      <td>0</td>\n",
       "      <td>Extra-Dry Cava</td>\n",
       "      <td>134</td>\n",
       "      <td>5</td>\n",
       "    </tr>\n",
       "    <tr>\n",
       "      <td>1</td>\n",
       "      <td>94891</td>\n",
       "      <td>4</td>\n",
       "      <td>prior</td>\n",
       "      <td>4</td>\n",
       "      <td>5</td>\n",
       "      <td>13</td>\n",
       "      <td>15.0</td>\n",
       "      <td>25146</td>\n",
       "      <td>2</td>\n",
       "      <td>0</td>\n",
       "      <td>Original Orange Juice</td>\n",
       "      <td>31</td>\n",
       "      <td>7</td>\n",
       "    </tr>\n",
       "  </tbody>\n",
       "</table>\n",
       "</div>"
      ],
      "text/plain": [
       "   order_id  user_id eval_set  order_number  order_dow  order_hour_of_day  \\\n",
       "0     94891        4    prior             4          5                 13   \n",
       "1     94891        4    prior             4          5                 13   \n",
       "\n",
       "   days_since_prior_order  product_id  add_to_cart_order  reordered  \\\n",
       "0                    15.0       22199                  1          0   \n",
       "1                    15.0       25146                  2          0   \n",
       "\n",
       "            product_name  aisle_id  department_id  \n",
       "0         Extra-Dry Cava       134              5  \n",
       "1  Original Orange Juice        31              7  "
      ]
     },
     "execution_count": 5,
     "metadata": {},
     "output_type": "execute_result"
    }
   ],
   "source": [
    "#merge dataframes\n",
    "orders_products_df = pd.merge(orders_df, order_products_prior_df, on = 'order_id', how='inner')\n",
    "orders_products_df.head(2)"
   ]
  },
  {
   "cell_type": "markdown",
   "metadata": {
    "colab_type": "text",
    "id": "rUp-j07PrxDA"
   },
   "source": [
    "Now that I have the product name matched with product id, let's explore which products are most often ordered."
   ]
  },
  {
   "cell_type": "code",
   "execution_count": 0,
   "metadata": {
    "colab": {
     "base_uri": "https://localhost:8080/",
     "height": 509
    },
    "colab_type": "code",
    "id": "xY9MunOrsLbZ",
    "outputId": "f48cc9f3-f71a-4bf2-9d52-e2725f339078"
   },
   "outputs": [
    {
     "data": {
      "text/html": [
       "<div>\n",
       "<style scoped>\n",
       "    .dataframe tbody tr th:only-of-type {\n",
       "        vertical-align: middle;\n",
       "    }\n",
       "\n",
       "    .dataframe tbody tr th {\n",
       "        vertical-align: top;\n",
       "    }\n",
       "\n",
       "    .dataframe thead th {\n",
       "        text-align: right;\n",
       "    }\n",
       "</style>\n",
       "<table border=\"1\" class=\"dataframe\">\n",
       "  <thead>\n",
       "    <tr style=\"text-align: right;\">\n",
       "      <th></th>\n",
       "      <th>Product</th>\n",
       "      <th>Value Count</th>\n",
       "    </tr>\n",
       "  </thead>\n",
       "  <tbody>\n",
       "    <tr>\n",
       "      <th>0</th>\n",
       "      <td>Banana</td>\n",
       "      <td>15450</td>\n",
       "    </tr>\n",
       "    <tr>\n",
       "      <th>1</th>\n",
       "      <td>Bag of Organic Bananas</td>\n",
       "      <td>12409</td>\n",
       "    </tr>\n",
       "    <tr>\n",
       "      <th>2</th>\n",
       "      <td>Organic Strawberries</td>\n",
       "      <td>8528</td>\n",
       "    </tr>\n",
       "    <tr>\n",
       "      <th>3</th>\n",
       "      <td>Organic Baby Spinach</td>\n",
       "      <td>7852</td>\n",
       "    </tr>\n",
       "    <tr>\n",
       "      <th>4</th>\n",
       "      <td>Organic Hass Avocado</td>\n",
       "      <td>6857</td>\n",
       "    </tr>\n",
       "    <tr>\n",
       "      <th>5</th>\n",
       "      <td>Organic Avocado</td>\n",
       "      <td>5646</td>\n",
       "    </tr>\n",
       "    <tr>\n",
       "      <th>6</th>\n",
       "      <td>Large Lemon</td>\n",
       "      <td>4928</td>\n",
       "    </tr>\n",
       "    <tr>\n",
       "      <th>7</th>\n",
       "      <td>Strawberries</td>\n",
       "      <td>4587</td>\n",
       "    </tr>\n",
       "    <tr>\n",
       "      <th>8</th>\n",
       "      <td>Limes</td>\n",
       "      <td>4526</td>\n",
       "    </tr>\n",
       "    <tr>\n",
       "      <th>9</th>\n",
       "      <td>Organic Raspberries</td>\n",
       "      <td>4420</td>\n",
       "    </tr>\n",
       "    <tr>\n",
       "      <th>10</th>\n",
       "      <td>Organic Whole Milk</td>\n",
       "      <td>4362</td>\n",
       "    </tr>\n",
       "    <tr>\n",
       "      <th>11</th>\n",
       "      <td>Organic Yellow Onion</td>\n",
       "      <td>3607</td>\n",
       "    </tr>\n",
       "    <tr>\n",
       "      <th>12</th>\n",
       "      <td>Organic Garlic</td>\n",
       "      <td>3547</td>\n",
       "    </tr>\n",
       "    <tr>\n",
       "      <th>13</th>\n",
       "      <td>Organic Zucchini</td>\n",
       "      <td>3424</td>\n",
       "    </tr>\n",
       "    <tr>\n",
       "      <th>14</th>\n",
       "      <td>Organic Blueberries</td>\n",
       "      <td>3256</td>\n",
       "    </tr>\n",
       "  </tbody>\n",
       "</table>\n",
       "</div>"
      ],
      "text/plain": [
       "                   Product  Value Count\n",
       "0                   Banana        15450\n",
       "1   Bag of Organic Bananas        12409\n",
       "2     Organic Strawberries         8528\n",
       "3     Organic Baby Spinach         7852\n",
       "4     Organic Hass Avocado         6857\n",
       "5          Organic Avocado         5646\n",
       "6              Large Lemon         4928\n",
       "7             Strawberries         4587\n",
       "8                    Limes         4526\n",
       "9      Organic Raspberries         4420\n",
       "10      Organic Whole Milk         4362\n",
       "11    Organic Yellow Onion         3607\n",
       "12          Organic Garlic         3547\n",
       "13        Organic Zucchini         3424\n",
       "14     Organic Blueberries         3256"
      ]
     },
     "execution_count": 33,
     "metadata": {
      "tags": []
     },
     "output_type": "execute_result"
    }
   ],
   "source": [
    "e = order_products_prior_df['product_name'].value_counts().reset_index()\n",
    "e.columns = ['Product', 'Value Count']\n",
    "e.head(15)"
   ]
  },
  {
   "cell_type": "code",
   "execution_count": 0,
   "metadata": {
    "colab": {
     "base_uri": "https://localhost:8080/",
     "height": 610
    },
    "colab_type": "code",
    "id": "3uh1SWMa6IUj",
    "outputId": "6e5d7937-1c07-434a-d356-59d21e037ee8"
   },
   "outputs": [
    {
     "data": {
      "image/png": "[encoded data removed]",
      "text/plain": [
       "<Figure size 864x576 with 1 Axes>"
      ]
     },
     "metadata": {
      "needs_background": "light",
      "tags": []
     },
     "output_type": "display_data"
    }
   ],
   "source": [
    "f = order_products_prior_df['product_name'].value_counts().head(15)\n",
    "plt.figure(figsize=(12,8))\n",
    "sns.barplot(f.index, f.values, alpha=0.8, palette='pastel')\n",
    "plt.ylabel('Value Count', fontsize=12)\n",
    "plt.xlabel('Product', fontsize=12)\n",
    "plt.xticks(rotation='vertical')\n",
    "plt.show()\n"
   ]
  },
  {
   "cell_type": "markdown",
   "metadata": {
    "colab_type": "text",
    "id": "B42Snjf1s25c"
   },
   "source": [
    "The most ordered products from Instacart are nearly all fruits and vegetables.  "
   ]
  },
  {
   "cell_type": "markdown",
   "metadata": {
    "colab_type": "text",
    "id": "VBB_j7FAEjzz"
   },
   "source": [
    "Now, I want to merge the aisles and departments dataframes with this orders/products dataframe to explore the order breakdowns by aisle and department."
   ]
  },
  {
   "cell_type": "code",
   "execution_count": 6,
   "metadata": {
    "colab": {
     "base_uri": "https://localhost:8080/",
     "height": 217
    },
    "colab_type": "code",
    "id": "mB6IDITlExe1",
    "outputId": "db3eecba-e974-45c7-e6f9-8e854d8be197"
   },
   "outputs": [
    {
     "data": {
      "text/html": [
       "<div>\n",
       "<style scoped>\n",
       "    .dataframe tbody tr th:only-of-type {\n",
       "        vertical-align: middle;\n",
       "    }\n",
       "\n",
       "    .dataframe tbody tr th {\n",
       "        vertical-align: top;\n",
       "    }\n",
       "\n",
       "    .dataframe thead th {\n",
       "        text-align: right;\n",
       "    }\n",
       "</style>\n",
       "<table border=\"1\" class=\"dataframe\">\n",
       "  <thead>\n",
       "    <tr style=\"text-align: right;\">\n",
       "      <th></th>\n",
       "      <th>order_id</th>\n",
       "      <th>user_id</th>\n",
       "      <th>eval_set</th>\n",
       "      <th>order_number</th>\n",
       "      <th>order_dow</th>\n",
       "      <th>order_hour_of_day</th>\n",
       "      <th>days_since_prior_order</th>\n",
       "      <th>product_id</th>\n",
       "      <th>add_to_cart_order</th>\n",
       "      <th>reordered</th>\n",
       "      <th>product_name</th>\n",
       "      <th>aisle_id</th>\n",
       "      <th>department_id</th>\n",
       "      <th>aisle</th>\n",
       "      <th>department</th>\n",
       "    </tr>\n",
       "  </thead>\n",
       "  <tbody>\n",
       "    <tr>\n",
       "      <td>0</td>\n",
       "      <td>94891</td>\n",
       "      <td>4</td>\n",
       "      <td>prior</td>\n",
       "      <td>4</td>\n",
       "      <td>5</td>\n",
       "      <td>13</td>\n",
       "      <td>15.0</td>\n",
       "      <td>22199</td>\n",
       "      <td>1</td>\n",
       "      <td>0</td>\n",
       "      <td>Extra-Dry Cava</td>\n",
       "      <td>134</td>\n",
       "      <td>5</td>\n",
       "      <td>specialty wines champagnes</td>\n",
       "      <td>alcohol</td>\n",
       "    </tr>\n",
       "    <tr>\n",
       "      <td>1</td>\n",
       "      <td>103434</td>\n",
       "      <td>1362</td>\n",
       "      <td>prior</td>\n",
       "      <td>3</td>\n",
       "      <td>3</td>\n",
       "      <td>13</td>\n",
       "      <td>30.0</td>\n",
       "      <td>46725</td>\n",
       "      <td>18</td>\n",
       "      <td>0</td>\n",
       "      <td>Champagne, Extra Dry, Sparkling California</td>\n",
       "      <td>134</td>\n",
       "      <td>5</td>\n",
       "      <td>specialty wines champagnes</td>\n",
       "      <td>alcohol</td>\n",
       "    </tr>\n",
       "  </tbody>\n",
       "</table>\n",
       "</div>"
      ],
      "text/plain": [
       "   order_id  user_id eval_set  order_number  order_dow  order_hour_of_day  \\\n",
       "0     94891        4    prior             4          5                 13   \n",
       "1    103434     1362    prior             3          3                 13   \n",
       "\n",
       "   days_since_prior_order  product_id  add_to_cart_order  reordered  \\\n",
       "0                    15.0       22199                  1          0   \n",
       "1                    30.0       46725                 18          0   \n",
       "\n",
       "                                 product_name  aisle_id  department_id  \\\n",
       "0                              Extra-Dry Cava       134              5   \n",
       "1  Champagne, Extra Dry, Sparkling California       134              5   \n",
       "\n",
       "                        aisle department  \n",
       "0  specialty wines champagnes    alcohol  \n",
       "1  specialty wines champagnes    alcohol  "
      ]
     },
     "execution_count": 6,
     "metadata": {},
     "output_type": "execute_result"
    }
   ],
   "source": [
    "#merge dataframes\n",
    "orders_products_df = pd.merge(orders_products_df, aisle_df, on = 'aisle_id', how='inner')\n",
    "orders_products_df = pd.merge(orders_products_df, departments_df, on = 'department_id', how='inner')\n",
    "orders_products_df.head(2)"
   ]
  },
  {
   "cell_type": "code",
   "execution_count": 0,
   "metadata": {
    "colab": {
     "base_uri": "https://localhost:8080/",
     "height": 744
    },
    "colab_type": "code",
    "id": "fuPPrFZxFXrX",
    "outputId": "d1129fb1-eed2-43ee-904a-703a0fcb7ddf"
   },
   "outputs": [
    {
     "data": {
      "image/png": "[encoded data removed]",
      "text/plain": [
       "<Figure size 1080x720 with 1 Axes>"
      ]
     },
     "metadata": {
      "needs_background": "light",
      "tags": []
     },
     "output_type": "display_data"
    }
   ],
   "source": [
    "x = orders_products_df['aisle'].value_counts().head(20)\n",
    "plt.figure(figsize=(15,10))\n",
    "sns.barplot(x.index, x.values, alpha=0.8, palette='pastel')\n",
    "plt.ylabel('Value Count', fontsize=12)\n",
    "plt.xlabel('Aisle', fontsize=12)\n",
    "plt.xticks(rotation='vertical')\n",
    "plt.show()"
   ]
  },
  {
   "cell_type": "markdown",
   "metadata": {
    "colab_type": "text",
    "id": "sMjckLKlHC7e"
   },
   "source": [
    "The fresh fruit, fresh vegetable, packaged vegetables/fruits, yogurt, packaged cheese, and milk aisles are shopped most often. This makes sense because product and fresh products need to be replaced more often, unlike pantry products that last much longer."
   ]
  },
  {
   "cell_type": "code",
   "execution_count": 0,
   "metadata": {
    "colab": {
     "base_uri": "https://localhost:8080/",
     "height": 679
    },
    "colab_type": "code",
    "id": "k9XFbUPsGf4w",
    "outputId": "add0acf6-a463-49bb-8b4d-c173a3ee774e"
   },
   "outputs": [
    {
     "data": {
      "image/png": "[encoded data removed]",
      "text/plain": [
       "<Figure size 1080x720 with 1 Axes>"
      ]
     },
     "metadata": {
      "needs_background": "light",
      "tags": []
     },
     "output_type": "display_data"
    }
   ],
   "source": [
    "z = orders_products_df['department'].value_counts().head(20)\n",
    "plt.figure(figsize=(15,10))\n",
    "sns.barplot(z.index, z.values, alpha=0.8, palette='pastel')\n",
    "plt.ylabel('Value Count', fontsize=12)\n",
    "plt.xlabel('Department', fontsize=12)\n",
    "plt.xticks(rotation='vertical')\n",
    "plt.show()"
   ]
  },
  {
   "cell_type": "code",
   "execution_count": 40,
   "metadata": {},
   "outputs": [
    {
     "ename": "SyntaxError",
     "evalue": "invalid syntax (<ipython-input-40-6880f590e1d6>, line 1)",
     "output_type": "error",
     "traceback": [
      "\u001b[1;36m  File \u001b[1;32m\"<ipython-input-40-6880f590e1d6>\"\u001b[1;36m, line \u001b[1;32m1\u001b[0m\n\u001b[1;33m    conda install -c conda-forge wordcloud\u001b[0m\n\u001b[1;37m                ^\u001b[0m\n\u001b[1;31mSyntaxError\u001b[0m\u001b[1;31m:\u001b[0m invalid syntax\n"
     ]
    }
   ],
   "source": [
    "conda install -c conda-forge wordcloud \n",
    "from wordcloud import WordCloud\n",
    "# Generate a word cloud image\n",
    "wordcloud = WordCloud(background_color=\"orange\").generate(\" \".join(orders_products_df[\"department\"]))\n",
    "plt.figure(figsize=(15,10))\n",
    "# Display the generated image:\n",
    "plt.imshow(wordcloud, interpolation='bilinear')\n",
    "plt.axis(\"off\")\n",
    "plt.show()\n",
    "#can do for aisle and product name too"
   ]
  },
  {
   "cell_type": "markdown",
   "metadata": {
    "colab_type": "text",
    "id": "H-Z9AgVoG8I-"
   },
   "source": [
    "The product, dairy/eggs, snacks, beverages, and frozen departments are shopped most often."
   ]
  },
  {
   "cell_type": "markdown",
   "metadata": {},
   "source": [
    "Now that all dataframes are merged and that we have a good understanding of the data, I'll check to see whether there are outliers."
   ]
  },
  {
   "cell_type": "code",
   "execution_count": 0,
   "metadata": {
    "colab": {
     "base_uri": "https://localhost:8080/",
     "height": 173
    },
    "colab_type": "code",
    "id": "sh0bpWjbVEPP",
    "outputId": "e10e5d92-a5c2-492a-c2fc-3daf1a428001"
   },
   "outputs": [
    {
     "name": "stdout",
     "output_type": "stream",
     "text": [
      "The number of outliers for order_number is: 17648. This is 888.1731253145446 percent of the column.\n",
      "The number of outliers for order_dow is: 0. This is 0.0 percent of the column.\n",
      "The number of outliers for order_hour_of_day is: 1922. This is 96.72873678912934 percent of the column.\n",
      "The number of outliers for days_since_prior_order is: 33744. This is 1698.238550578762 percent of the column.\n",
      "The number of outliers for product_id is: 0. This is 0.0 percent of the column.\n",
      "The number of outliers for add_to_cart_order is: 13103. This is 659.4363361852038 percent of the column.\n",
      "The number of outliers for reordered is: 0. This is 0.0 percent of the column.\n",
      "The number of outliers for aisle_id is: 0. This is 0.0 percent of the column.\n",
      "The number of outliers for department_id is: 0. This is 0.0 percent of the column.\n"
     ]
    }
   ],
   "source": [
    "#create list of the numeric columns to check outliers\n",
    "numeric_columns = orders_products_df.select_dtypes(['int64', 'float64']).columns\n",
    "numeric_columns = numeric_columns.drop('order_id')\n",
    "numeric_columns = numeric_columns.drop('user_id')\n",
    "\n",
    "#get ouliers for numeric columns\n",
    "for col in numeric_columns:\n",
    "    q75, q25 = np.percentile(orders_products_df[col], [75 ,25])\n",
    "    iqr = q75 - q25\n",
    "\n",
    "\n",
    "    min_val = q25 - (iqr*1.5)\n",
    "    max_val = q75 + (iqr*1.5)\n",
    "\n",
    "    print(\"The number of outliers for {} is: {}. This is {} percent of the column.\".format(col, len((np.where((orders_products_df[col] > max_val) \n",
    "                      | (orders_products_df[col] < min_val))[0])), len((np.where((orders_products_df[col] > max_val) | \n",
    "                                                    (orders_products_df[col] < min_val))[0]))*100/1987))"
   ]
  },
  {
   "cell_type": "code",
   "execution_count": 0,
   "metadata": {
    "colab": {
     "base_uri": "https://localhost:8080/",
     "height": 493
    },
    "colab_type": "code",
    "id": "czj_ePVhVEn7",
    "outputId": "961a6b52-72c2-41d1-f054-85b9bfa739ee"
   },
   "outputs": [
    {
     "data": {
      "text/plain": [
       "Text(0.5, 1.0, 'Add to Cart--Order')"
      ]
     },
     "execution_count": 72,
     "metadata": {
      "tags": []
     },
     "output_type": "execute_result"
    },
    {
     "data": {
      "image/png": "[encoded data removed]",
      "text/plain": [
       "<Figure size 720x1440 with 4 Axes>"
      ]
     },
     "metadata": {
      "needs_background": "light",
      "tags": []
     },
     "output_type": "display_data"
    }
   ],
   "source": [
    "#box plots to observe outliers\n",
    "fig = plt.figure(figsize=(10,20))\n",
    "\n",
    "plt.subplot(5, 2, 1)\n",
    "plt.boxplot(orders_products_df[\"order_number\"], sym='k.')\n",
    "plt.title(\"Order Number\")\n",
    "\n",
    "plt.subplot(5, 2, 2)\n",
    "plt.boxplot(orders_products_df[\"order_hour_of_day\"], sym='k.')\n",
    "plt.title(\"Time of Day Order Placed\")\n",
    "\n",
    "plt.subplot(5, 2, 3)\n",
    "plt.boxplot(orders_products_df[\"days_since_prior_order\"], sym='k.')\n",
    "plt.title(\"Days Since Previous Order\")\n",
    "\n",
    "plt.subplot(5, 2, 4)\n",
    "plt.boxplot(orders_products_df[\"add_to_cart_order\"], sym='k.')\n",
    "plt.title(\"Add to Cart--Order\")\n"
   ]
  },
  {
   "cell_type": "markdown",
   "metadata": {},
   "source": [
    "The bloxplots illustrate that there are outliers for a few variables. However, I am deciding to keep the outliers (and not winsorize or log-transform them) because ultimately I am interested in all product re-orders. In certain cases, it is necessary to remove outliers, but I want to keep them for this project. A future project could look specifically at recent orders, excluding outliers."
   ]
  },
  {
   "cell_type": "markdown",
   "metadata": {
    "colab_type": "text",
    "id": "8xptK2-PESvv"
   },
   "source": [
    "Now, I want to begin the process of building models that will hopefully be useful for future product re-order predictions. I'll first check to make sure there are no missing values now that we merged the aisles and departments with the main dataframes."
   ]
  },
  {
   "cell_type": "code",
   "execution_count": 0,
   "metadata": {
    "colab": {
     "base_uri": "https://localhost:8080/",
     "height": 295
    },
    "colab_type": "code",
    "id": "Lb2GR6SXHZKS",
    "outputId": "fd7e8c3e-e440-43cd-fc28-42c3395dda4b"
   },
   "outputs": [
    {
     "data": {
      "text/plain": [
       "order_id                  0.0\n",
       "user_id                   0.0\n",
       "eval_set                  0.0\n",
       "order_number              0.0\n",
       "order_dow                 0.0\n",
       "order_hour_of_day         0.0\n",
       "days_since_prior_order    0.0\n",
       "product_id                0.0\n",
       "add_to_cart_order         0.0\n",
       "reordered                 0.0\n",
       "product_name              0.0\n",
       "aisle_id                  0.0\n",
       "department_id             0.0\n",
       "aisle                     0.0\n",
       "department                0.0\n",
       "dtype: float64"
      ]
     },
     "execution_count": 43,
     "metadata": {
      "tags": []
     },
     "output_type": "execute_result"
    }
   ],
   "source": [
    "orders_products_df.isnull().sum()/orders_products_df.isnull().count().sort_values(ascending=True)"
   ]
  },
  {
   "cell_type": "markdown",
   "metadata": {
    "colab_type": "text",
    "id": "ozGROphrHsy2"
   },
   "source": [
    "Luckily, there are no missing values to address. Let's check out each variable's datatype."
   ]
  },
  {
   "cell_type": "code",
   "execution_count": 0,
   "metadata": {
    "colab": {
     "base_uri": "https://localhost:8080/",
     "height": 399
    },
    "colab_type": "code",
    "id": "v5ilggeLH0xh",
    "outputId": "cf4dac0b-f253-4e23-c57a-994aa0ba7832"
   },
   "outputs": [
    {
     "name": "stdout",
     "output_type": "stream",
     "text": [
      "<class 'pandas.core.frame.DataFrame'>\n",
      "Int64Index: 320541 entries, 0 to 320540\n",
      "Data columns (total 15 columns):\n",
      " #   Column                  Non-Null Count   Dtype  \n",
      "---  ------                  --------------   -----  \n",
      " 0   order_id                320541 non-null  int64  \n",
      " 1   user_id                 320541 non-null  int64  \n",
      " 2   eval_set                320541 non-null  object \n",
      " 3   order_number            320541 non-null  int64  \n",
      " 4   order_dow               320541 non-null  int64  \n",
      " 5   order_hour_of_day       320541 non-null  int64  \n",
      " 6   days_since_prior_order  320541 non-null  float64\n",
      " 7   product_id              320541 non-null  int64  \n",
      " 8   add_to_cart_order       320541 non-null  int64  \n",
      " 9   reordered               320541 non-null  int64  \n",
      " 10  product_name            320541 non-null  object \n",
      " 11  aisle_id                320541 non-null  int64  \n",
      " 12  department_id           320541 non-null  int64  \n",
      " 13  aisle                   320541 non-null  object \n",
      " 14  department              320541 non-null  object \n",
      "dtypes: float64(1), int64(10), object(4)\n",
      "memory usage: 39.1+ MB\n"
     ]
    }
   ],
   "source": [
    "orders_products_df.info()"
   ]
  },
  {
   "cell_type": "markdown",
   "metadata": {
    "colab_type": "text",
    "id": "d26dg7gzIG4h"
   },
   "source": [
    "Each variable has the expected datatype. "
   ]
  },
  {
   "cell_type": "code",
   "execution_count": 0,
   "metadata": {
    "colab": {
     "base_uri": "https://localhost:8080/",
     "height": 35
    },
    "colab_type": "code",
    "id": "YnlMh3EkIXem",
    "outputId": "d963eb8e-e0da-4abc-b6c6-2f9f64946c68"
   },
   "outputs": [
    {
     "name": "stdout",
     "output_type": "stream",
     "text": [
      "Number of unique customers in the dataset :  21099\n"
     ]
    }
   ],
   "source": [
    "print(\"Number of unique customers in the dataset : \",len(set(orders_products_df.user_id)))"
   ]
  },
  {
   "cell_type": "code",
   "execution_count": 0,
   "metadata": {
    "colab": {
     "base_uri": "https://localhost:8080/",
     "height": 35
    },
    "colab_type": "code",
    "id": "GuQrFoBxIb6X",
    "outputId": "60d83794-4f53-4bb9-d49a-e1d9867faff8"
   },
   "outputs": [
    {
     "name": "stdout",
     "output_type": "stream",
     "text": [
      "Number of unique orders in the dataset :  31777\n"
     ]
    }
   ],
   "source": [
    "print(\"Number of unique orders in the dataset : \",len(set(orders_products_df.order_id)))"
   ]
  },
  {
   "cell_type": "code",
   "execution_count": 0,
   "metadata": {
    "colab": {
     "base_uri": "https://localhost:8080/",
     "height": 35
    },
    "colab_type": "code",
    "id": "0ElYiaxIJQ0q",
    "outputId": "2b9c1a07-f844-4c07-98d4-7e23f8a82114"
   },
   "outputs": [
    {
     "name": "stdout",
     "output_type": "stream",
     "text": [
      "Number of ordered products in the dataset :  320541\n"
     ]
    }
   ],
   "source": [
    "print(\"Number of ordered products in the dataset : \",len(orders_products_df))"
   ]
  },
  {
   "cell_type": "markdown",
   "metadata": {},
   "source": [
    "There are fewer rows in the dataframe after merging because we only kept the rows where the order_id matched. Let's make sure the target variable (reordered) is not imbalanced."
   ]
  },
  {
   "cell_type": "code",
   "execution_count": 11,
   "metadata": {
    "colab": {
     "base_uri": "https://localhost:8080/",
     "height": 69
    },
    "colab_type": "code",
    "id": "SlAURy4UKMqe",
    "outputId": "3e5e7bac-d3cf-4291-ade4-13985d4e6aff"
   },
   "outputs": [
    {
     "data": {
      "text/plain": [
       "1    189606\n",
       "0    130935\n",
       "Name: reordered, dtype: int64"
      ]
     },
     "execution_count": 11,
     "metadata": {},
     "output_type": "execute_result"
    }
   ],
   "source": [
    "#see how reordered is distributed\n",
    "orders_products_df['reordered'].value_counts()"
   ]
  },
  {
   "cell_type": "code",
   "execution_count": 0,
   "metadata": {
    "colab": {
     "base_uri": "https://localhost:8080/",
     "height": 299
    },
    "colab_type": "code",
    "id": "1iWvbE3GKYiY",
    "outputId": "cd4b32a5-bc2d-4c8e-d2cc-bc2e011cac90"
   },
   "outputs": [
    {
     "data": {
      "text/plain": [
       "Text(0, 0.5, 'Number of Observations')"
      ]
     },
     "execution_count": 56,
     "metadata": {
      "tags": []
     },
     "output_type": "execute_result"
    },
    {
     "data": {
      "image/png": "[encoded data removed]",
      "text/plain": [
       "<Figure size 432x288 with 1 Axes>"
      ]
     },
     "metadata": {
      "needs_background": "light",
      "tags": []
     },
     "output_type": "display_data"
    }
   ],
   "source": [
    "#plot value counts\n",
    "sns.countplot(orders_products_df['reordered'], palette='pastel')\n",
    "plt.title('Product Re-Ordered')\n",
    "plt.xlabel('')\n",
    "plt.ylabel('Number of Observations')"
   ]
  },
  {
   "cell_type": "markdown",
   "metadata": {
    "colab_type": "text",
    "id": "dSpiAodeLFYS"
   },
   "source": [
    "The dataset is not horribly imbalanced, but this still needs to be addressed since there were 189606 products reordered and 130935 products not reordered. I will upsample to fix this imbalance issue."
   ]
  },
  {
   "cell_type": "code",
   "execution_count": 7,
   "metadata": {
    "colab": {
     "base_uri": "https://localhost:8080/",
     "height": 69
    },
    "colab_type": "code",
    "id": "xw45bxZkLW6b",
    "outputId": "e3ca39b0-fab5-4dcc-84ab-c42407b28e1d"
   },
   "outputs": [
    {
     "data": {
      "text/plain": [
       "1    189606\n",
       "0    189000\n",
       "Name: reordered, dtype: int64"
      ]
     },
     "execution_count": 7,
     "metadata": {},
     "output_type": "execute_result"
    }
   ],
   "source": [
    "# Separate majority and minority classes\n",
    "df_majority = orders_products_df[orders_products_df.reordered==1]\n",
    "df_minority = orders_products_df[orders_products_df.reordered==0]\n",
    " \n",
    "# Upsample minority class to a similar size as majority class\n",
    "df_minority_upsampled = resample(df_minority, \n",
    "                                 replace=True,    \n",
    "                                 n_samples=189000,    \n",
    "                                 random_state=123)\n",
    "# Combine upsampled minority class with majority class\n",
    "df_resampled = pd.concat([df_minority_upsampled, df_majority])\n",
    " \n",
    "# Display new class counts\n",
    "df_resampled.reordered.value_counts()"
   ]
  },
  {
   "cell_type": "markdown",
   "metadata": {},
   "source": [
    "The dataset is no longer imbalanced, with close to 190,000 observations for each class."
   ]
  },
  {
   "cell_type": "code",
   "execution_count": 0,
   "metadata": {
    "colab": {
     "base_uri": "https://localhost:8080/",
     "height": 406
    },
    "colab_type": "code",
    "id": "rZ-PdMF-OJ_k",
    "outputId": "1bd3a395-47f8-41fd-a8e4-45660ead8f57"
   },
   "outputs": [
    {
     "data": {
      "text/html": [
       "<div>\n",
       "<style scoped>\n",
       "    .dataframe tbody tr th:only-of-type {\n",
       "        vertical-align: middle;\n",
       "    }\n",
       "\n",
       "    .dataframe tbody tr th {\n",
       "        vertical-align: top;\n",
       "    }\n",
       "\n",
       "    .dataframe thead th {\n",
       "        text-align: right;\n",
       "    }\n",
       "</style>\n",
       "<table border=\"1\" class=\"dataframe\">\n",
       "  <thead>\n",
       "    <tr style=\"text-align: right;\">\n",
       "      <th></th>\n",
       "      <th>order_id</th>\n",
       "      <th>user_id</th>\n",
       "      <th>order_number</th>\n",
       "      <th>order_dow</th>\n",
       "      <th>order_hour_of_day</th>\n",
       "      <th>days_since_prior_order</th>\n",
       "      <th>product_id</th>\n",
       "      <th>add_to_cart_order</th>\n",
       "      <th>reordered</th>\n",
       "      <th>aisle_id</th>\n",
       "      <th>department_id</th>\n",
       "    </tr>\n",
       "  </thead>\n",
       "  <tbody>\n",
       "    <tr>\n",
       "      <th>order_id</th>\n",
       "      <td>1.000000</td>\n",
       "      <td>-0.001046</td>\n",
       "      <td>-0.007481</td>\n",
       "      <td>-0.002406</td>\n",
       "      <td>0.000746</td>\n",
       "      <td>0.005911</td>\n",
       "      <td>0.001304</td>\n",
       "      <td>0.011477</td>\n",
       "      <td>0.000258</td>\n",
       "      <td>0.001468</td>\n",
       "      <td>-0.001308</td>\n",
       "    </tr>\n",
       "    <tr>\n",
       "      <th>user_id</th>\n",
       "      <td>-0.001046</td>\n",
       "      <td>1.000000</td>\n",
       "      <td>-0.011942</td>\n",
       "      <td>-0.004057</td>\n",
       "      <td>-0.004958</td>\n",
       "      <td>-0.006177</td>\n",
       "      <td>-0.001726</td>\n",
       "      <td>-0.000875</td>\n",
       "      <td>-0.006793</td>\n",
       "      <td>0.000364</td>\n",
       "      <td>0.001315</td>\n",
       "    </tr>\n",
       "    <tr>\n",
       "      <th>order_number</th>\n",
       "      <td>-0.007481</td>\n",
       "      <td>-0.011942</td>\n",
       "      <td>1.000000</td>\n",
       "      <td>0.020250</td>\n",
       "      <td>-0.033771</td>\n",
       "      <td>-0.343468</td>\n",
       "      <td>-0.001290</td>\n",
       "      <td>-0.012770</td>\n",
       "      <td>0.314209</td>\n",
       "      <td>0.000719</td>\n",
       "      <td>0.005241</td>\n",
       "    </tr>\n",
       "    <tr>\n",
       "      <th>order_dow</th>\n",
       "      <td>-0.002406</td>\n",
       "      <td>-0.004057</td>\n",
       "      <td>0.020250</td>\n",
       "      <td>1.000000</td>\n",
       "      <td>0.012291</td>\n",
       "      <td>-0.025899</td>\n",
       "      <td>-0.001455</td>\n",
       "      <td>0.000243</td>\n",
       "      <td>-0.007726</td>\n",
       "      <td>-0.003559</td>\n",
       "      <td>0.003249</td>\n",
       "    </tr>\n",
       "    <tr>\n",
       "      <th>order_hour_of_day</th>\n",
       "      <td>0.000746</td>\n",
       "      <td>-0.004958</td>\n",
       "      <td>-0.033771</td>\n",
       "      <td>0.012291</td>\n",
       "      <td>1.000000</td>\n",
       "      <td>0.005288</td>\n",
       "      <td>0.002809</td>\n",
       "      <td>-0.020652</td>\n",
       "      <td>-0.030719</td>\n",
       "      <td>0.001265</td>\n",
       "      <td>-0.012785</td>\n",
       "    </tr>\n",
       "    <tr>\n",
       "      <th>days_since_prior_order</th>\n",
       "      <td>0.005911</td>\n",
       "      <td>-0.006177</td>\n",
       "      <td>-0.343468</td>\n",
       "      <td>-0.025899</td>\n",
       "      <td>0.005288</td>\n",
       "      <td>1.000000</td>\n",
       "      <td>0.001020</td>\n",
       "      <td>0.055571</td>\n",
       "      <td>-0.127708</td>\n",
       "      <td>0.004875</td>\n",
       "      <td>-0.000615</td>\n",
       "    </tr>\n",
       "    <tr>\n",
       "      <th>product_id</th>\n",
       "      <td>0.001304</td>\n",
       "      <td>-0.001726</td>\n",
       "      <td>-0.001290</td>\n",
       "      <td>-0.001455</td>\n",
       "      <td>0.002809</td>\n",
       "      <td>0.001020</td>\n",
       "      <td>1.000000</td>\n",
       "      <td>0.004646</td>\n",
       "      <td>0.007771</td>\n",
       "      <td>0.003292</td>\n",
       "      <td>-0.028897</td>\n",
       "    </tr>\n",
       "    <tr>\n",
       "      <th>add_to_cart_order</th>\n",
       "      <td>0.011477</td>\n",
       "      <td>-0.000875</td>\n",
       "      <td>-0.012770</td>\n",
       "      <td>0.000243</td>\n",
       "      <td>-0.020652</td>\n",
       "      <td>0.055571</td>\n",
       "      <td>0.004646</td>\n",
       "      <td>1.000000</td>\n",
       "      <td>-0.141460</td>\n",
       "      <td>0.005434</td>\n",
       "      <td>0.028243</td>\n",
       "    </tr>\n",
       "    <tr>\n",
       "      <th>reordered</th>\n",
       "      <td>0.000258</td>\n",
       "      <td>-0.006793</td>\n",
       "      <td>0.314209</td>\n",
       "      <td>-0.007726</td>\n",
       "      <td>-0.030719</td>\n",
       "      <td>-0.127708</td>\n",
       "      <td>0.007771</td>\n",
       "      <td>-0.141460</td>\n",
       "      <td>1.000000</td>\n",
       "      <td>0.003202</td>\n",
       "      <td>-0.041531</td>\n",
       "    </tr>\n",
       "    <tr>\n",
       "      <th>aisle_id</th>\n",
       "      <td>0.001468</td>\n",
       "      <td>0.000364</td>\n",
       "      <td>0.000719</td>\n",
       "      <td>-0.003559</td>\n",
       "      <td>0.001265</td>\n",
       "      <td>0.004875</td>\n",
       "      <td>0.003292</td>\n",
       "      <td>0.005434</td>\n",
       "      <td>0.003202</td>\n",
       "      <td>1.000000</td>\n",
       "      <td>0.052036</td>\n",
       "    </tr>\n",
       "    <tr>\n",
       "      <th>department_id</th>\n",
       "      <td>-0.001308</td>\n",
       "      <td>0.001315</td>\n",
       "      <td>0.005241</td>\n",
       "      <td>0.003249</td>\n",
       "      <td>-0.012785</td>\n",
       "      <td>-0.000615</td>\n",
       "      <td>-0.028897</td>\n",
       "      <td>0.028243</td>\n",
       "      <td>-0.041531</td>\n",
       "      <td>0.052036</td>\n",
       "      <td>1.000000</td>\n",
       "    </tr>\n",
       "  </tbody>\n",
       "</table>\n",
       "</div>"
      ],
      "text/plain": [
       "                        order_id   user_id  ...  aisle_id  department_id\n",
       "order_id                1.000000 -0.001046  ...  0.001468      -0.001308\n",
       "user_id                -0.001046  1.000000  ...  0.000364       0.001315\n",
       "order_number           -0.007481 -0.011942  ...  0.000719       0.005241\n",
       "order_dow              -0.002406 -0.004057  ... -0.003559       0.003249\n",
       "order_hour_of_day       0.000746 -0.004958  ...  0.001265      -0.012785\n",
       "days_since_prior_order  0.005911 -0.006177  ...  0.004875      -0.000615\n",
       "product_id              0.001304 -0.001726  ...  0.003292      -0.028897\n",
       "add_to_cart_order       0.011477 -0.000875  ...  0.005434       0.028243\n",
       "reordered               0.000258 -0.006793  ...  0.003202      -0.041531\n",
       "aisle_id                0.001468  0.000364  ...  1.000000       0.052036\n",
       "department_id          -0.001308  0.001315  ...  0.052036       1.000000\n",
       "\n",
       "[11 rows x 11 columns]"
      ]
     },
     "execution_count": 61,
     "metadata": {
      "tags": []
     },
     "output_type": "execute_result"
    }
   ],
   "source": [
    "#get correlation matrix\n",
    "df_resampled.corr()"
   ]
  },
  {
   "cell_type": "markdown",
   "metadata": {},
   "source": [
    "The correlation matrix indicates that the re-ordered variable is most correlated with order_number, days_since_prior_order, and add_to_cart_order. The remaining variables are hardly correlated with the target variable, and I expect that the feature selection via selectKbest will demonstrate this."
   ]
  },
  {
   "cell_type": "code",
   "execution_count": 24,
   "metadata": {},
   "outputs": [
    {
     "data": {
      "text/html": [
       "<div>\n",
       "<style scoped>\n",
       "    .dataframe tbody tr th:only-of-type {\n",
       "        vertical-align: middle;\n",
       "    }\n",
       "\n",
       "    .dataframe tbody tr th {\n",
       "        vertical-align: top;\n",
       "    }\n",
       "\n",
       "    .dataframe thead th {\n",
       "        text-align: right;\n",
       "    }\n",
       "</style>\n",
       "<table border=\"1\" class=\"dataframe\">\n",
       "  <thead>\n",
       "    <tr style=\"text-align: right;\">\n",
       "      <th></th>\n",
       "      <th>order_id</th>\n",
       "      <th>user_id</th>\n",
       "      <th>order_number</th>\n",
       "      <th>order_dow</th>\n",
       "      <th>order_hour_of_day</th>\n",
       "      <th>days_since_prior_order</th>\n",
       "      <th>product_id</th>\n",
       "      <th>add_to_cart_order</th>\n",
       "      <th>reordered</th>\n",
       "      <th>aisle_id</th>\n",
       "      <th>department_id</th>\n",
       "    </tr>\n",
       "  </thead>\n",
       "  <tbody>\n",
       "    <tr>\n",
       "      <td>count</td>\n",
       "      <td>261835.000000</td>\n",
       "      <td>261835.000000</td>\n",
       "      <td>261835.000000</td>\n",
       "      <td>261835.000000</td>\n",
       "      <td>261835.000000</td>\n",
       "      <td>261835.000000</td>\n",
       "      <td>261835.000000</td>\n",
       "      <td>261835.000000</td>\n",
       "      <td>261835.000000</td>\n",
       "      <td>261835.000000</td>\n",
       "      <td>261835.000000</td>\n",
       "    </tr>\n",
       "    <tr>\n",
       "      <td>mean</td>\n",
       "      <td>55744.803262</td>\n",
       "      <td>31422.205122</td>\n",
       "      <td>16.256918</td>\n",
       "      <td>2.743785</td>\n",
       "      <td>13.461184</td>\n",
       "      <td>11.257375</td>\n",
       "      <td>25533.572853</td>\n",
       "      <td>8.530040</td>\n",
       "      <td>0.499933</td>\n",
       "      <td>71.109038</td>\n",
       "      <td>9.994672</td>\n",
       "    </tr>\n",
       "    <tr>\n",
       "      <td>std</td>\n",
       "      <td>32026.598902</td>\n",
       "      <td>18169.335008</td>\n",
       "      <td>17.127147</td>\n",
       "      <td>2.088527</td>\n",
       "      <td>4.209609</td>\n",
       "      <td>8.478704</td>\n",
       "      <td>14104.996843</td>\n",
       "      <td>7.400046</td>\n",
       "      <td>0.500001</td>\n",
       "      <td>38.217328</td>\n",
       "      <td>6.276701</td>\n",
       "    </tr>\n",
       "    <tr>\n",
       "      <td>min</td>\n",
       "      <td>6.000000</td>\n",
       "      <td>4.000000</td>\n",
       "      <td>1.000000</td>\n",
       "      <td>0.000000</td>\n",
       "      <td>0.000000</td>\n",
       "      <td>0.000000</td>\n",
       "      <td>1.000000</td>\n",
       "      <td>1.000000</td>\n",
       "      <td>0.000000</td>\n",
       "      <td>1.000000</td>\n",
       "      <td>1.000000</td>\n",
       "    </tr>\n",
       "    <tr>\n",
       "      <td>25%</td>\n",
       "      <td>28002.000000</td>\n",
       "      <td>15733.000000</td>\n",
       "      <td>4.000000</td>\n",
       "      <td>1.000000</td>\n",
       "      <td>10.000000</td>\n",
       "      <td>5.000000</td>\n",
       "      <td>13431.000000</td>\n",
       "      <td>3.000000</td>\n",
       "      <td>0.000000</td>\n",
       "      <td>31.000000</td>\n",
       "      <td>4.000000</td>\n",
       "    </tr>\n",
       "    <tr>\n",
       "      <td>50%</td>\n",
       "      <td>55790.000000</td>\n",
       "      <td>31310.000000</td>\n",
       "      <td>10.000000</td>\n",
       "      <td>3.000000</td>\n",
       "      <td>13.000000</td>\n",
       "      <td>9.000000</td>\n",
       "      <td>25157.000000</td>\n",
       "      <td>7.000000</td>\n",
       "      <td>0.000000</td>\n",
       "      <td>83.000000</td>\n",
       "      <td>9.000000</td>\n",
       "    </tr>\n",
       "    <tr>\n",
       "      <td>75%</td>\n",
       "      <td>83669.000000</td>\n",
       "      <td>47109.000000</td>\n",
       "      <td>22.000000</td>\n",
       "      <td>5.000000</td>\n",
       "      <td>16.000000</td>\n",
       "      <td>14.000000</td>\n",
       "      <td>37841.000000</td>\n",
       "      <td>12.000000</td>\n",
       "      <td>1.000000</td>\n",
       "      <td>107.000000</td>\n",
       "      <td>16.000000</td>\n",
       "    </tr>\n",
       "    <tr>\n",
       "      <td>max</td>\n",
       "      <td>110719.000000</td>\n",
       "      <td>63098.000000</td>\n",
       "      <td>99.000000</td>\n",
       "      <td>6.000000</td>\n",
       "      <td>23.000000</td>\n",
       "      <td>30.000000</td>\n",
       "      <td>49688.000000</td>\n",
       "      <td>127.000000</td>\n",
       "      <td>1.000000</td>\n",
       "      <td>134.000000</td>\n",
       "      <td>21.000000</td>\n",
       "    </tr>\n",
       "  </tbody>\n",
       "</table>\n",
       "</div>"
      ],
      "text/plain": [
       "            order_id        user_id   order_number      order_dow  \\\n",
       "count  261835.000000  261835.000000  261835.000000  261835.000000   \n",
       "mean    55744.803262   31422.205122      16.256918       2.743785   \n",
       "std     32026.598902   18169.335008      17.127147       2.088527   \n",
       "min         6.000000       4.000000       1.000000       0.000000   \n",
       "25%     28002.000000   15733.000000       4.000000       1.000000   \n",
       "50%     55790.000000   31310.000000      10.000000       3.000000   \n",
       "75%     83669.000000   47109.000000      22.000000       5.000000   \n",
       "max    110719.000000   63098.000000      99.000000       6.000000   \n",
       "\n",
       "       order_hour_of_day  days_since_prior_order     product_id  \\\n",
       "count      261835.000000           261835.000000  261835.000000   \n",
       "mean           13.461184               11.257375   25533.572853   \n",
       "std             4.209609                8.478704   14104.996843   \n",
       "min             0.000000                0.000000       1.000000   \n",
       "25%            10.000000                5.000000   13431.000000   \n",
       "50%            13.000000                9.000000   25157.000000   \n",
       "75%            16.000000               14.000000   37841.000000   \n",
       "max            23.000000               30.000000   49688.000000   \n",
       "\n",
       "       add_to_cart_order      reordered       aisle_id  department_id  \n",
       "count      261835.000000  261835.000000  261835.000000  261835.000000  \n",
       "mean            8.530040       0.499933      71.109038       9.994672  \n",
       "std             7.400046       0.500001      38.217328       6.276701  \n",
       "min             1.000000       0.000000       1.000000       1.000000  \n",
       "25%             3.000000       0.000000      31.000000       4.000000  \n",
       "50%             7.000000       0.000000      83.000000       9.000000  \n",
       "75%            12.000000       1.000000     107.000000      16.000000  \n",
       "max           127.000000       1.000000     134.000000      21.000000  "
      ]
     },
     "execution_count": 24,
     "metadata": {},
     "output_type": "execute_result"
    }
   ],
   "source": [
    "#get descriptive statistics\n",
    "df_resampled.describe()"
   ]
  },
  {
   "cell_type": "markdown",
   "metadata": {
    "colab_type": "text",
    "id": "J-Dxh-f2OwWT"
   },
   "source": [
    "To build models that will predict whether or not a product is ordered, I need to first split the dataframe into training and test sets. I can drop the object variables product_name, aisle_name, department_name because they match the numeric variables product_id, aisle_id, and department_id. I will also drop the eval_set column because it is not relevant to this project. "
   ]
  },
  {
   "cell_type": "code",
   "execution_count": 9,
   "metadata": {
    "colab": {},
    "colab_type": "code",
    "id": "ej2n-__wO3jj"
   },
   "outputs": [],
   "source": [
    "#create X and Y\n",
    "X = df_resampled[['order_id', 'user_id', 'order_number', 'order_dow', 'order_hour_of_day', 'days_since_prior_order', 'product_id', 'add_to_cart_order', 'aisle_id', 'department_id']]\n",
    "Y = df_resampled['reordered']\n",
    "\n",
    "#create training and test sets\n",
    "X_train, X_test, y_train, y_test = train_test_split(X, Y, test_size = 0.2, random_state = 465)"
   ]
  },
  {
   "cell_type": "markdown",
   "metadata": {
    "colab_type": "text",
    "id": "nzPEzlNSXsYR"
   },
   "source": [
    "## Supervised Learning Models "
   ]
  },
  {
   "cell_type": "markdown",
   "metadata": {
    "colab_type": "text",
    "id": "qiT1C-OXTbsJ"
   },
   "source": [
    "### SelectKBest"
   ]
  },
  {
   "cell_type": "markdown",
   "metadata": {
    "colab_type": "text",
    "id": "FnIWB2fOXxU2"
   },
   "source": [
    "Before I fit the various supervised learning models, I will use SelectKBest to find the 8 best features (80% of features). I will use these selectKbest chosen features and fit 6 supervised learning models. Then, I will apply PCA and will use the PCA components in the same 6 supervised models and compare the two techniques. I'll use grid search with each model to choose the best parameters."
   ]
  },
  {
   "cell_type": "code",
   "execution_count": 35,
   "metadata": {
    "colab": {
     "base_uri": "https://localhost:8080/",
     "height": 173
    },
    "colab_type": "code",
    "id": "42MXMStmOLD0",
    "outputId": "bcaa9e58-eb9c-43dc-82ee-804f889b5d96"
   },
   "outputs": [
    {
     "name": "stdout",
     "output_type": "stream",
     "text": [
      "             Feature Name         Score\n",
      "2            order_number  41466.857331\n",
      "7       add_to_cart_order   7738.057170\n",
      "5  days_since_prior_order   6287.577196\n",
      "9           department_id    651.887916\n",
      "4       order_hour_of_day    354.862161\n",
      "6              product_id     23.264127\n",
      "3               order_dow     22.812340\n",
      "1                 user_id     17.762917\n"
     ]
    }
   ],
   "source": [
    "#selectKbest to choose 8 most important features (80% of features)\n",
    "best_features = SelectKBest(score_func=f_classif, k=8)\n",
    "fit = best_features.fit(X,Y)\n",
    "df_scores = pd.DataFrame(fit.scores_)\n",
    "df_columns = pd.DataFrame(X.columns)\n",
    "\n",
    "\n",
    "# concatenate \n",
    "feature_scores = pd.concat([df_columns, df_scores],axis=1)\n",
    "feature_scores.columns = ['Feature Name','Score'] \n",
    "print(feature_scores.nlargest(8,'Score'))"
   ]
  },
  {
   "cell_type": "markdown",
   "metadata": {
    "colab_type": "text",
    "id": "V2wUAUj-Ybin"
   },
   "source": [
    "SelectKbest determined the following features to be the most important: order_number, add_to_cart_order, days_since_prior_order, department_id, order_hour_of_day, product_id, order_dow, user_id. This was what I expected based on the correlation matrix. I will update X using only these 8 chosen features and then fit 6 different supervised models."
   ]
  },
  {
   "cell_type": "code",
   "execution_count": 30,
   "metadata": {
    "colab": {},
    "colab_type": "code",
    "id": "BxQtzN-2Ywt5"
   },
   "outputs": [],
   "source": [
    "#update X\n",
    "X = df_resampled[['user_id', 'order_number', 'order_dow', 'order_hour_of_day', 'days_since_prior_order', 'product_id', 'add_to_cart_order', 'department_id']]\n",
    "\n",
    "#create training and test sets\n",
    "X_train, X_test, y_train, y_test = train_test_split(X, Y, test_size = 0.2, random_state = 465)"
   ]
  },
  {
   "cell_type": "markdown",
   "metadata": {
    "colab_type": "text",
    "id": "4Q5bdicfZEvH"
   },
   "source": [
    "### Logistic Regression with selectKbest features"
   ]
  },
  {
   "cell_type": "markdown",
   "metadata": {},
   "source": [
    "A logistic regression is a type of linear classifier. This model can be useful when the data is linearly separable. I expect that this data may not be linearly separable. Training/testing the model and printing a classification report will tell me whether or not a logistic regression is a good fit to the data. "
   ]
  },
  {
   "cell_type": "code",
   "execution_count": 47,
   "metadata": {
    "colab": {},
    "colab_type": "code",
    "id": "iaf_MCpWZIXY"
   },
   "outputs": [],
   "source": [
    "#fit and train a logistic regression\n",
    "lrm = LogisticRegression()\n",
    "#grid search to choose best parameters\n",
    "grid_values = {'penalty': ['l1', 'l2'],'C':[0.001,.009,0.01,.09,1,5,10,25]}\n",
    "grid_lrm_acc = GridSearchCV(lrm, param_grid = grid_values,scoring = 'recall')\n",
    "grid_lrm_acc.fit(X_train, y_train)\n",
    "\n",
    "#Predict values based on new parameters\n",
    "y_pred = grid_lrm_acc.predict(X_test)"
   ]
  },
  {
   "cell_type": "code",
   "execution_count": 48,
   "metadata": {
    "colab": {
     "base_uri": "https://localhost:8080/",
     "height": 329
    },
    "colab_type": "code",
    "id": "inKVptd7aBtk",
    "outputId": "180ed69e-6203-44c0-8dea-e3e62acdb543"
   },
   "outputs": [
    {
     "name": "stdout",
     "output_type": "stream",
     "text": [
      "Accuracy Score : 0.6689205250785769\n",
      "Precision Score : 0.7068026989145669\n",
      "Recall Score : 0.5742736830954209\n",
      "F1 Score : 0.6336830415850844\n",
      "AUC Score : 0.6686662254214824\n",
      "                  precision    recall  f1-score   support\n",
      "\n",
      "Did Not Re-order       0.64      0.76      0.70     37963\n",
      "    Did Re-order       0.71      0.57      0.63     37759\n",
      "\n",
      "       micro avg       0.67      0.67      0.67     75722\n",
      "       macro avg       0.67      0.67      0.67     75722\n",
      "    weighted avg       0.67      0.67      0.67     75722\n",
      "\n",
      "Accuracy scores for the 5 folds:  [0.57685216 0.57201185 0.57305147 0.57318318 0.57456617]\n",
      "Mean cross validation score: 0.574\n",
      "Confusion Matrix : \n",
      "[[28968  8995]\n",
      " [16075 21684]]\n"
     ]
    }
   ],
   "source": [
    "#evaluate model\n",
    "print('Accuracy Score : ' + str(accuracy_score(y_test,y_pred)))\n",
    "print('Precision Score : ' + str(precision_score(y_test,y_pred)))\n",
    "print('Recall Score : ' + str(recall_score(y_test,y_pred)))\n",
    "print('F1 Score : ' + str(f1_score(y_test,y_pred)))\n",
    "print('AUC Score : ' + str(roc_auc_score(y_test,y_pred)))\n",
    "report = classification_report(y_test, y_pred, target_names=['Did Not Re-order', 'Did Re-order'])\n",
    "print(report)\n",
    "cv_scores = cross_val_score(grid_lrm_acc, X_train, y_train, cv = 5)\n",
    "print('Accuracy scores for the 5 folds: ', cv_scores)\n",
    "print('Mean cross validation score: {:.3f}'.format(np.mean(cv_scores)))\n",
    " \n",
    "print('Confusion Matrix : \\n' + str(confusion_matrix(y_test,y_pred)))"
   ]
  },
  {
   "cell_type": "markdown",
   "metadata": {},
   "source": [
    "As expected, the logistic regression (trained with the selectKbest chosen features) did not perform too well. Even though I used grid search to find the best parameters, the accuracy was still only 67%, with the mean cross validation score being only 57%. The confusion matrix also illustrates that a logistic regression is not a good fit for the data, with 16,075 false negatives and 8,995 false positives."
   ]
  },
  {
   "cell_type": "markdown",
   "metadata": {
    "colab_type": "text",
    "id": "RJNiIIFtbrou"
   },
   "source": [
    "### KNN with selectKbest"
   ]
  },
  {
   "cell_type": "markdown",
   "metadata": {},
   "source": [
    "KNN (K Nearest Neighbors) is a **non-linear** classifier and it looks for similarities between data points. This algorithm compares each observation (or data point) to its closest (nearest) k neighbors. k is the number of neighbors set, which is determined by the data scientist. A KNN trained with k = 3 neighbors will compare an unknown observation to the 3 observations closest to it. The algorithm assigns the datapoint to a specific class based on which class is most common among the k neighbors. I'll train and test a KNN model, using grid search to determine which k is best.  "
   ]
  },
  {
   "cell_type": "code",
   "execution_count": 52,
   "metadata": {
    "colab": {},
    "colab_type": "code",
    "id": "idElhHeEbuYu"
   },
   "outputs": [],
   "source": [
    "knn = KNeighborsClassifier()\n",
    "#dictionary with values I want to test for n_neighbors\n",
    "param_grid = {'n_neighbors': np.arange(1, 25)}\n",
    "#use gridsearch to test all values for n_neighbors\n",
    "knn_gscv = GridSearchCV(knn, param_grid, cv=5)\n",
    "#fit model\n",
    "knn_gscv.fit(X_train, y_train)\n",
    "\n",
    "#Predict values \n",
    "y_pred = knn_gscv.predict(X_test)"
   ]
  },
  {
   "cell_type": "code",
   "execution_count": 53,
   "metadata": {
    "colab": {
     "base_uri": "https://localhost:8080/",
     "height": 329
    },
    "colab_type": "code",
    "id": "9pbuwY3hb5lE",
    "outputId": "573a97ed-3028-4d08-b5d2-729095762f92"
   },
   "outputs": [
    {
     "name": "stdout",
     "output_type": "stream",
     "text": [
      "Accuracy Score : 0.7455164945458387\n",
      "Precision Score : 0.7807233306003462\n",
      "Recall Score : 0.6808972695251463\n",
      "F1 Score : 0.727401329749611\n",
      "AUC Score : 0.7453428738901448\n",
      "                  precision    recall  f1-score   support\n",
      "\n",
      "Did Not Re-order       0.72      0.81      0.76     37963\n",
      "    Did Re-order       0.78      0.68      0.73     37759\n",
      "\n",
      "       micro avg       0.75      0.75      0.75     75722\n",
      "       macro avg       0.75      0.75      0.74     75722\n",
      "    weighted avg       0.75      0.75      0.74     75722\n",
      "\n",
      "Accuracy scores for the 5 folds:  [0.70875565 0.71034039 0.71275753 0.71135433 0.70891112]\n",
      "AUC Score : 0.7453428738901448\n",
      "Mean cross validation score: 0.710\n",
      "Confusion Matrix : \n",
      "[[30742  7221]\n",
      " [12049 25710]]\n"
     ]
    }
   ],
   "source": [
    "#evaluate model\n",
    "print('Accuracy Score : ' + str(accuracy_score(y_test,y_pred)))\n",
    "print('Precision Score : ' + str(precision_score(y_test,y_pred)))\n",
    "print('Recall Score : ' + str(recall_score(y_test,y_pred)))\n",
    "print('F1 Score : ' + str(f1_score(y_test,y_pred)))\n",
    "print('AUC Score : ' + str(roc_auc_score(y_test,y_pred)))\n",
    "report = classification_report(y_test, y_pred, target_names=['Did Not Re-order', 'Did Re-order'])\n",
    "print(report)\n",
    "cv_scores = cross_val_score(knn_gscv, X_train, y_train, cv = 5)\n",
    "print('Accuracy scores for the 5 folds: ', cv_scores)\n",
    "print('AUC Score : ' + str(roc_auc_score(y_test,y_pred)))\n",
    "print('Mean cross validation score: {:.3f}'.format(np.mean(cv_scores)))\n",
    " \n",
    "\n",
    "print('Confusion Matrix : \\n' + str(confusion_matrix(y_test,y_pred)))"
   ]
  },
  {
   "cell_type": "markdown",
   "metadata": {},
   "source": [
    "KNN (trained with the features chosen by selectKbest) performed better than the logistic regression; for instance, the accuracy score for the KNN trained model is 75% (in comparison to 67% with the LR). This suggests that the data is likely not linearly separable and that instead an observation can be assigned to a class (re-ordered or not re-ordered) based on similarity to datapoints near to it. This KNN model had fewer false negatives (12,049) and false positives (7,221) than the LR, but there is certainly room for improvement."
   ]
  },
  {
   "cell_type": "markdown",
   "metadata": {
    "colab_type": "text",
    "id": "UnsCYozMfufQ"
   },
   "source": [
    "### Decision Tree with selectKbest"
   ]
  },
  {
   "cell_type": "markdown",
   "metadata": {},
   "source": [
    "Decision trees are another type of non-linear classifer. This algorithm assigns datapoints to certain classes (in this case, re-ordered or not re-ordered) by splitting the data based on a specific differentiator in the data. This process is repeated until each observation is assigned to a class (or 'leaf' in the decision tree). Decision trees examine the observations to determine where to split the data, and they attempt to make efficient decisions at each split, but this algorithm is often subject to overfitting. Let's train and test X with a decision tree and check its peformance, using grid search to choose the best parameters."
   ]
  },
  {
   "cell_type": "code",
   "execution_count": 45,
   "metadata": {
    "colab": {},
    "colab_type": "code",
    "id": "pnTe6BGdfw9H"
   },
   "outputs": [],
   "source": [
    "#fit the tree using the best parameters (determined by gridsearch)\n",
    "tree_para = {'criterion':['gini','entropy'],'max_depth':[4,5,6,7,8,9,10,11,12,15,20,30,40,50,70,90,120,150]}\n",
    "clf = GridSearchCV(DecisionTreeClassifier(), tree_para, cv=5)\n",
    "clf.fit(X_train, y_train)\n",
    "#Predict values \n",
    "y_pred = clf.predict(X_test)"
   ]
  },
  {
   "cell_type": "code",
   "execution_count": 46,
   "metadata": {
    "colab": {
     "base_uri": "https://localhost:8080/",
     "height": 347
    },
    "colab_type": "code",
    "id": "pWXYrIoDiGpJ",
    "outputId": "458234c6-0099-43be-9c2e-60db20c31acb"
   },
   "outputs": [
    {
     "name": "stdout",
     "output_type": "stream",
     "text": [
      "Accuracy Score : 0.7998864266659623\n",
      "Precision Score : 0.8417694726656991\n",
      "Recall Score : 0.7372811779972986\n",
      "F1 Score : 0.7860682469540172\n",
      "AUC Score : 0.7997182172155973\n",
      "                  precision    recall  f1-score   support\n",
      "\n",
      "Did Not Re-order       0.77      0.86      0.81     37963\n",
      "    Did Re-order       0.84      0.74      0.79     37759\n",
      "\n",
      "       micro avg       0.80      0.80      0.80     75722\n",
      "       macro avg       0.80      0.80      0.80     75722\n",
      "    weighted avg       0.80      0.80      0.80     75722\n",
      "\n",
      "Accuracy scores for the 5 folds:  [0.77638747 0.77757602 0.77743661 0.77672676 0.77609945]\n",
      "Mean cross validation score: 0.777\n",
      "Confusion Matrix : \n",
      "[[32730  5233]\n",
      " [ 9920 27839]]\n"
     ]
    }
   ],
   "source": [
    "#evaluate model\n",
    "print('Accuracy Score : ' + str(accuracy_score(y_test,y_pred)))\n",
    "print('Precision Score : ' + str(precision_score(y_test,y_pred)))\n",
    "print('Recall Score : ' + str(recall_score(y_test,y_pred)))\n",
    "print('F1 Score : ' + str(f1_score(y_test,y_pred)))\n",
    "print('AUC Score : ' + str(roc_auc_score(y_test,y_pred)))\n",
    "report = classification_report(y_test, y_pred, target_names=['Did Not Re-order', 'Did Re-order'])\n",
    "print(report)\n",
    "cv_scores = cross_val_score(clf, X_train, y_train, cv = 5)\n",
    "\n",
    "print('Accuracy scores for the 5 folds: ', cv_scores)\n",
    "print('Mean cross validation score: {:.3f}'.format(np.mean(cv_scores)))\n",
    "\n",
    "print('Confusion Matrix : \\n' + str(confusion_matrix(y_test,y_pred)))"
   ]
  },
  {
   "cell_type": "markdown",
   "metadata": {},
   "source": [
    "The classification report indicates that the decision tree we trained was 80% accurate. It does not seem to be overfit, as the accuracy scores for each of the 5 folds are similar. This algorithm satisfactorily made decisions as to where to split the data and which decision to make at each node. An 80% accuracy rate is not perfect, but this tree's performance suggests that the data can successfully be split at certain steps to make decent predictions about whether or not a product will be re-ordered."
   ]
  },
  {
   "cell_type": "markdown",
   "metadata": {
    "colab_type": "text",
    "id": "XbxKVb3zkb1M"
   },
   "source": [
    "### Random Forest with selectKbest"
   ]
  },
  {
   "cell_type": "markdown",
   "metadata": {},
   "source": [
    "A random forest is another non-linear classifer. Simply put, a random forest is comprised of many decision trees. One can learn a lot about the data and achieve high accuracy rates with a random forest, but this algorithm is often subject to overfitting. I expect that the random forest will perform even better than the decision tree and significantly better than the linear classifers. "
   ]
  },
  {
   "cell_type": "markdown",
   "metadata": {},
   "source": [
    "I will use gridsearch to find the best parameters. I was unable to include the number of trees in the grid search due to computational limitations. "
   ]
  },
  {
   "cell_type": "code",
   "execution_count": null,
   "metadata": {
    "colab": {
     "base_uri": "https://localhost:8080/",
     "height": 401
    },
    "colab_type": "code",
    "id": "DZRX-dEIkd94",
    "outputId": "8c91ff39-d503-4f4b-affd-4b3f0b0a456b"
   },
   "outputs": [],
   "source": [
    "#fit the RF using the parameters chosen by gridsearch\n",
    "tree_para = {'criterion':['gini','entropy'],'max_depth':[4,6,8,10,12,20,40,50,70,90,100]}\n",
    "clf = GridSearchCV(RandomForestClassifier(), tree_para, cv=5)\n",
    "clf.fit(X_train, y_train)\n",
    "#Predict values \n",
    "y_pred = clf.predict(X_test)"
   ]
  },
  {
   "cell_type": "code",
   "execution_count": 0,
   "metadata": {
    "colab": {},
    "colab_type": "code",
    "id": "hN8WDho6khAP"
   },
   "outputs": [],
   "source": [
    "#see how the model performed\n",
    "print('Accuracy Score : ' + str(accuracy_score(y_test,y_pred)))\n",
    "print('Precision Score : ' + str(precision_score(y_test,y_pred)))\n",
    "print('Recall Score : ' + str(recall_score(y_test,y_pred)))\n",
    "print('F1 Score : ' + str(f1_score(y_test,y_pred)))\n",
    "print('AUC Score : ' + str(roc_auc_score(y_test,y_pred)))\n",
    "report = classification_report(y_test, y_pred, target_names=['Did Not Re-order', 'Did Re-order'])\n",
    "print(report)\n",
    "\n",
    "cv_scores = cross_val_score(clf, X_train, y_train, cv = 5)\n",
    "print('Accuracy scores for the 5 folds: ', cv_scores)\n",
    "print('Mean cross validation score: {:.3f}'.format(np.mean(cv_scores)))\n",
    "print('Confusion Matrix : \\n' + str(confusion_matrix(y_test,y_pred)))"
   ]
  },
  {
   "cell_type": "markdown",
   "metadata": {
    "colab_type": "text",
    "id": "YE3vsrqCxLIu"
   },
   "source": [
    "### SVC with selectKbest "
   ]
  },
  {
   "cell_type": "markdown",
   "metadata": {},
   "source": [
    "As with logistic regressions, support vectors are a type of linear classifier. This algorithm is more involved than OLS or logistic regressions though, as it constructs a hyperplane in a higher dimensional space to separate the observations into distinct classes. Different than a logistic regression, support vectors aim to determine which line (or boundary) has the largest distance to the nearest points (or, support vectors). Support vector classifiers are powerful but often perform best when the data is linearly separable, as the algorithm seeks to found the best boundary line to separate the data. I expect that, as with the logistic regression, the SVC may not perform as well as other algorithms since the data does not seem to be linearly separable and there seems to be overlap between the classes.\n"
   ]
  },
  {
   "cell_type": "code",
   "execution_count": null,
   "metadata": {
    "colab": {},
    "colab_type": "code",
    "id": "Rmuku1OZxBgf"
   },
   "outputs": [],
   "source": [
    "# define parameter range \n",
    "param_grid = {'C': [0.001, 0.1, 1, 5,  10, 50, 100, 1000],  \n",
    "              'gamma': [1, 0.1, 0.01, 0.001, 0.0001], \n",
    "              'kernel': ['rbf']}  \n",
    "#grid search with svc model  \n",
    "grid_svc = GridSearchCV(SVC(), param_grid, refit = True, verbose = False) \n",
    "  \n",
    "# fit the model for grid search \n",
    "grid_svc.fit(X_train, y_train)\n",
    "#Predict values \n",
    "y_pred = grid_svc.predict(X_test)"
   ]
  },
  {
   "cell_type": "code",
   "execution_count": 0,
   "metadata": {
    "colab": {},
    "colab_type": "code",
    "id": "WnoMe4_SxFlV"
   },
   "outputs": [],
   "source": [
    "#see how the model performed\n",
    "print('Accuracy Score : ' + str(accuracy_score(y_test,y_pred)))\n",
    "print('Precision Score : ' + str(precision_score(y_test,y_pred)))\n",
    "print('Recall Score : ' + str(recall_score(y_test,y_pred)))\n",
    "print('F1 Score : ' + str(f1_score(y_test,y_pred)))\n",
    "print('AUC Score : ' + str(roc_auc_score(y_test,y_pred)))\n",
    "report = classification_report(y_test, y_pred, target_names=['Did Not Re-order', 'Did Re-order'])\n",
    "print(report)\n",
    "\n",
    "cv_scores = cross_val_score(grid_svc, X_train, y_train, cv = 5)\n",
    "print('Accuracy scores for the 5 folds: ', cv_scores)\n",
    "print('Mean cross validation score: {:.3f}'.format(np.mean(cv_scores)))\n",
    "print('Confusion Matrix : \\n' + str(confusion_matrix(y_test,y_pred)))"
   ]
  },
  {
   "cell_type": "markdown",
   "metadata": {},
   "source": [
    "Interpret results here after the model finally runs.... if the SVC did perform well, it must have been able to separate the data in a higher dimension"
   ]
  },
  {
   "cell_type": "markdown",
   "metadata": {
    "colab_type": "text",
    "id": "mLAcC91qxWND"
   },
   "source": [
    "### Gradient Boosting with selectKbest"
   ]
  },
  {
   "cell_type": "markdown",
   "metadata": {},
   "source": [
    "Gradient boosting is based on an iterative approach, modeling the data over and over. GB learns something about the data each iteration (in this case, incorrect predictions), and then adjusts the model based on this information. GB models can classify datapoints or can be used with regressions. I am going to train a gradient boosting classifer, with the hope that it learns in each iteration and produces low numbers of false negatives/positives. "
   ]
  },
  {
   "cell_type": "code",
   "execution_count": 31,
   "metadata": {
    "colab": {},
    "colab_type": "code",
    "id": "pAox_WRXxc89"
   },
   "outputs": [
    {
     "data": {
      "text/plain": [
       "GridSearchCV(cv=5, error_score='raise-deprecating',\n",
       "             estimator=GradientBoostingClassifier(criterion='friedman_mse',\n",
       "                                                  init=None, learning_rate=0.1,\n",
       "                                                  loss='deviance', max_depth=3,\n",
       "                                                  max_features=None,\n",
       "                                                  max_leaf_nodes=None,\n",
       "                                                  min_impurity_decrease=0.0,\n",
       "                                                  min_impurity_split=None,\n",
       "                                                  min_samples_leaf=1,\n",
       "                                                  min_samples_split=2,\n",
       "                                                  min_weight_fraction_leaf=0.0,\n",
       "                                                  n_estimators=100,\n",
       "                                                  n_iter_no_change=None,\n",
       "                                                  presort='auto',\n",
       "                                                  random_state=None,\n",
       "                                                  subsample=1.0, tol=0.0001,\n",
       "                                                  validation_fraction=0.1,\n",
       "                                                  verbose=0, warm_start=False),\n",
       "             iid='warn', n_jobs=None,\n",
       "             param_grid={'learning_rate': [0.01, 0.1, 1, 10, 100],\n",
       "                         'max_depth': [1, 3, 5, 7, 9],\n",
       "                         'n_estimators': [5, 50, 250, 500]},\n",
       "             pre_dispatch='2*n_jobs', refit=True, return_train_score=False,\n",
       "             scoring=None, verbose=0)"
      ]
     },
     "execution_count": 31,
     "metadata": {},
     "output_type": "execute_result"
    }
   ],
   "source": [
    "gbc = GradientBoostingClassifier()\n",
    "#choose parameters to test\n",
    "parameters = {\n",
    "    \"n_estimators\":[5,50,250,500],\n",
    "    \"max_depth\":[1,3,5,7,9],\n",
    "    \"learning_rate\":[0.01,0.1,1,10,100]\n",
    "}\n",
    "#fit GB model for gridsearch\n",
    "cv = GridSearchCV(gbc,parameters,cv=5)\n",
    "cv.fit(X_train, y_train)"
   ]
  },
  {
   "cell_type": "code",
   "execution_count": null,
   "metadata": {
    "colab": {},
    "colab_type": "code",
    "id": "AC1T8sQKxelA"
   },
   "outputs": [
    {
     "name": "stdout",
     "output_type": "stream",
     "text": [
      "Accuracy Score : 0.8424368083251895\n",
      "Precision Score : 0.8704107388710418\n",
      "Recall Score : 0.8036759448078604\n",
      "F1 Score : 0.8357132038059568\n",
      "AUC Score : 0.8423326646042305\n",
      "                  precision    recall  f1-score   support\n",
      "\n",
      "Did Not Re-order       0.82      0.88      0.85     37963\n",
      "    Did Re-order       0.87      0.80      0.84     37759\n",
      "\n",
      "        accuracy                           0.84     75722\n",
      "       macro avg       0.84      0.84      0.84     75722\n",
      "    weighted avg       0.84      0.84      0.84     75722\n",
      "\n"
     ]
    }
   ],
   "source": [
    "#see how the model performed\n",
    "#Predict values \n",
    "y_pred = cv.predict(X_test)\n",
    "print('Accuracy Score : ' + str(accuracy_score(y_test,y_pred)))\n",
    "print('Precision Score : ' + str(precision_score(y_test,y_pred)))\n",
    "print('Recall Score : ' + str(recall_score(y_test,y_pred)))\n",
    "print('F1 Score : ' + str(f1_score(y_test,y_pred)))\n",
    "print('AUC Score : ' + str(roc_auc_score(y_test,y_pred)))\n",
    "report = classification_report(y_test, y_pred, target_names=['Did Not Re-order', 'Did Re-order'])\n",
    "print(report)\n",
    "\n",
    "cv_scores = cross_val_score(cv, X_train, y_train, cv = 5)\n",
    "print('Accuracy scores for the 5 folds: ', cv_scores)\n",
    "print('Mean cross validation score: {:.3f}'.format(np.mean(cv_scores)))\n",
    "print('Confusion Matrix : \\n' + str(confusion_matrix(y_test,y_pred)))"
   ]
  },
  {
   "cell_type": "markdown",
   "metadata": {},
   "source": [
    "This gradient boosting classifier performed relatively well. The accuracy score is 84%, suggesting that the model does a decent job of predicting the correct class (re-order or not re-order) for many of the observations. Iterating over the data, learning from incorrect predictions, and updating the model proved to be a successful approach to classifying these observations."
   ]
  },
  {
   "cell_type": "markdown",
   "metadata": {},
   "source": [
    "## PCA "
   ]
  },
  {
   "cell_type": "markdown",
   "metadata": {
    "colab_type": "text",
    "id": "Dmn6wVuXxoUS"
   },
   "source": [
    "PCA is very commonly used in machine learning to reduce dimensionality while maximizing the variance, which happens through a series of linear transformations. I am going to apply PCA and use the components in the same 6 supervised models. Comparing the classification reports will inform me as to which technique (selectKbest or PCA) and which model Instacart should use."
   ]
  },
  {
   "cell_type": "code",
   "execution_count": 14,
   "metadata": {
    "colab": {
     "base_uri": "https://localhost:8080/",
     "height": 313
    },
    "colab_type": "code",
    "id": "IbISuuBBy3Qo",
    "outputId": "db2e8894-a8b8-41ca-ad88-4f207dca488b"
   },
   "outputs": [
    {
     "data": {
      "text/plain": [
       "Text(0, 0.5, 'Explained Variance')"
      ]
     },
     "execution_count": 14,
     "metadata": {},
     "output_type": "execute_result"
    },
    {
     "data": {
      "image/png": "[encoded data removed]",
      "text/plain": [
       "<Figure size 432x288 with 1 Axes>"
      ]
     },
     "metadata": {
      "needs_background": "light"
     },
     "output_type": "display_data"
    }
   ],
   "source": [
    "#standardize and transform X\n",
    "X = df_resampled[['order_id', 'user_id', 'order_number', 'order_dow', 'order_hour_of_day', 'days_since_prior_order', 'product_id', 'add_to_cart_order', 'aisle_id', 'department_id']]\n",
    "Y = df_resampled['reordered']\n",
    "X_standard = StandardScaler().fit_transform(X)\n",
    "pca = PCA().fit(X_standard)\n",
    "#look at variance explained by PCA components\n",
    "plt.plot(np.cumsum(pca.explained_variance_ratio_))\n",
    "plt.title('Cumulative Explained Variance')\n",
    "plt.xlabel('Components')\n",
    "plt.ylabel('Explained Variance')\n"
   ]
  },
  {
   "cell_type": "code",
   "execution_count": 15,
   "metadata": {
    "colab": {
     "base_uri": "https://localhost:8080/",
     "height": 69
    },
    "colab_type": "code",
    "id": "qNAjsilVzHU_",
    "outputId": "083386af-4c9c-4963-84c6-45fb5e248e89"
   },
   "outputs": [
    {
     "name": "stdout",
     "output_type": "stream",
     "text": [
      "Cumulative Explained Variance:  0.9347750043608394\n",
      "Percentage of total variance explained by each component: [0.13551956 0.10707731 0.10207728 0.10084905 0.10028206 0.09977865\n",
      " 0.09953327 0.09637964 0.09327818]\n"
     ]
    }
   ],
   "source": [
    "#use 9 components in PCA\n",
    "pca = PCA(n_components=9)\n",
    "X_PCA = pca.fit_transform(X_standard)\n",
    "#look at explained variance\n",
    "pca_variance = pca.explained_variance_ratio_\n",
    "print('Cumulative Explained Variance: ', pca.explained_variance_ratio_.sum())\n",
    "print('Percentage of total variance explained by each component:',\n",
    "    pca.explained_variance_ratio_\n",
    ")"
   ]
  },
  {
   "cell_type": "markdown",
   "metadata": {},
   "source": [
    "I'll use 9 components, as these 9 components explain approximately 93% of the variance. I'll create a dataframe with these PCA components, split the dataframe into training and test sets, and then train/test each supervised model."
   ]
  },
  {
   "cell_type": "code",
   "execution_count": 16,
   "metadata": {
    "colab": {},
    "colab_type": "code",
    "id": "F6oIFGSJzIcS"
   },
   "outputs": [],
   "source": [
    "#PCA as a dataframe\n",
    "PCA_df = pd.DataFrame(X_PCA)\n",
    "#split data based on PCA\n",
    "X_train, X_test, y_train, y_test = train_test_split(PCA_df, Y, test_size = 0.2, random_state = 465)"
   ]
  },
  {
   "cell_type": "markdown",
   "metadata": {
    "colab_type": "text",
    "id": "mYZ0CvVh3ynL"
   },
   "source": [
    "### Logistic Regression with PCA components"
   ]
  },
  {
   "cell_type": "code",
   "execution_count": 0,
   "metadata": {
    "colab": {},
    "colab_type": "code",
    "id": "gZl36R0w30l2"
   },
   "outputs": [],
   "source": [
    "#fit a logistic regression\n",
    "lrm = LogisticRegression()\n",
    "#grid search to find best parameters\n",
    "grid_values = {'penalty': ['l1', 'l2'],'C':[0.001,.009,0.01,.09,1,5,10,25]}\n",
    "grid_lrm_acc = GridSearchCV(lrm, param_grid = grid_values,scoring = 'recall')\n",
    "grid_lrm_acc.fit(X_train, y_train)\n",
    "\n",
    "#Predict values based on best parameters\n",
    "y_pred = grid_lrm_acc.predict(X_test)"
   ]
  },
  {
   "cell_type": "code",
   "execution_count": 104,
   "metadata": {
    "colab": {
     "base_uri": "https://localhost:8080/",
     "height": 347
    },
    "colab_type": "code",
    "id": "Bgz24VLK36lr",
    "outputId": "eeabbf22-e77e-441d-fbc6-5b4117186a84"
   },
   "outputs": [
    {
     "name": "stdout",
     "output_type": "stream",
     "text": [
      "Accuracy Score : 0.6392284060493387\n",
      "Precision Score : 0.6359167750325098\n",
      "Recall Score : 0.646612365790448\n",
      "F1 Score : 0.6412199727263191\n",
      "AUC Score : 0.6392492789534954\n",
      "                  precision    recall  f1-score   support\n",
      "\n",
      "Did Not Re-order       0.64      0.63      0.64     38029\n",
      "    Did Re-order       0.64      0.65      0.64     37814\n",
      "\n",
      "        accuracy                           0.64     75843\n",
      "       macro avg       0.64      0.64      0.64     75843\n",
      "    weighted avg       0.64      0.64      0.64     75843\n",
      "\n",
      "Accuracy scores for the 5 folds:  [0.65064725 0.64409236 0.64273009 0.64760524 0.65277686]\n",
      "Mean cross validation score: 0.648\n",
      "Confusion Matrix : \n",
      "[[24030 13999]\n",
      " [13363 24451]]\n"
     ]
    }
   ],
   "source": [
    "#evaluate model\n",
    "print('Accuracy Score : ' + str(accuracy_score(y_test,y_pred)))\n",
    "print('Precision Score : ' + str(precision_score(y_test,y_pred)))\n",
    "print('Recall Score : ' + str(recall_score(y_test,y_pred)))\n",
    "print('F1 Score : ' + str(f1_score(y_test,y_pred)))\n",
    "print('AUC Score : ' + str(roc_auc_score(y_test,y_pred)))\n",
    "report = classification_report(y_test, y_pred, target_names=['Did Not Re-order', 'Did Re-order'])\n",
    "print(report)\n",
    "\n",
    "cv_scores = cross_val_score(grid_lrm_acc, X_train, y_train, cv = 5)\n",
    "print('Accuracy scores for the 5 folds: ', cv_scores)\n",
    "print('Mean cross validation score: {:.3f}'.format(np.mean(cv_scores)))\n",
    "\n",
    "print('Confusion Matrix : \\n' + str(confusion_matrix(y_test,y_pred)))"
   ]
  },
  {
   "cell_type": "markdown",
   "metadata": {
    "colab_type": "text",
    "id": "FRWT9zh04XcB"
   },
   "source": [
    "### KNN with PCA Components"
   ]
  },
  {
   "cell_type": "code",
   "execution_count": 0,
   "metadata": {
    "colab": {},
    "colab_type": "code",
    "id": "AfHOKWWK4bGh"
   },
   "outputs": [],
   "source": [
    "knn = KNeighborsClassifier()\n",
    "#dictionary with values I want to test for n_neighbors\n",
    "param_grid = {'n_neighbors': np.arange(1, 25)}\n",
    "#use gridsearch to test all values for n_neighbors\n",
    "knn_gscv = GridSearchCV(knn, param_grid, cv=5)\n",
    "#fit model\n",
    "knn_gscv.fit(X_train, y_train)\n",
    "\n",
    "#Predict values \n",
    "y_pred = knn_gscv.predict(X_test)"
   ]
  },
  {
   "cell_type": "code",
   "execution_count": 106,
   "metadata": {
    "colab": {
     "base_uri": "https://localhost:8080/",
     "height": 347
    },
    "colab_type": "code",
    "id": "XMF5CVhv4r4V",
    "outputId": "d9133d9d-237c-4ff6-e49a-9caab1c1ff57"
   },
   "outputs": [
    {
     "name": "stdout",
     "output_type": "stream",
     "text": [
      "Accuracy Score : 0.7793995490684704\n",
      "Precision Score : 0.8188692942920234\n",
      "Recall Score : 0.71589887343312\n",
      "F1 Score : 0.7639298463448705\n",
      "AUC Score : 0.7792200459884314\n",
      "                  precision    recall  f1-score   support\n",
      "\n",
      "Did Not Re-order       0.75      0.84      0.79     38029\n",
      "    Did Re-order       0.82      0.72      0.76     37814\n",
      "\n",
      "        accuracy                           0.78     75843\n",
      "       macro avg       0.78      0.78      0.78     75843\n",
      "    weighted avg       0.78      0.78      0.78     75843\n",
      "\n",
      "Accuracy scores for the 5 folds:  [0.65064725 0.64409236 0.64273009 0.64760524 0.65277686]\n",
      "Mean cross validation score: 0.648\n",
      "Confusion Matrix : \n",
      "[[32041  5988]\n",
      " [10743 27071]]\n"
     ]
    }
   ],
   "source": [
    "#evaluate model\n",
    "print('Accuracy Score : ' + str(accuracy_score(y_test,y_pred)))\n",
    "print('Precision Score : ' + str(precision_score(y_test,y_pred)))\n",
    "print('Recall Score : ' + str(recall_score(y_test,y_pred)))\n",
    "print('F1 Score : ' + str(f1_score(y_test,y_pred)))\n",
    "print('AUC Score : ' + str(roc_auc_score(y_test,y_pred)))\n",
    "report = classification_report(y_test, y_pred, target_names=['Did Not Re-order', 'Did Re-order'])\n",
    "print(report)\n",
    "\n",
    "cv_scores = cross_val_score(knn_gscv, X_train, y_train, cv = 5)\n",
    "print('Accuracy scores for the 5 folds: ', cv_scores)\n",
    "print('Mean cross validation score: {:.3f}'.format(np.mean(cv_scores)))\n",
    "\n",
    "print('Confusion Matrix : \\n' + str(confusion_matrix(y_test,y_pred)))"
   ]
  },
  {
   "cell_type": "markdown",
   "metadata": {
    "colab_type": "text",
    "id": "7CnCCCpPii8S"
   },
   "source": [
    "### Decision Tree with PCA Components"
   ]
  },
  {
   "cell_type": "code",
   "execution_count": 0,
   "metadata": {
    "colab": {},
    "colab_type": "code",
    "id": "m2xpyOuminFC"
   },
   "outputs": [],
   "source": [
    "#fit the tree using the best parameters (determined by gridsearch)\n",
    "tree_para = {'criterion':['gini','entropy'],'max_depth':[4,5,6,7,8,9,10,11,12,15,20,30,40,50,70,90,120,150]}\n",
    "clf = GridSearchCV(DecisionTreeClassifier(), tree_para, cv=5)\n",
    "clf.fit(X_train, y_train)\n",
    "#Predict values \n",
    "y_pred = clf.predict(X_test)"
   ]
  },
  {
   "cell_type": "code",
   "execution_count": 108,
   "metadata": {
    "colab": {
     "base_uri": "https://localhost:8080/",
     "height": 347
    },
    "colab_type": "code",
    "id": "r2USNpegiuGN",
    "outputId": "e26eb3f7-a5c2-47fa-87b5-9d81ad4f7914"
   },
   "outputs": [
    {
     "name": "stdout",
     "output_type": "stream",
     "text": [
      "Accuracy Score : 0.7634850942077713\n",
      "Precision Score : 0.8097494078045131\n",
      "Recall Score : 0.6870471254032898\n",
      "F1 Score : 0.743368908981659\n",
      "AUC Score : 0.7632690201157237\n",
      "                  precision    recall  f1-score   support\n",
      "\n",
      "Did Not Re-order       0.73      0.84      0.78     38029\n",
      "    Did Re-order       0.81      0.69      0.74     37814\n",
      "\n",
      "        accuracy                           0.76     75843\n",
      "       macro avg       0.77      0.76      0.76     75843\n",
      "    weighted avg       0.77      0.76      0.76     75843\n",
      "\n",
      "Accuracy scores for the 5 folds:  [0.73894914 0.73243894 0.73804265 0.7342519  0.73515402]\n",
      "Mean cross validation score: 0.736\n",
      "Confusion Matrix : \n",
      "[[31925  6104]\n",
      " [11834 25980]]\n"
     ]
    }
   ],
   "source": [
    "#evaluate model\n",
    "print('Accuracy Score : ' + str(accuracy_score(y_test,y_pred)))\n",
    "print('Precision Score : ' + str(precision_score(y_test,y_pred)))\n",
    "print('Recall Score : ' + str(recall_score(y_test,y_pred)))\n",
    "print('F1 Score : ' + str(f1_score(y_test,y_pred)))\n",
    "print('AUC Score : ' + str(roc_auc_score(y_test,y_pred)))\n",
    "report = classification_report(y_test, y_pred, target_names=['Did Not Re-order', 'Did Re-order'])\n",
    "print(report)\n",
    "cv_scores = cross_val_score(clf, X_train, y_train, cv = 5)\n",
    "print('Accuracy scores for the 5 folds: ', cv_scores)\n",
    "print('Mean cross validation score: {:.3f}'.format(np.mean(cv_scores)))\n",
    "\n",
    "print('Confusion Matrix : \\n' + str(confusion_matrix(y_test,y_pred)))"
   ]
  },
  {
   "cell_type": "markdown",
   "metadata": {
    "colab_type": "text",
    "id": "_l9bWO0LrKwW"
   },
   "source": [
    "### Random Forest with PCA Components"
   ]
  },
  {
   "cell_type": "code",
   "execution_count": 0,
   "metadata": {
    "colab": {},
    "colab_type": "code",
    "id": "JOfduK83rObt"
   },
   "outputs": [],
   "source": [
    "#fit the RF using the parameters chosen by gridsearch\n",
    "tree_para = {'criterion':['gini','entropy'],'max_depth':[4,6,8,10,12,20,40,50,70,90,100]}\n",
    "clf = GridSearchCV(RandomForestClassifier(), tree_para, cv=5)\n",
    "clf.fit(X_train, y_train)\n",
    "#Predict values \n",
    "y_pred = clf.predict(X_test)"
   ]
  },
  {
   "cell_type": "code",
   "execution_count": 0,
   "metadata": {
    "colab": {},
    "colab_type": "code",
    "id": "iAyJiFtiraCd"
   },
   "outputs": [],
   "source": [
    "#see how the model performed\n",
    "print('Accuracy Score : ' + str(accuracy_score(y_test,y_pred)))\n",
    "print('Precision Score : ' + str(precision_score(y_test,y_pred)))\n",
    "print('Recall Score : ' + str(recall_score(y_test,y_pred)))\n",
    "print('F1 Score : ' + str(f1_score(y_test,y_pred)))\n",
    "print('AUC Score : ' + str(roc_auc_score(y_test,y_pred)))\n",
    "report = classification_report(y_test, y_pred, target_names=['Did Not Re-order', 'Did Re-order'])\n",
    "print(report)\n",
    "\n",
    "cv_scores = cross_val_score(clf, X_train, y_train, cv = 5)\n",
    "print('Accuracy scores for the 5 folds: ', cv_scores)\n",
    "print('Mean cross validation score: {:.3f}'.format(np.mean(cv_scores)))\n",
    "print('Confusion Matrix : \\n' + str(confusion_matrix(y_test,y_pred)))"
   ]
  },
  {
   "cell_type": "markdown",
   "metadata": {},
   "source": [
    "### SVC with PCA Components"
   ]
  },
  {
   "cell_type": "code",
   "execution_count": null,
   "metadata": {},
   "outputs": [],
   "source": [
    "# define parameter range \n",
    "param_grid = {'C': [0.001, 0.1, 1, 5,  10, 50, 100, 1000],  \n",
    "              'gamma': [1, 0.1, 0.01, 0.001, 0.0001], \n",
    "              'kernel': ['rbf']}  \n",
    "#grid search with svc model  \n",
    "grid_svc = GridSearchCV(SVC(), param_grid, refit = True, verbose = False) \n",
    "  \n",
    "# fit the model for grid search \n",
    "grid_svc.fit(X_train, y_train)\n",
    "#Predict values \n",
    "y_pred = grid_svc.predict(X_test)"
   ]
  },
  {
   "cell_type": "code",
   "execution_count": null,
   "metadata": {},
   "outputs": [],
   "source": [
    "#see how the model performed\n",
    "print('Accuracy Score : ' + str(accuracy_score(y_test,y_pred)))\n",
    "print('Precision Score : ' + str(precision_score(y_test,y_pred)))\n",
    "print('Recall Score : ' + str(recall_score(y_test,y_pred)))\n",
    "print('F1 Score : ' + str(f1_score(y_test,y_pred)))\n",
    "print('AUC Score : ' + str(roc_auc_score(y_test,y_pred)))\n",
    "report = classification_report(y_test, y_pred, target_names=['Did Not Re-order', 'Did Re-order'])\n",
    "print(report)\n",
    "\n",
    "cv_scores = cross_val_score(grid_svc, X_train, y_train, cv = 5)\n",
    "print('Accuracy scores for the 5 folds: ', cv_scores)\n",
    "print('Mean cross validation score: {:.3f}'.format(np.mean(cv_scores)))\n",
    "print('Confusion Matrix : \\n' + str(confusion_matrix(y_test,y_pred)))"
   ]
  },
  {
   "cell_type": "markdown",
   "metadata": {},
   "source": [
    "### Gradient Boosting with PCA Components"
   ]
  },
  {
   "cell_type": "code",
   "execution_count": null,
   "metadata": {},
   "outputs": [],
   "source": [
    "gbc = GradientBoostingClassifier()\n",
    "#choose parameters to test\n",
    "parameters = {\n",
    "    \"n_estimators\":[5,50,250,500],\n",
    "    \"max_depth\":[1,3,5,7,9],\n",
    "    \"learning_rate\":[0.01,0.1,1,10,100]\n",
    "}\n",
    "#fit GB model for gridsearch\n",
    "cv = GridSearchCV(gbc,parameters,cv=5)\n",
    "cv.fit(X_train, y_train)"
   ]
  },
  {
   "cell_type": "code",
   "execution_count": null,
   "metadata": {},
   "outputs": [],
   "source": [
    "#see how the model performed\n",
    "print('Accuracy Score : ' + str(accuracy_score(y_test,y_pred)))\n",
    "print('Precision Score : ' + str(precision_score(y_test,y_pred)))\n",
    "print('Recall Score : ' + str(recall_score(y_test,y_pred)))\n",
    "print('F1 Score : ' + str(f1_score(y_test,y_pred)))\n",
    "print('AUC Score : ' + str(roc_auc_score(y_test,y_pred)))\n",
    "report = classification_report(y_test, y_pred, target_names=['Did Not Re-order', 'Did Re-order'])\n",
    "print(report)\n",
    "\n",
    "cv_scores = cross_val_score(cv, X_train, y_train, cv = 5)\n",
    "print('Accuracy scores for the 5 folds: ', cv_scores)\n",
    "print('Mean cross validation score: {:.3f}'.format(np.mean(cv_scores)))\n",
    "print('Confusion Matrix : \\n' + str(confusion_matrix(y_test,y_pred)))"
   ]
  },
  {
   "cell_type": "markdown",
   "metadata": {},
   "source": [
    "Discuss results here when the models finally run. Wrap up discussion about supervised learning....discuss using PCA and selectKbest. Come back to this section when all models run."
   ]
  },
  {
   "cell_type": "markdown",
   "metadata": {},
   "source": [
    "## Unsupervised Learning Models"
   ]
  },
  {
   "cell_type": "markdown",
   "metadata": {},
   "source": [
    "Unsupervised techniques can be used when the target variable is unknown. These techniques can also be useful even when the target variable is known, as the clusters created can contain meaningful information about the data. I want to cluster the data to determine if I can analyze the clusters to learn something interesting about customers' re-ordering patterns. To draw interesting information from the clusters, I am going to create a few binary variables to later explore the breakdown of those variables across the clusters. Specifically, I'll create a binary variable that measures whether or not the re-ordered product was produce (fruit, vegetable, etc.), a binary variable that distinguishes between high ( > 10 ) and low ( < 10) order numbers, and a variable that captures whether or not the order was placed recently (I consider orders placed less than/equal to 7 days to be \"recent\"). I'll start by using PCA and UMAP for visualization purposes."
   ]
  },
  {
   "cell_type": "code",
   "execution_count": 8,
   "metadata": {},
   "outputs": [],
   "source": [
    "#create binary variables \n",
    "df_resampled['fresh'] = (df_resampled['department'] == 'produce').astype(int)\n",
    "df_resampled['order_often'] = (df_resampled['order_number'] >=10).astype(int)\n",
    "df_resampled['order_recent'] = (df_resampled['days_since_prior_order']<= 7.0 ).astype(int)"
   ]
  },
  {
   "cell_type": "markdown",
   "metadata": {},
   "source": [
    "### PCA for Visualization"
   ]
  },
  {
   "cell_type": "markdown",
   "metadata": {},
   "source": [
    "It can sometimes be useful to apply PCA and use two components to visualize any clustering in the data. I'll apply PCA to the explanatory features (including the binary variables created above) and use 2 components in order to visualize the data in 2D."
   ]
  },
  {
   "cell_type": "code",
   "execution_count": 18,
   "metadata": {},
   "outputs": [
    {
     "data": {
      "image/png": "[encoded data removed]",
      "text/plain": [
       "<Figure size 720x360 with 1 Axes>"
      ]
     },
     "metadata": {},
     "output_type": "display_data"
    }
   ],
   "source": [
    "#define X and y \n",
    "X = df_resampled[[ 'order_number', 'order_hour_of_day', 'days_since_prior_order',  'add_to_cart_order', 'aisle_id', 'department_id', 'order_recent', 'order_often', 'fresh']]\n",
    "Y = df_resampled['reordered']\n",
    "\n",
    "# Use 2 components for two dimensions\n",
    "pca = PCA(n_components=2)\n",
    "\n",
    "pca_components = pca.fit_transform(X)\n",
    "#plot PCA solution\n",
    "plt.figure(figsize=(10,5))\n",
    "plt.scatter(pca_components[:, 0], pca_components[:, 1])\n",
    "plt.xticks([])\n",
    "plt.yticks([])\n",
    "plt.axis('off')\n",
    "plt.show()"
   ]
  },
  {
   "cell_type": "markdown",
   "metadata": {},
   "source": [
    "The PCA solution is clearly not helpful in terms of visualizing any clustering in the data. It is not clear at all from the PCA plot as to whether or not the data clusters in meaningful ways. Hopefully UMAP will prove to be more meaningful."
   ]
  },
  {
   "cell_type": "markdown",
   "metadata": {},
   "source": [
    "### UMAP for Visualization"
   ]
  },
  {
   "cell_type": "markdown",
   "metadata": {},
   "source": [
    "UMAP, or Uniform Manifold Approximation and Projection, can be used to represent data in lower dimensions. It is difficult to visualize data in 3, 4, 5, etc. dimensions. UMAP, as with PCA, is a dimension reduction technique. It can be useful to apply UMAP and plot the results when using unsupervised learning to determine how many (if any) clusters there are in the data.  "
   ]
  },
  {
   "cell_type": "code",
   "execution_count": 10,
   "metadata": {},
   "outputs": [],
   "source": [
    "#conda install -c conda-forge umap-learn\n",
    "import umap\n",
    "umap_results = umap.UMAP(n_neighbors=5,\n",
    "                      min_dist=0.3,\n",
    "                      metric='correlation').fit_transform(X)"
   ]
  },
  {
   "cell_type": "code",
   "execution_count": 11,
   "metadata": {},
   "outputs": [
    {
     "data": {
      "image/png": "[encoded data removed]",
      "text/plain": [
       "<Figure size 720x360 with 1 Axes>"
      ]
     },
     "metadata": {},
     "output_type": "display_data"
    }
   ],
   "source": [
    "#plot umap results\n",
    "plt.figure(figsize=(10,5))\n",
    "plt.scatter(umap_results[:, 0], umap_results[:, 1])\n",
    "plt.xticks([])\n",
    "plt.yticks([])\n",
    "plt.axis('off')\n",
    "plt.show()"
   ]
  },
  {
   "cell_type": "markdown",
   "metadata": {},
   "source": [
    "It is not clear from either the PCA or UMAP representations as to how many clusters we need. Therefore, I'll vary the k clusters with both K Means and GMM and examine their silhouette scores. The silhouette scores are one way to measure similarity; a higher silhouette score (closer to 1) indicates that the datapoints within a cluster are closer to each other than they are to datapoints in other clusters."
   ]
  },
  {
   "cell_type": "markdown",
   "metadata": {},
   "source": [
    "### K Means"
   ]
  },
  {
   "cell_type": "markdown",
   "metadata": {},
   "source": [
    "KMeans is probably the most popular unsupervised clustering technique. This algorithm groups the data points into clusters based on the nearest mean of each cluster. The number of k clusters must be set initially, so there is some trial and error involved in choosing k. K-means does have a few assumptions--that the clusters have equal variance and are radially symmetric. If the clusters are truly not isotropic, this might not be the best algorithm. I'll standard X and fit various k-means models with different k clusters. "
   ]
  },
  {
   "cell_type": "code",
   "execution_count": 14,
   "metadata": {},
   "outputs": [
    {
     "name": "stdout",
     "output_type": "stream",
     "text": [
      "Silhouette score for three cluster k-means: 0.19208079322172736\n",
      "Silhouette score for four cluster k-means: 0.17242601667921212\n",
      "Silhouette score for five cluster k-means: 0.18796097180324742\n"
     ]
    }
   ],
   "source": [
    "X = df_resampled[[ 'order_number', 'order_hour_of_day', 'days_since_prior_order',  'add_to_cart_order', 'aisle_id', 'department_id', 'order_recent', 'order_often', 'fresh']]\n",
    "# K mean is sensitive to the scale of data, so we standarize:\n",
    "scaler = StandardScaler()\n",
    "X_std = scaler.fit_transform(X)\n",
    "#fit k means and get predictions (3-5 cluster solutions)\n",
    "\n",
    "pred_3 = KMeans(n_clusters=3, random_state=123).fit_predict(X_std)\n",
    "pred_4 = KMeans(n_clusters=4, random_state=123).fit_predict(X_std)\n",
    "pred_5 = KMeans(n_clusters=5, random_state=123).fit_predict(X_std)\n",
    "\n",
    "#get silhouette scores for each\n",
    "\n",
    "print(\"Silhouette score for three cluster k-means: {}\".format(\n",
    "   metrics.silhouette_score(X_std, pred_3, metric='euclidean')))\n",
    "print(\"Silhouette score for four cluster k-means: {}\".format(\n",
    "   metrics.silhouette_score(X_std, pred_4, metric='euclidean')))\n",
    "print(\"Silhouette score for five cluster k-means: {}\".format(\n",
    "   metrics.silhouette_score(X_std, pred_5, metric= 'euclidean')))\n"
   ]
  },
  {
   "cell_type": "code",
   "execution_count": 15,
   "metadata": {},
   "outputs": [
    {
     "data": {
      "image/png": "[encoded data removed]",
      "text/plain": [
       "<Figure size 432x288 with 1 Axes>"
      ]
     },
     "metadata": {
      "needs_background": "light"
     },
     "output_type": "display_data"
    }
   ],
   "source": [
    "#visualize the k-means 3 cluster solution using 2 PCA components\n",
    "\n",
    "X_pca = PCA(2).fit_transform(X_std)\n",
    "\n",
    "# Plot the solution\n",
    "plt.scatter(X_pca[:, 0], X_pca[:, 1], c=pred_3)\n",
    "plt.show()"
   ]
  },
  {
   "cell_type": "code",
   "execution_count": 16,
   "metadata": {},
   "outputs": [
    {
     "data": {
      "image/png": "[encoded data removed]",
      "text/plain": [
       "<Figure size 432x288 with 1 Axes>"
      ]
     },
     "metadata": {
      "needs_background": "light"
     },
     "output_type": "display_data"
    }
   ],
   "source": [
    "# Plot the 4 cluster solution\n",
    "plt.scatter(X_pca[:, 0], X_pca[:, 1], c=pred_4)\n",
    "plt.show()"
   ]
  },
  {
   "cell_type": "code",
   "execution_count": 17,
   "metadata": {},
   "outputs": [
    {
     "data": {
      "image/png": "[encoded data removed]",
      "text/plain": [
       "<Figure size 432x288 with 1 Axes>"
      ]
     },
     "metadata": {
      "needs_background": "light"
     },
     "output_type": "display_data"
    }
   ],
   "source": [
    "# Plot the 5 cluster solution\n",
    "plt.scatter(X_pca[:, 0], X_pca[:, 1], c=pred_5)\n",
    "plt.show()"
   ]
  },
  {
   "cell_type": "markdown",
   "metadata": {},
   "source": [
    "Varying k from 3 to 5 resulted in only slightly different silhouette scores. A silhouette score of ~.18 is not horrible but let's try to get it closer to 1. "
   ]
  },
  {
   "cell_type": "markdown",
   "metadata": {},
   "source": [
    "### GMM (Gaussian Mixture Models)"
   ]
  },
  {
   "cell_type": "markdown",
   "metadata": {},
   "source": [
    "Gaussian Mixture Models do assume k clusters, as does K-means, but this is **probabilistic** (or soft) clustering. GMMs do not assume that there is equal variance across clusters, nor do they require radial symmetry, so GMMS are a good option when one needs to model non-linear shapes. I'll fit 3 different GMMs, each with a different number of k clusters. "
   ]
  },
  {
   "cell_type": "code",
   "execution_count": 18,
   "metadata": {},
   "outputs": [
    {
     "name": "stdout",
     "output_type": "stream",
     "text": [
      "Silhouette score for GMM 3 cluster solution: 0.18515448987561714\n",
      "Silhouette score for  for GMM 4 cluster solution: 0.1423055580646898\n",
      "Silhouette score for GMM 5 cluster solution: 0.18820529773796202\n"
     ]
    }
   ],
   "source": [
    "# Defining the agglomerative clustering for 3 clusters\n",
    "gmm_cluster3 = GaussianMixture(n_components=3, random_state=123)\n",
    "\n",
    "# Fit model\n",
    "clusters3 = gmm_cluster3.fit_predict(X_std)\n",
    "#get silhouette score 3 cluster solution\n",
    "print(\"Silhouette score for GMM 3 cluster solution: {}\".format(\n",
    "    metrics.silhouette_score(X_std, clusters3, metric='euclidean')))\n",
    "\n",
    "# Defining the agglomerative clustering for 4 clusters\n",
    "gmm_cluster4 = GaussianMixture(n_components=4, random_state=123)\n",
    "\n",
    "# Fit model\n",
    "clusters4 = gmm_cluster4.fit_predict(X_std)\n",
    "#get silhouette score 4 cluster solution\n",
    "print(\"Silhouette score for  for GMM 4 cluster solution: {}\".format(\n",
    "    metrics.silhouette_score(X_std, clusters4, metric='euclidean')))\n",
    "\n",
    "# Defining the agglomerative clustering for 5 clusters\n",
    "gmm_cluster5 = GaussianMixture(n_components=5, random_state=123)\n",
    "\n",
    "# Fit model\n",
    "clusters5 = gmm_cluster5.fit_predict(X_std)\n",
    "#get silhouette score 5 cluster solution\n",
    "print(\"Silhouette score for GMM 5 cluster solution: {}\".format(\n",
    "    metrics.silhouette_score(X_std, clusters5, metric='euclidean')))\n"
   ]
  },
  {
   "cell_type": "code",
   "execution_count": 19,
   "metadata": {},
   "outputs": [
    {
     "data": {
      "image/png": "[encoded data removed]",
      "text/plain": [
       "<Figure size 432x288 with 1 Axes>"
      ]
     },
     "metadata": {
      "needs_background": "light"
     },
     "output_type": "display_data"
    }
   ],
   "source": [
    "# Plot the solution using 2 PCA components\n",
    "#3 cluster solution\n",
    "plt.scatter(X_pca[:, 0], X_pca[:, 1], c=clusters3)\n",
    "plt.show()"
   ]
  },
  {
   "cell_type": "code",
   "execution_count": 20,
   "metadata": {},
   "outputs": [
    {
     "data": {
      "image/png": "[encoded data removed]",
      "text/plain": [
       "<Figure size 432x288 with 1 Axes>"
      ]
     },
     "metadata": {
      "needs_background": "light"
     },
     "output_type": "display_data"
    }
   ],
   "source": [
    "# Plot the 4 cluster solution\n",
    "plt.scatter(X_pca[:, 0], X_pca[:, 1], c=clusters4)\n",
    "plt.show()"
   ]
  },
  {
   "cell_type": "code",
   "execution_count": 21,
   "metadata": {},
   "outputs": [
    {
     "data": {
      "image/png": "[encoded data removed]",
      "text/plain": [
       "<Figure size 432x288 with 1 Axes>"
      ]
     },
     "metadata": {
      "needs_background": "light"
     },
     "output_type": "display_data"
    }
   ],
   "source": [
    "# Plot the 5 cluster solution\n",
    "plt.scatter(X_pca[:, 0], X_pca[:, 1], c=clusters5)\n",
    "plt.show()"
   ]
  },
  {
   "cell_type": "markdown",
   "metadata": {},
   "source": [
    "### Exploring the Clusters"
   ]
  },
  {
   "cell_type": "markdown",
   "metadata": {},
   "source": [
    "The silhouette scores are somewhat low, so it might be difficult to learn about this data from clusters. I want to assign labels to the datapoints, so I will use a k-means solution to further explore the clusters to try and pull meaningful information from them so that I identify purchasing patterns (GMM does not include a labeling attribute). Since there are only small differences between the silhouette scores for the various k-means clustering solutions, I will look more closely at the 5 cluster solution to learn more about the data and clusters. "
   ]
  },
  {
   "cell_type": "code",
   "execution_count": 22,
   "metadata": {},
   "outputs": [
    {
     "data": {
      "text/plain": [
       "KMeans(algorithm='auto', copy_x=True, init='k-means++', max_iter=300,\n",
       "       n_clusters=5, n_init=10, n_jobs=None, precompute_distances='auto',\n",
       "       random_state=42, tol=0.0001, verbose=0)"
      ]
     },
     "execution_count": 22,
     "metadata": {},
     "output_type": "execute_result"
    }
   ],
   "source": [
    "#K means with 5 clusters\n",
    "X_std = scaler.fit_transform(X)\n",
    "kmeans = KMeans(n_clusters=5, random_state=42)\n",
    "kmeans.fit(X_std)"
   ]
  },
  {
   "cell_type": "code",
   "execution_count": 23,
   "metadata": {},
   "outputs": [],
   "source": [
    "#add kmeans predictions to X\n",
    "X['kmeans_fresh'] = kmeans.labels_\n",
    "X['kmeans_order_often'] = kmeans.labels_\n",
    "X['kmeans_order_recent'] = kmeans.labels_"
   ]
  },
  {
   "cell_type": "code",
   "execution_count": 29,
   "metadata": {},
   "outputs": [
    {
     "data": {
      "text/plain": [
       "Text(0.5, 1.0, 'K-Means Clustering of Fresh Food Re-ordered')"
      ]
     },
     "execution_count": 29,
     "metadata": {},
     "output_type": "execute_result"
    },
    {
     "data": {
      "image/png": "[encoded data removed]",
      "text/plain": [
       "<Figure size 432x288 with 1 Axes>"
      ]
     },
     "metadata": {
      "needs_background": "light"
     },
     "output_type": "display_data"
    }
   ],
   "source": [
    "#plot 'fresh' per cluster \n",
    "pd.crosstab(X['kmeans_fresh'],df_resampled['fresh']).plot.barh(stacked=True, color =['grey', 'pink'])\n",
    "plt.ylabel('K Means Clusters')\n",
    "plt.xlabel('Number of Observations (per cluster)')\n",
    "plt.title('K-Means Clustering of Fresh Food Re-ordered')\n",
    "\n",
    "\n"
   ]
  },
  {
   "cell_type": "markdown",
   "metadata": {},
   "source": [
    "From the above bar plot, we can tell that cluster 3 contains the most re-ordered fresh produce products, while clusters 1 and 4 contain zero fresh products. Cluster 0 is the only cluster that contains both fresh and non-fresh products, though the majority of re-orders in cluster 0 are fresh products. This K-Means solution illustrates that re-orders can certainly be grouped by product type, fresh v. non-fresh in this case."
   ]
  },
  {
   "cell_type": "code",
   "execution_count": 30,
   "metadata": {},
   "outputs": [
    {
     "data": {
      "text/plain": [
       "Text(0.5, 0, 'Number of Observations (per cluster)')"
      ]
     },
     "execution_count": 30,
     "metadata": {},
     "output_type": "execute_result"
    },
    {
     "data": {
      "image/png": "[encoded data removed]",
      "text/plain": [
       "<Figure size 432x288 with 1 Axes>"
      ]
     },
     "metadata": {
      "needs_background": "light"
     },
     "output_type": "display_data"
    }
   ],
   "source": [
    "#plot order_often per cluster\n",
    "pd.crosstab(X['kmeans_order_often'],df_resampled['order_often']).plot.barh(stacked=True,color =['grey', 'pink'] )\n",
    "plt.ylabel('K Means Clusters')\n",
    "plt.title('K-Means Clustering of Order Number (Low [0] v. High [1])')\n",
    "plt.xlabel('Number of Observations (per cluster)')"
   ]
  },
  {
   "cell_type": "markdown",
   "metadata": {},
   "source": [
    "The above bar plot illustrates that clusters 0 and 2 are comprised entirely of positive values for order_often, which is a binary variable that measures whether the customer has ordered at least 10 times. Cluster 1, on the other hand, is comprised entirely of 0 values for this same binary variable.  Clusters 3 and 4 contain a mix of observations, with cluster 3 having mostly 0 values and cluster 4 having mostly positive values. As with the binary variable for fresh products, this clustering tells me that orders can be grouped together in meaningful ways. Specifically, there is a pattern among the observations indicating that customers who have ordered a lot (at least 10 times) can be grouped together. "
   ]
  },
  {
   "cell_type": "code",
   "execution_count": 31,
   "metadata": {},
   "outputs": [
    {
     "data": {
      "text/plain": [
       "Text(0.5, 0, 'Number of Observations (per cluster)')"
      ]
     },
     "execution_count": 31,
     "metadata": {},
     "output_type": "execute_result"
    },
    {
     "data": {
      "image/png": "[encoded data removed]",
      "text/plain": [
       "<Figure size 432x288 with 1 Axes>"
      ]
     },
     "metadata": {
      "needs_background": "light"
     },
     "output_type": "display_data"
    }
   ],
   "source": [
    "#plot order_recent per cluster\n",
    "pd.crosstab(X['kmeans_order_recent'],df_resampled['order_recent']).plot.barh(stacked=True, color =['grey', 'pink'])\n",
    "plt.ylabel('K Means Clusters')\n",
    "plt.title('K-Means Clustering of Non-Recent Orders [0] and Recent Orders [1]')\n",
    "plt.xlabel('Number of Observations (per cluster)')"
   ]
  },
  {
   "cell_type": "markdown",
   "metadata": {},
   "source": [
    "The above bar plot illustrates the breakdown across clusters for the variable order_recent. This is a binary variable that indicates whether or not the order was placed within the last 7 days. The bar plot shows that clusters 0 and 4 contain the highest number of positive observations for the order_recent variable (i.e., 'yes, this order was placed recently'), while cluster 2 comprises entirely 0 values for order_recent ('this was not a recent order'). Cluster 3 contains a mix of observations, with 0 values for the variable being the majority. All three graphics illustrate that Instacart orders can be distinctively grouped. It would be interesting to further explore this data with clustering in the future to see what else we can learn. "
   ]
  },
  {
   "cell_type": "markdown",
   "metadata": {},
   "source": [
    "## Deep Learning (Artificial Neural Networks)"
   ]
  },
  {
   "cell_type": "markdown",
   "metadata": {},
   "source": [
    "Deep learning is powerful and made possible with big data and computational resources. Deep learning requires stacking layer upon layer when building models. Artificial Neural Networks (ANN) consist of an input layer, hidden layer(s), and an outer layer, with each layer having a set number of neurons. The output of one layer becomes the input of the next layer, and so on until the final (outer) layer. The data scientist must decide how many layers and how many neurons per layer when building an ANN. Let's use keras and tensor flow and fit a few different ANNs (sequential models), tuning the hyperparameters, to see if these can accurately classify the observations."
   ]
  },
  {
   "cell_type": "code",
   "execution_count": null,
   "metadata": {},
   "outputs": [],
   "source": [
    "import tensorflow as tf\n",
    "from tensorflow import keras\n",
    "from tensorflow.keras import layers"
   ]
  },
  {
   "cell_type": "code",
   "execution_count": 27,
   "metadata": {},
   "outputs": [],
   "source": [
    "#create X and Y\n",
    "X = df_resampled[['order_id', 'user_id', 'order_number', 'order_dow', 'order_hour_of_day', 'days_since_prior_order', 'product_id', 'add_to_cart_order', 'aisle_id', 'department_id']]\n",
    "Y = df_resampled['reordered']\n",
    "\n",
    "#create training and test sets\n",
    "X_train, X_test, y_train, y_test = train_test_split(X, Y, test_size = 0.2, random_state = 465)"
   ]
  },
  {
   "cell_type": "code",
   "execution_count": 28,
   "metadata": {},
   "outputs": [
    {
     "name": "stdout",
     "output_type": "stream",
     "text": [
      "WARNING:tensorflow:Falling back from v2 loop because of error: Failed to find data adapter that can handle input: <class 'pandas.core.frame.DataFrame'>, <class 'NoneType'>\n",
      "WARNING:tensorflow:Falling back from v2 loop because of error: Failed to find data adapter that can handle input: <class 'pandas.core.frame.DataFrame'>, <class 'NoneType'>\n",
      "Test score: 1.002694065129838\n",
      "Test accuracy: 0.49865296\n"
     ]
    }
   ],
   "source": [
    "model = Sequential()\n",
    "# add three dense layers\n",
    "model.add(Dense(128, input_shape=(10,), activation=\"relu\"))\n",
    "model.add(Dense(64, activation=\"relu\"))\n",
    "model.add(Dense(1, activation=\"softmax\"))\n",
    "#compile the model\n",
    "model.compile(optimizer='sgd', loss='categorical_hinge',\n",
    "              metrics=['accuracy'])\n",
    "#fit the model\n",
    "model.fit(X_train, y_train, batch_size=128, epochs=10, verbose=False)\n",
    "#evaluate model\n",
    "score = model.evaluate(X_test, y_test, verbose=0)\n",
    "print('Test score:', score[0])\n",
    "print('Test accuracy:', score[1])"
   ]
  },
  {
   "cell_type": "markdown",
   "metadata": {},
   "source": [
    "The accuracy of this first sequential model was quite low, at .499%. I'll tune the parameters to see if the accuracy improves."
   ]
  },
  {
   "cell_type": "code",
   "execution_count": 29,
   "metadata": {},
   "outputs": [
    {
     "name": "stdout",
     "output_type": "stream",
     "text": [
      "WARNING:tensorflow:Falling back from v2 loop because of error: Failed to find data adapter that can handle input: <class 'pandas.core.frame.DataFrame'>, <class 'NoneType'>\n",
      "WARNING:tensorflow:Falling back from v2 loop because of error: Failed to find data adapter that can handle input: <class 'pandas.core.frame.DataFrame'>, <class 'NoneType'>\n",
      "Test score: 7.687273857247883\n",
      "Test accuracy: 0.49865296\n"
     ]
    }
   ],
   "source": [
    "model = Sequential()\n",
    "# add three dense layers\n",
    "model.add(Dense(1028, input_shape=(10,), activation=\"sigmoid\"))\n",
    "model.add(Dense(128, activation=\"relu\"))\n",
    "model.add(Dense(1, activation=\"softmax\"))\n",
    "#compile the model\n",
    "model.compile(optimizer='sgd', loss='binary_crossentropy',\n",
    "              metrics=['accuracy'])\n",
    "#fit the model\n",
    "model.fit(X_train, y_train, batch_size=128, epochs=10, verbose=False)\n",
    "#evaluate model\n",
    "score = model.evaluate(X_test, y_test, verbose=0)\n",
    "print('Test score:', score[0])\n",
    "print('Test accuracy:', score[1])"
   ]
  },
  {
   "cell_type": "markdown",
   "metadata": {},
   "source": [
    "Changing the loss function and increasing the neurons did not improve the accuracy. I'll try to add another layer to see if that improves things."
   ]
  },
  {
   "cell_type": "code",
   "execution_count": 14,
   "metadata": {},
   "outputs": [
    {
     "name": "stdout",
     "output_type": "stream",
     "text": [
      "WARNING:tensorflow:Falling back from v2 loop because of error: Failed to find data adapter that can handle input: <class 'pandas.core.frame.DataFrame'>, <class 'NoneType'>\n",
      "WARNING:tensorflow:Falling back from v2 loop because of error: Failed to find data adapter that can handle input: <class 'pandas.core.frame.DataFrame'>, <class 'NoneType'>\n",
      "Test score: 7.687273857247883\n",
      "Test accuracy: 0.49865296\n"
     ]
    }
   ],
   "source": [
    "model = Sequential()\n",
    "# add three dense layers\n",
    "model.add(Dense(1000, input_shape=(10,), activation=\"relu\"))\n",
    "model.add(Dense(100, activation=\"relu\"))\n",
    "model.add(Dense(100, activation=\"relu\"))\n",
    "model.add(Dense(1, activation=\"softmax\"))\n",
    "#compile the model\n",
    "model.compile(optimizer='sgd', loss='binary_crossentropy',\n",
    "              metrics=['accuracy'])\n",
    "#fit the model\n",
    "model.fit(X_train, y_train, batch_size=128, epochs=10, verbose=False)\n",
    "#evaluate model\n",
    "score = model.evaluate(X_test, y_test, verbose=0)\n",
    "print('Test score:', score[0])\n",
    "print('Test accuracy:', score[1])"
   ]
  },
  {
   "cell_type": "markdown",
   "metadata": {},
   "source": [
    "Adding another dense layer did not improve the accuracy, neither did changing the loss function or altering the number of neurons per layer. Though deep learning models and artificial neural networks can be very powerful predictive models, that was not the case with this data. Deep learning models need very large datasets in order to perform better than traditional machine learning techniques. I expect that this ANN did not perform as well as the supervised and unsupervised learning techniques because the dataset is not particularly large."
   ]
  },
  {
   "cell_type": "markdown",
   "metadata": {},
   "source": [
    "### Summary and Suggestions for Instacart"
   ]
  },
  {
   "cell_type": "markdown",
   "metadata": {},
   "source": [
    "Write summary here after all models run..."
   ]
  }
 ],
 "metadata": {
  "colab": {
   "collapsed_sections": [],
   "name": "Final Capstone.ipynb",
   "provenance": []
  },
  "kernelspec": {
   "display_name": "Python 3",
   "language": "python",
   "name": "python3"
  },
  "language_info": {
   "codemirror_mode": {
    "name": "ipython",
    "version": 3
   },
   "file_extension": ".py",
   "mimetype": "text/x-python",
   "name": "python",
   "nbconvert_exporter": "python",
   "pygments_lexer": "ipython3",
   "version": "3.7.4"
  }
 },
 "nbformat": 4,
 "nbformat_minor": 1
}
