{
 "cells": [
  {
   "cell_type": "code",
   "execution_count": 1,
   "metadata": {},
   "outputs": [],
   "source": [
    "import pandas as pd\n",
    "import numpy as np\n",
    "import matplotlib.pyplot as plt\n",
    "import os\n",
    "from sklearn.metrics import accuracy_score\n",
    "from sklearn.model_selection import cross_val_score\n",
    "from sklearn.ensemble import RandomForestClassifier\n",
    "from sklearn.ensemble import GradientBoostingClassifier\n",
    "from sklearn import ensemble\n",
    "from sklearn import svm, datasets\n",
    "from sklearn.metrics import accuracy_score,recall_score,precision_score,f1_score, classification_report\n",
    "from sklearn.model_selection import GridSearchCV\n",
    "import seaborn as sns\n",
    "from sklearn.model_selection import train_test_split\n",
    "from sklearn.feature_selection import SelectKBest, f_classif, chi2\n",
    "from sklearn.linear_model import LogisticRegression\n",
    "from sklearn.utils import resample\n",
    "from sklearn.neighbors import KNeighborsClassifier\n",
    "from sklearn.tree import DecisionTreeClassifier\n",
    "from sklearn.metrics import confusion_matrix\n",
    "from sklearn.svm import SVC \n",
    "from sklearn import ensemble\n",
    "from sklearn.preprocessing import StandardScaler\n",
    "from sklearn.decomposition import PCA\n",
    "\n",
    "%matplotlib inline"
   ]
  },
  {
   "cell_type": "markdown",
   "metadata": {},
   "source": [
    "# Introduction"
   ]
  },
  {
   "cell_type": "markdown",
   "metadata": {},
   "source": [
    "The dataset that I used for this capstone is useful for predicting whether or not a customer will leave the company/cancel their subscription, which is referred to as churn. In order to determine which model is most useful for this dataset and for predicting whether a customer will churn or not, I use two different techniques and compare multiple models. I first use selectKbest and fit logistic regression, KNN, decision tree, random forest, support vector, and gradient boosting models with the features chosen by selectKbest. Then, I use PCA and fit the same 6 models. Before fitting the models, I use gridsearchCV to determine which are the best parameters to use to fit the models. I compare each model's performance based on the following: cross-validation metrics, confusion matrices, and classification reports. "
   ]
  },
  {
   "cell_type": "markdown",
   "metadata": {},
   "source": [
    "# Data Exploration and Visualization"
   ]
  },
  {
   "cell_type": "code",
   "execution_count": 2,
   "metadata": {},
   "outputs": [],
   "source": [
    "#load dataset\n",
    "churn_df = pd.read_csv(\n",
    "    r'C:\\Users\\Lowe\\Documents\\Thinkful\\Datasets\\WA_Fn-UseC_-Telco-Customer-Churn.csv')"
   ]
  },
  {
   "cell_type": "code",
   "execution_count": 3,
   "metadata": {},
   "outputs": [
    {
     "data": {
      "text/html": [
       "<div>\n",
       "<style scoped>\n",
       "    .dataframe tbody tr th:only-of-type {\n",
       "        vertical-align: middle;\n",
       "    }\n",
       "\n",
       "    .dataframe tbody tr th {\n",
       "        vertical-align: top;\n",
       "    }\n",
       "\n",
       "    .dataframe thead th {\n",
       "        text-align: right;\n",
       "    }\n",
       "</style>\n",
       "<table border=\"1\" class=\"dataframe\">\n",
       "  <thead>\n",
       "    <tr style=\"text-align: right;\">\n",
       "      <th></th>\n",
       "      <th>customerID</th>\n",
       "      <th>gender</th>\n",
       "      <th>SeniorCitizen</th>\n",
       "      <th>Partner</th>\n",
       "      <th>Dependents</th>\n",
       "      <th>tenure</th>\n",
       "      <th>PhoneService</th>\n",
       "      <th>MultipleLines</th>\n",
       "      <th>InternetService</th>\n",
       "      <th>OnlineSecurity</th>\n",
       "      <th>...</th>\n",
       "      <th>DeviceProtection</th>\n",
       "      <th>TechSupport</th>\n",
       "      <th>StreamingTV</th>\n",
       "      <th>StreamingMovies</th>\n",
       "      <th>Contract</th>\n",
       "      <th>PaperlessBilling</th>\n",
       "      <th>PaymentMethod</th>\n",
       "      <th>MonthlyCharges</th>\n",
       "      <th>TotalCharges</th>\n",
       "      <th>Churn</th>\n",
       "    </tr>\n",
       "  </thead>\n",
       "  <tbody>\n",
       "    <tr>\n",
       "      <td>0</td>\n",
       "      <td>7590-VHVEG</td>\n",
       "      <td>Female</td>\n",
       "      <td>0</td>\n",
       "      <td>Yes</td>\n",
       "      <td>No</td>\n",
       "      <td>1</td>\n",
       "      <td>No</td>\n",
       "      <td>No phone service</td>\n",
       "      <td>DSL</td>\n",
       "      <td>No</td>\n",
       "      <td>...</td>\n",
       "      <td>No</td>\n",
       "      <td>No</td>\n",
       "      <td>No</td>\n",
       "      <td>No</td>\n",
       "      <td>Month-to-month</td>\n",
       "      <td>Yes</td>\n",
       "      <td>Electronic check</td>\n",
       "      <td>29.85</td>\n",
       "      <td>29.85</td>\n",
       "      <td>No</td>\n",
       "    </tr>\n",
       "    <tr>\n",
       "      <td>1</td>\n",
       "      <td>5575-GNVDE</td>\n",
       "      <td>Male</td>\n",
       "      <td>0</td>\n",
       "      <td>No</td>\n",
       "      <td>No</td>\n",
       "      <td>34</td>\n",
       "      <td>Yes</td>\n",
       "      <td>No</td>\n",
       "      <td>DSL</td>\n",
       "      <td>Yes</td>\n",
       "      <td>...</td>\n",
       "      <td>Yes</td>\n",
       "      <td>No</td>\n",
       "      <td>No</td>\n",
       "      <td>No</td>\n",
       "      <td>One year</td>\n",
       "      <td>No</td>\n",
       "      <td>Mailed check</td>\n",
       "      <td>56.95</td>\n",
       "      <td>1889.5</td>\n",
       "      <td>No</td>\n",
       "    </tr>\n",
       "    <tr>\n",
       "      <td>2</td>\n",
       "      <td>3668-QPYBK</td>\n",
       "      <td>Male</td>\n",
       "      <td>0</td>\n",
       "      <td>No</td>\n",
       "      <td>No</td>\n",
       "      <td>2</td>\n",
       "      <td>Yes</td>\n",
       "      <td>No</td>\n",
       "      <td>DSL</td>\n",
       "      <td>Yes</td>\n",
       "      <td>...</td>\n",
       "      <td>No</td>\n",
       "      <td>No</td>\n",
       "      <td>No</td>\n",
       "      <td>No</td>\n",
       "      <td>Month-to-month</td>\n",
       "      <td>Yes</td>\n",
       "      <td>Mailed check</td>\n",
       "      <td>53.85</td>\n",
       "      <td>108.15</td>\n",
       "      <td>Yes</td>\n",
       "    </tr>\n",
       "    <tr>\n",
       "      <td>3</td>\n",
       "      <td>7795-CFOCW</td>\n",
       "      <td>Male</td>\n",
       "      <td>0</td>\n",
       "      <td>No</td>\n",
       "      <td>No</td>\n",
       "      <td>45</td>\n",
       "      <td>No</td>\n",
       "      <td>No phone service</td>\n",
       "      <td>DSL</td>\n",
       "      <td>Yes</td>\n",
       "      <td>...</td>\n",
       "      <td>Yes</td>\n",
       "      <td>Yes</td>\n",
       "      <td>No</td>\n",
       "      <td>No</td>\n",
       "      <td>One year</td>\n",
       "      <td>No</td>\n",
       "      <td>Bank transfer (automatic)</td>\n",
       "      <td>42.30</td>\n",
       "      <td>1840.75</td>\n",
       "      <td>No</td>\n",
       "    </tr>\n",
       "    <tr>\n",
       "      <td>4</td>\n",
       "      <td>9237-HQITU</td>\n",
       "      <td>Female</td>\n",
       "      <td>0</td>\n",
       "      <td>No</td>\n",
       "      <td>No</td>\n",
       "      <td>2</td>\n",
       "      <td>Yes</td>\n",
       "      <td>No</td>\n",
       "      <td>Fiber optic</td>\n",
       "      <td>No</td>\n",
       "      <td>...</td>\n",
       "      <td>No</td>\n",
       "      <td>No</td>\n",
       "      <td>No</td>\n",
       "      <td>No</td>\n",
       "      <td>Month-to-month</td>\n",
       "      <td>Yes</td>\n",
       "      <td>Electronic check</td>\n",
       "      <td>70.70</td>\n",
       "      <td>151.65</td>\n",
       "      <td>Yes</td>\n",
       "    </tr>\n",
       "  </tbody>\n",
       "</table>\n",
       "<p>5 rows × 21 columns</p>\n",
       "</div>"
      ],
      "text/plain": [
       "   customerID  gender  SeniorCitizen Partner Dependents  tenure PhoneService  \\\n",
       "0  7590-VHVEG  Female              0     Yes         No       1           No   \n",
       "1  5575-GNVDE    Male              0      No         No      34          Yes   \n",
       "2  3668-QPYBK    Male              0      No         No       2          Yes   \n",
       "3  7795-CFOCW    Male              0      No         No      45           No   \n",
       "4  9237-HQITU  Female              0      No         No       2          Yes   \n",
       "\n",
       "      MultipleLines InternetService OnlineSecurity  ... DeviceProtection  \\\n",
       "0  No phone service             DSL             No  ...               No   \n",
       "1                No             DSL            Yes  ...              Yes   \n",
       "2                No             DSL            Yes  ...               No   \n",
       "3  No phone service             DSL            Yes  ...              Yes   \n",
       "4                No     Fiber optic             No  ...               No   \n",
       "\n",
       "  TechSupport StreamingTV StreamingMovies        Contract PaperlessBilling  \\\n",
       "0          No          No              No  Month-to-month              Yes   \n",
       "1          No          No              No        One year               No   \n",
       "2          No          No              No  Month-to-month              Yes   \n",
       "3         Yes          No              No        One year               No   \n",
       "4          No          No              No  Month-to-month              Yes   \n",
       "\n",
       "               PaymentMethod MonthlyCharges  TotalCharges Churn  \n",
       "0           Electronic check          29.85         29.85    No  \n",
       "1               Mailed check          56.95        1889.5    No  \n",
       "2               Mailed check          53.85        108.15   Yes  \n",
       "3  Bank transfer (automatic)          42.30       1840.75    No  \n",
       "4           Electronic check          70.70        151.65   Yes  \n",
       "\n",
       "[5 rows x 21 columns]"
      ]
     },
     "execution_count": 3,
     "metadata": {},
     "output_type": "execute_result"
    }
   ],
   "source": [
    "#examine first 5 rows\n",
    "churn_df.head()"
   ]
  },
  {
   "cell_type": "code",
   "execution_count": 4,
   "metadata": {},
   "outputs": [
    {
     "data": {
      "text/plain": [
       "(7043, 21)"
      ]
     },
     "execution_count": 4,
     "metadata": {},
     "output_type": "execute_result"
    }
   ],
   "source": [
    "#get the dataframe shape\n",
    "churn_df.shape"
   ]
  },
  {
   "cell_type": "code",
   "execution_count": 5,
   "metadata": {},
   "outputs": [
    {
     "data": {
      "text/plain": [
       "customerID          0.0\n",
       "gender              0.0\n",
       "SeniorCitizen       0.0\n",
       "Partner             0.0\n",
       "Dependents          0.0\n",
       "tenure              0.0\n",
       "PhoneService        0.0\n",
       "MultipleLines       0.0\n",
       "InternetService     0.0\n",
       "OnlineSecurity      0.0\n",
       "OnlineBackup        0.0\n",
       "DeviceProtection    0.0\n",
       "TechSupport         0.0\n",
       "StreamingTV         0.0\n",
       "StreamingMovies     0.0\n",
       "Contract            0.0\n",
       "PaperlessBilling    0.0\n",
       "PaymentMethod       0.0\n",
       "MonthlyCharges      0.0\n",
       "TotalCharges        0.0\n",
       "Churn               0.0\n",
       "dtype: float64"
      ]
     },
     "execution_count": 5,
     "metadata": {},
     "output_type": "execute_result"
    }
   ],
   "source": [
    "#check for missing values\n",
    "churn_df.isnull().sum()*100/churn_df.isnull().count()"
   ]
  },
  {
   "cell_type": "code",
   "execution_count": 6,
   "metadata": {},
   "outputs": [
    {
     "name": "stdout",
     "output_type": "stream",
     "text": [
      "<class 'pandas.core.frame.DataFrame'>\n",
      "RangeIndex: 7043 entries, 0 to 7042\n",
      "Data columns (total 21 columns):\n",
      "customerID          7043 non-null object\n",
      "gender              7043 non-null object\n",
      "SeniorCitizen       7043 non-null int64\n",
      "Partner             7043 non-null object\n",
      "Dependents          7043 non-null object\n",
      "tenure              7043 non-null int64\n",
      "PhoneService        7043 non-null object\n",
      "MultipleLines       7043 non-null object\n",
      "InternetService     7043 non-null object\n",
      "OnlineSecurity      7043 non-null object\n",
      "OnlineBackup        7043 non-null object\n",
      "DeviceProtection    7043 non-null object\n",
      "TechSupport         7043 non-null object\n",
      "StreamingTV         7043 non-null object\n",
      "StreamingMovies     7043 non-null object\n",
      "Contract            7043 non-null object\n",
      "PaperlessBilling    7043 non-null object\n",
      "PaymentMethod       7043 non-null object\n",
      "MonthlyCharges      7043 non-null float64\n",
      "TotalCharges        7043 non-null object\n",
      "Churn               7043 non-null object\n",
      "dtypes: float64(1), int64(2), object(18)\n",
      "memory usage: 1.1+ MB\n"
     ]
    }
   ],
   "source": [
    "#check out the types of data\n",
    "churn_df.info()"
   ]
  },
  {
   "cell_type": "markdown",
   "metadata": {},
   "source": [
    "The majority of columns are not numeric. For some reason, TotalCharges is an object variable. This needs to be fixed."
   ]
  },
  {
   "cell_type": "code",
   "execution_count": 7,
   "metadata": {},
   "outputs": [
    {
     "data": {
      "text/plain": [
       "dtype('float64')"
      ]
     },
     "execution_count": 7,
     "metadata": {},
     "output_type": "execute_result"
    }
   ],
   "source": [
    "#covnert Total Charges to numeric\n",
    "churn_df['TotalCharges']=pd.to_numeric(churn_df.TotalCharges, errors='coerce')\n",
    "#make sure it is numeric\n",
    "churn_df['TotalCharges'].dtypes"
   ]
  },
  {
   "cell_type": "markdown",
   "metadata": {},
   "source": [
    "Because I had to force the Total Charges column to be numeric, let's see if there are now any missing values in that column."
   ]
  },
  {
   "cell_type": "code",
   "execution_count": 8,
   "metadata": {},
   "outputs": [
    {
     "data": {
      "text/plain": [
       "11"
      ]
     },
     "execution_count": 8,
     "metadata": {},
     "output_type": "execute_result"
    }
   ],
   "source": [
    "#check for missing values\n",
    "churn_df['TotalCharges'].isnull().sum()"
   ]
  },
  {
   "cell_type": "markdown",
   "metadata": {},
   "source": [
    "There are now 11 missing values in the Total Charges column. This is a very small number out of 7,043 observations. Let's just remove the rows with missing values."
   ]
  },
  {
   "cell_type": "code",
   "execution_count": 9,
   "metadata": {},
   "outputs": [],
   "source": [
    "#convert and drop missing rows\n",
    "churn_df.replace([\"NaN\", 'NaT'], np.nan, inplace = True)\n",
    "churn_df = churn_df.dropna()"
   ]
  },
  {
   "cell_type": "code",
   "execution_count": 10,
   "metadata": {},
   "outputs": [
    {
     "data": {
      "text/plain": [
       "False"
      ]
     },
     "execution_count": 10,
     "metadata": {},
     "output_type": "execute_result"
    }
   ],
   "source": [
    "#check for missing values\n",
    "churn_df['TotalCharges'].isnull().any()"
   ]
  },
  {
   "cell_type": "markdown",
   "metadata": {},
   "source": [
    "The missing values in the Total Charges column have been addressed"
   ]
  },
  {
   "cell_type": "code",
   "execution_count": 11,
   "metadata": {},
   "outputs": [
    {
     "data": {
      "text/html": [
       "<div>\n",
       "<style scoped>\n",
       "    .dataframe tbody tr th:only-of-type {\n",
       "        vertical-align: middle;\n",
       "    }\n",
       "\n",
       "    .dataframe tbody tr th {\n",
       "        vertical-align: top;\n",
       "    }\n",
       "\n",
       "    .dataframe thead th {\n",
       "        text-align: right;\n",
       "    }\n",
       "</style>\n",
       "<table border=\"1\" class=\"dataframe\">\n",
       "  <thead>\n",
       "    <tr style=\"text-align: right;\">\n",
       "      <th></th>\n",
       "      <th>SeniorCitizen</th>\n",
       "      <th>tenure</th>\n",
       "      <th>MonthlyCharges</th>\n",
       "      <th>TotalCharges</th>\n",
       "    </tr>\n",
       "  </thead>\n",
       "  <tbody>\n",
       "    <tr>\n",
       "      <td>count</td>\n",
       "      <td>7032.000000</td>\n",
       "      <td>7032.000000</td>\n",
       "      <td>7032.000000</td>\n",
       "      <td>7032.000000</td>\n",
       "    </tr>\n",
       "    <tr>\n",
       "      <td>mean</td>\n",
       "      <td>0.162400</td>\n",
       "      <td>32.421786</td>\n",
       "      <td>64.798208</td>\n",
       "      <td>2283.300441</td>\n",
       "    </tr>\n",
       "    <tr>\n",
       "      <td>std</td>\n",
       "      <td>0.368844</td>\n",
       "      <td>24.545260</td>\n",
       "      <td>30.085974</td>\n",
       "      <td>2266.771362</td>\n",
       "    </tr>\n",
       "    <tr>\n",
       "      <td>min</td>\n",
       "      <td>0.000000</td>\n",
       "      <td>1.000000</td>\n",
       "      <td>18.250000</td>\n",
       "      <td>18.800000</td>\n",
       "    </tr>\n",
       "    <tr>\n",
       "      <td>25%</td>\n",
       "      <td>0.000000</td>\n",
       "      <td>9.000000</td>\n",
       "      <td>35.587500</td>\n",
       "      <td>401.450000</td>\n",
       "    </tr>\n",
       "    <tr>\n",
       "      <td>50%</td>\n",
       "      <td>0.000000</td>\n",
       "      <td>29.000000</td>\n",
       "      <td>70.350000</td>\n",
       "      <td>1397.475000</td>\n",
       "    </tr>\n",
       "    <tr>\n",
       "      <td>75%</td>\n",
       "      <td>0.000000</td>\n",
       "      <td>55.000000</td>\n",
       "      <td>89.862500</td>\n",
       "      <td>3794.737500</td>\n",
       "    </tr>\n",
       "    <tr>\n",
       "      <td>max</td>\n",
       "      <td>1.000000</td>\n",
       "      <td>72.000000</td>\n",
       "      <td>118.750000</td>\n",
       "      <td>8684.800000</td>\n",
       "    </tr>\n",
       "  </tbody>\n",
       "</table>\n",
       "</div>"
      ],
      "text/plain": [
       "       SeniorCitizen       tenure  MonthlyCharges  TotalCharges\n",
       "count    7032.000000  7032.000000     7032.000000   7032.000000\n",
       "mean        0.162400    32.421786       64.798208   2283.300441\n",
       "std         0.368844    24.545260       30.085974   2266.771362\n",
       "min         0.000000     1.000000       18.250000     18.800000\n",
       "25%         0.000000     9.000000       35.587500    401.450000\n",
       "50%         0.000000    29.000000       70.350000   1397.475000\n",
       "75%         0.000000    55.000000       89.862500   3794.737500\n",
       "max         1.000000    72.000000      118.750000   8684.800000"
      ]
     },
     "execution_count": 11,
     "metadata": {},
     "output_type": "execute_result"
    }
   ],
   "source": [
    "#get descriptive stats for numeric columns\n",
    "churn_df.describe()"
   ]
  },
  {
   "cell_type": "code",
   "execution_count": 12,
   "metadata": {},
   "outputs": [
    {
     "name": "stdout",
     "output_type": "stream",
     "text": [
      "Index(['SeniorCitizen', 'tenure', 'MonthlyCharges', 'TotalCharges'], dtype='object')\n"
     ]
    }
   ],
   "source": [
    "#create list of the numeric columns\n",
    "numeric_columns = churn_df.select_dtypes(['int64', 'float64']).columns\n",
    "print(numeric_columns)"
   ]
  },
  {
   "cell_type": "code",
   "execution_count": 13,
   "metadata": {},
   "outputs": [
    {
     "name": "stdout",
     "output_type": "stream",
     "text": [
      "Index(['gender', 'Partner', 'Dependents', 'PhoneService', 'MultipleLines',\n",
      "       'InternetService', 'OnlineSecurity', 'OnlineBackup', 'DeviceProtection',\n",
      "       'TechSupport', 'StreamingTV', 'StreamingMovies', 'Contract',\n",
      "       'PaperlessBilling', 'PaymentMethod'],\n",
      "      dtype='object')\n"
     ]
    }
   ],
   "source": [
    "#create list of non-numeric columns\n",
    "non_numeric_columns = churn_df.select_dtypes(['object']).columns\n",
    "#remove customerID and Churn\n",
    "non_numeric_columns = non_numeric_columns.drop('customerID')\n",
    "non_numeric_columns = non_numeric_columns.drop('Churn')\n",
    "print(non_numeric_columns)"
   ]
  },
  {
   "cell_type": "code",
   "execution_count": 14,
   "metadata": {},
   "outputs": [
    {
     "name": "stdout",
     "output_type": "stream",
     "text": [
      "The number of outliers for SeniorCitizen is: 1142. This is 57.47357825868143 percent of the column.\n",
      "The number of outliers for tenure is: 0. This is 0.0 percent of the column.\n",
      "The number of outliers for MonthlyCharges is: 0. This is 0.0 percent of the column.\n",
      "The number of outliers for TotalCharges is: 0. This is 0.0 percent of the column.\n"
     ]
    }
   ],
   "source": [
    "#get ouliers for numeric columns\n",
    "for col in numeric_columns:\n",
    "    q75, q25 = np.percentile(churn_df[col], [75 ,25])\n",
    "    iqr = q75 - q25\n",
    "\n",
    "\n",
    "    min_val = q25 - (iqr*1.5)\n",
    "    max_val = q75 + (iqr*1.5)\n",
    "\n",
    "    print(\"The number of outliers for {} is: {}. This is {} percent of the column.\".format(col, len((np.where((churn_df[col] > max_val) \n",
    "                      | (churn_df[col] < min_val))[0])), len((np.where((churn_df[col] > max_val) | \n",
    "                                                    (churn_df[col] < min_val))[0]))*100/1987))"
   ]
  },
  {
   "cell_type": "markdown",
   "metadata": {},
   "source": [
    "Luckily, only SeniorCitizen has outliers, but this is a binary variable, so these outliers are not meaningful and do not need to be addressed. We can move on without having to address any outlier issues."
   ]
  },
  {
   "cell_type": "markdown",
   "metadata": {},
   "source": [
    "Let's visually explore how the categorical variables relate to the target variable churn. First, it is necessary to convert the categorical variable Churn to a numeric one. "
   ]
  },
  {
   "cell_type": "code",
   "execution_count": 15,
   "metadata": {},
   "outputs": [],
   "source": [
    "# convert churn to numeric variable:\n",
    "target_map = {'Yes':1, 'No':0}\n",
    "churn_df[\"churn_numeric\"] = churn_df[\"Churn\"].apply(lambda x: target_map[x])"
   ]
  },
  {
   "cell_type": "code",
   "execution_count": 16,
   "metadata": {},
   "outputs": [
    {
     "data": {
      "text/plain": [
       "0    5163\n",
       "1    1869\n",
       "Name: churn_numeric, dtype: int64"
      ]
     },
     "execution_count": 16,
     "metadata": {},
     "output_type": "execute_result"
    }
   ],
   "source": [
    "#see how churn is distributed\n",
    "churn_df['churn_numeric'].value_counts()"
   ]
  },
  {
   "cell_type": "code",
   "execution_count": 17,
   "metadata": {},
   "outputs": [
    {
     "data": {
      "text/plain": [
       "Text(0, 0.5, 'Number of Customers')"
      ]
     },
     "execution_count": 17,
     "metadata": {},
     "output_type": "execute_result"
    },
    {
     "data": {
      "image/png": "[encoded data removed]",
      "text/plain": [
       "<Figure size 432x288 with 1 Axes>"
      ]
     },
     "metadata": {
      "needs_background": "light"
     },
     "output_type": "display_data"
    }
   ],
   "source": [
    "#plot value counts\n",
    "churn_df['Churn'].value_counts().plot(kind='bar')\n",
    "plt.title('Customer Churn')\n",
    "plt.ylabel('Number of Customers')\n"
   ]
  },
  {
   "cell_type": "code",
   "execution_count": 18,
   "metadata": {},
   "outputs": [
    {
     "data": {
      "image/png": "[encoded data removed]",
      "text/plain": [
       "<Figure size 2160x3600 with 15 Axes>"
      ]
     },
     "metadata": {
      "needs_background": "light"
     },
     "output_type": "display_data"
    }
   ],
   "source": [
    "#plot categorical variables against churn\n",
    "plt.figure(figsize=(30,50))\n",
    "\n",
    "for index, column in enumerate(non_numeric_columns):\n",
    "    plt.subplot(11,4,index+1)\n",
    "    plt.bar(churn_df.groupby(column)[\"churn_numeric\"].mean().index, churn_df.groupby(column)[\"churn_numeric\"].mean(),\n",
    "           color=(\"grey\",\"blue\"))\n",
    "    plt.title(\"Churn . {}\".format(column))\n",
    "    plt.ylabel(\"Churn\")\n",
    "    plt.xlabel(column)\n",
    "    plt.xticks(rotation='vertical')\n",
    "\n",
    "plt.tight_layout()\n",
    "plt.show()"
   ]
  },
  {
   "cell_type": "markdown",
   "metadata": {},
   "source": [
    "Gender and MultipleLines do not appear to vary along the target variable. I will drop these columns and create dummy variables for the remaining categorical variables."
   ]
  },
  {
   "cell_type": "code",
   "execution_count": 19,
   "metadata": {},
   "outputs": [],
   "source": [
    "#drop gender and multiplelines\n",
    "churn_df = churn_df.drop(['gender', 'MultipleLines'], axis=1)"
   ]
  },
  {
   "cell_type": "markdown",
   "metadata": {},
   "source": [
    "In order to work with the categorical variables, I have to create dummy variables for each. "
   ]
  },
  {
   "cell_type": "code",
   "execution_count": 20,
   "metadata": {},
   "outputs": [],
   "source": [
    "#one-hot encoding\n",
    "\n",
    "churn_df = pd.concat([churn_df,pd.get_dummies(churn_df.Partner, prefix=\"Partner\", drop_first=True)], axis=1)\n",
    "churn_df = pd.concat([churn_df,pd.get_dummies(churn_df.Dependents, prefix=\"Dependents\", drop_first=True)], axis=1)\n",
    "churn_df = pd.concat([churn_df,pd.get_dummies(churn_df.PhoneService, prefix=\"PhoneService\", drop_first=True)], axis=1)\n",
    "churn_df = pd.concat([churn_df,pd.get_dummies(churn_df.InternetService, prefix=\"InternetService\", drop_first=True)], axis=1)\n",
    "churn_df = pd.concat([churn_df,pd.get_dummies(churn_df.OnlineSecurity, prefix=\"OnlineSecurity\", drop_first=True)], axis=1)\n",
    "churn_df = pd.concat([churn_df,pd.get_dummies(churn_df.OnlineBackup, prefix=\"OnlineBackup\", drop_first=True)], axis=1)\n",
    "churn_df = pd.concat([churn_df,pd.get_dummies(churn_df.DeviceProtection, prefix=\"DeviceProtection\", drop_first=True)], axis=1)\n",
    "churn_df = pd.concat([churn_df,pd.get_dummies(churn_df.TechSupport, prefix=\"TechSupport\", drop_first=True)], axis=1)\n",
    "churn_df = pd.concat([churn_df,pd.get_dummies(churn_df.StreamingTV, prefix=\"StreamingTV\", drop_first=True)], axis=1)\n",
    "churn_df = pd.concat([churn_df,pd.get_dummies(churn_df.StreamingMovies, prefix=\"StreamingMovies\", drop_first=True)], axis=1)\n",
    "churn_df = pd.concat([churn_df,pd.get_dummies(churn_df.Contract, prefix=\"Contract\", drop_first=True)], axis=1)\n",
    "churn_df = pd.concat([churn_df,pd.get_dummies(churn_df.PaperlessBilling, prefix=\"PaperlessBilling\", drop_first=True)], axis=1)\n",
    "churn_df = pd.concat([churn_df,pd.get_dummies(churn_df.PaymentMethod, prefix=\"PaymentMethod\", drop_first=True)], axis=1)\n",
    "dummy_column_names = list(pd.get_dummies(churn_df.Partner, prefix=\"Partner\", drop_first=True).columns)\n",
    "dummy_column_names = dummy_column_names + list(pd.get_dummies(churn_df.Dependents, prefix=\"Dependents\", drop_first=True).columns)\n",
    "dummy_column_names = dummy_column_names + list(pd.get_dummies(churn_df.PhoneService, prefix=\"PhoneService\", drop_first=True).columns)\n",
    "dummy_column_names = dummy_column_names + list(pd.get_dummies(churn_df.InternetService, prefix=\"InternetService\", drop_first=True).columns)\n",
    "dummy_column_names = dummy_column_names + list(pd.get_dummies(churn_df.OnlineSecurity, prefix=\"OnlineSecurity\", drop_first=True).columns)\n",
    "dummy_column_names = dummy_column_names + list(pd.get_dummies(churn_df.OnlineBackup, prefix=\"OnlineBackup\", drop_first=True).columns)\n",
    "dummy_column_names = dummy_column_names + list(pd.get_dummies(churn_df.DeviceProtection, prefix=\"DeviceProtection\", drop_first=True).columns)\n",
    "dummy_column_names = dummy_column_names + list(pd.get_dummies(churn_df.TechSupport, prefix=\"TechSupport\", drop_first=True).columns)\n",
    "dummy_column_names = dummy_column_names + list(pd.get_dummies(churn_df.StreamingTV, prefix=\"StreamingTV\", drop_first=True).columns)\n",
    "dummy_column_names = dummy_column_names + list(pd.get_dummies(churn_df.StreamingMovies, prefix=\"StreamingMovies\", drop_first=True).columns)\n",
    "dummy_column_names = dummy_column_names + list(pd.get_dummies(churn_df.Contract, prefix=\"Contract\", drop_first=True).columns)\n",
    "dummy_column_names = dummy_column_names + list(pd.get_dummies(churn_df.PaperlessBilling, prefix=\"PaperlessBilling\", drop_first=True).columns)\n",
    "dummy_column_names = dummy_column_names + list(pd.get_dummies(churn_df.PaymentMethod, prefix=\"PaymentMethod\", drop_first=True).columns)\n"
   ]
  },
  {
   "cell_type": "markdown",
   "metadata": {},
   "source": [
    "Let's see how the target variable relates to the numeric variables using a correlation matrix"
   ]
  },
  {
   "cell_type": "code",
   "execution_count": 21,
   "metadata": {},
   "outputs": [
    {
     "data": {
      "text/html": [
       "<div>\n",
       "<style scoped>\n",
       "    .dataframe tbody tr th:only-of-type {\n",
       "        vertical-align: middle;\n",
       "    }\n",
       "\n",
       "    .dataframe tbody tr th {\n",
       "        vertical-align: top;\n",
       "    }\n",
       "\n",
       "    .dataframe thead th {\n",
       "        text-align: right;\n",
       "    }\n",
       "</style>\n",
       "<table border=\"1\" class=\"dataframe\">\n",
       "  <thead>\n",
       "    <tr style=\"text-align: right;\">\n",
       "      <th></th>\n",
       "      <th>SeniorCitizen</th>\n",
       "      <th>tenure</th>\n",
       "      <th>MonthlyCharges</th>\n",
       "      <th>TotalCharges</th>\n",
       "    </tr>\n",
       "  </thead>\n",
       "  <tbody>\n",
       "    <tr>\n",
       "      <td>SeniorCitizen</td>\n",
       "      <td>1.000000</td>\n",
       "      <td>0.015683</td>\n",
       "      <td>0.219874</td>\n",
       "      <td>0.102411</td>\n",
       "    </tr>\n",
       "    <tr>\n",
       "      <td>tenure</td>\n",
       "      <td>0.015683</td>\n",
       "      <td>1.000000</td>\n",
       "      <td>0.246862</td>\n",
       "      <td>0.825880</td>\n",
       "    </tr>\n",
       "    <tr>\n",
       "      <td>MonthlyCharges</td>\n",
       "      <td>0.219874</td>\n",
       "      <td>0.246862</td>\n",
       "      <td>1.000000</td>\n",
       "      <td>0.651065</td>\n",
       "    </tr>\n",
       "    <tr>\n",
       "      <td>TotalCharges</td>\n",
       "      <td>0.102411</td>\n",
       "      <td>0.825880</td>\n",
       "      <td>0.651065</td>\n",
       "      <td>1.000000</td>\n",
       "    </tr>\n",
       "  </tbody>\n",
       "</table>\n",
       "</div>"
      ],
      "text/plain": [
       "                SeniorCitizen    tenure  MonthlyCharges  TotalCharges\n",
       "SeniorCitizen        1.000000  0.015683        0.219874      0.102411\n",
       "tenure               0.015683  1.000000        0.246862      0.825880\n",
       "MonthlyCharges       0.219874  0.246862        1.000000      0.651065\n",
       "TotalCharges         0.102411  0.825880        0.651065      1.000000"
      ]
     },
     "execution_count": 21,
     "metadata": {},
     "output_type": "execute_result"
    }
   ],
   "source": [
    "churn_df[numeric_columns].corr()"
   ]
  },
  {
   "cell_type": "markdown",
   "metadata": {},
   "source": [
    "All the numeric variables are at least somewhat correlated with the target variable Churn. We will keep them all for now."
   ]
  },
  {
   "cell_type": "markdown",
   "metadata": {},
   "source": [
    "Unfortunately, the dataset is imbalanced. To address this, I will resample the data by under-sampling the majority class (randomly). This will unfortunately lead to a loss of some data but it is necessary to have a balanced dataset.\n"
   ]
  },
  {
   "cell_type": "code",
   "execution_count": 22,
   "metadata": {},
   "outputs": [
    {
     "data": {
      "text/plain": [
       "0    2200\n",
       "1    1869\n",
       "Name: churn_numeric, dtype: int64"
      ]
     },
     "execution_count": 22,
     "metadata": {},
     "output_type": "execute_result"
    }
   ],
   "source": [
    "# Separate majority and minority classes\n",
    "df_majority = churn_df[churn_df.churn_numeric==0]\n",
    "df_minority = churn_df[churn_df.churn_numeric==1]\n",
    " \n",
    "# Downsample majority class to a similar size as majority class\n",
    "df_majority_downsampled = resample(df_majority, \n",
    "                                 replace=False,    \n",
    "                                 n_samples=2200,    \n",
    "                                 random_state=123)  \n",
    " \n",
    "# Combine minority class with downsampled majority class\n",
    "df_downsampled = pd.concat([df_majority_downsampled, df_minority])\n",
    " \n",
    "# Display new class counts\n",
    "df_downsampled.churn_numeric.value_counts()"
   ]
  },
  {
   "cell_type": "code",
   "execution_count": 23,
   "metadata": {},
   "outputs": [
    {
     "data": {
      "text/plain": [
       "Text(0, 0.5, 'Number of Customers')"
      ]
     },
     "execution_count": 23,
     "metadata": {},
     "output_type": "execute_result"
    },
    {
     "data": {
      "image/png": "[encoded data removed]",
      "text/plain": [
       "<Figure size 432x288 with 1 Axes>"
      ]
     },
     "metadata": {
      "needs_background": "light"
     },
     "output_type": "display_data"
    }
   ],
   "source": [
    "#plot new value counts\n",
    "df_downsampled['churn_numeric'].value_counts().plot(kind='bar')\n",
    "plt.title('Customer Churn')\n",
    "plt.ylabel('Number of Customers')"
   ]
  },
  {
   "cell_type": "code",
   "execution_count": 24,
   "metadata": {},
   "outputs": [],
   "source": [
    "#create X and Y\n",
    "Y = df_downsampled['churn_numeric']\n",
    "X = df_downsampled[['SeniorCitizen', 'tenure', 'MonthlyCharges', 'TotalCharges'] + dummy_column_names]\n",
    "\n",
    "\n",
    "#create training and test sets\n",
    "X_train, X_test, y_train, y_test = train_test_split(X, Y, test_size = 0.2, random_state = 465)"
   ]
  },
  {
   "cell_type": "markdown",
   "metadata": {},
   "source": [
    "Now that the exploratory data analysis is complete and the test and training sets have been created, I will move onto using SelectKBest with 6 different models to compare which model performs best. Then, I will use PCA to compare how it performs against SelectKBest."
   ]
  },
  {
   "cell_type": "markdown",
   "metadata": {},
   "source": [
    "# SelectKBest"
   ]
  },
  {
   "cell_type": "code",
   "execution_count": 25,
   "metadata": {
    "scrolled": true
   },
   "outputs": [
    {
     "name": "stdout",
     "output_type": "stream",
     "text": [
      "                            Feature Name       Score\n",
      "1                                 tenure  830.489943\n",
      "22                     Contract_Two year  659.686531\n",
      "7            InternetService_Fiber optic  497.952324\n",
      "25        PaymentMethod_Electronic check  460.505423\n",
      "8                     InternetService_No  314.728966\n",
      "9     OnlineSecurity_No internet service  314.728966\n",
      "11      OnlineBackup_No internet service  314.728966\n",
      "13  DeviceProtection_No internet service  314.728966\n",
      "15       TechSupport_No internet service  314.728966\n",
      "17       StreamingTV_No internet service  314.728966\n",
      "19   StreamingMovies_No internet service  314.728966\n",
      "3                           TotalCharges  256.194632\n",
      "23                  PaperlessBilling_Yes  206.958365\n"
     ]
    }
   ],
   "source": [
    "#selectKbest to choose 13 most important features (80% of features)\n",
    "best_features = SelectKBest(score_func=f_classif, k=13)\n",
    "fit = best_features.fit(X,Y)\n",
    "df_scores = pd.DataFrame(fit.scores_)\n",
    "df_columns = pd.DataFrame(X.columns)\n",
    "\n",
    "\n",
    "# concatenate \n",
    "feature_scores = pd.concat([df_columns, df_scores],axis=1)\n",
    "feature_scores.columns = ['Feature Name','Score'] \n",
    "print(feature_scores.nlargest(13,'Score')) \n"
   ]
  },
  {
   "cell_type": "code",
   "execution_count": 26,
   "metadata": {},
   "outputs": [],
   "source": [
    "#update X\n",
    "X = df_downsampled[[ 'tenure',  'TotalCharges', 'InternetService_Fiber optic', 'Contract_Two year', 'PaymentMethod_Electronic check', 'InternetService_No',\n",
    " 'OnlineSecurity_No internet service', 'OnlineBackup_No internet service', 'DeviceProtection_No internet service', 'TechSupport_No internet service', 'StreamingTV_No internet service',\n",
    "'StreamingMovies_No internet service', 'PaperlessBilling_Yes' ]]\n"
   ]
  },
  {
   "cell_type": "markdown",
   "metadata": {},
   "source": [
    "### Logistic Regression with selectKbest"
   ]
  },
  {
   "cell_type": "code",
   "execution_count": 27,
   "metadata": {},
   "outputs": [],
   "source": [
    "#fit and train a logistic regression\n",
    "import warnings\n",
    "warnings.filterwarnings('ignore')\n",
    "lrm = LogisticRegression()\n",
    "grid_values = {'penalty': ['l1', 'l2'],'C':[0.001,.009,0.01,.09,1,5,10,25]}\n",
    "grid_lrm_acc = GridSearchCV(lrm, param_grid = grid_values,scoring = 'recall')\n",
    "grid_lrm_acc.fit(X_train, y_train)\n",
    "\n",
    "#Predict values based on new parameters\n",
    "y_pred = grid_lrm_acc.predict(X_test)"
   ]
  },
  {
   "cell_type": "code",
   "execution_count": 28,
   "metadata": {},
   "outputs": [
    {
     "name": "stdout",
     "output_type": "stream",
     "text": [
      "Accuracy Score : 0.7530712530712531\n",
      "Precision Score : 0.7115384615384616\n",
      "Recall Score : 0.7851458885941645\n",
      "F1 Score : 0.7465321563682219\n",
      "               precision    recall  f1-score   support\n",
      "\n",
      "Did Not Churn       0.80      0.73      0.76       437\n",
      "    Did Churn       0.71      0.79      0.75       377\n",
      "\n",
      "     accuracy                           0.75       814\n",
      "    macro avg       0.75      0.76      0.75       814\n",
      " weighted avg       0.76      0.75      0.75       814\n",
      "\n",
      "Mean cross validation score: 0.767\n",
      "Confusion Matrix : \n",
      "[[317 120]\n",
      " [ 81 296]]\n"
     ]
    }
   ],
   "source": [
    "print('Accuracy Score : ' + str(accuracy_score(y_test,y_pred)))\n",
    "print('Precision Score : ' + str(precision_score(y_test,y_pred)))\n",
    "print('Recall Score : ' + str(recall_score(y_test,y_pred)))\n",
    "print('F1 Score : ' + str(f1_score(y_test,y_pred)))\n",
    "report = classification_report(y_test, y_pred, target_names=['Did Not Churn', 'Did Churn'])\n",
    "print(report)\n",
    "cv_scores = cross_val_score(grid_lrm_acc, X_train, y_train, cv = 5)\n",
    "\n",
    "print('Mean cross validation score: {:.3f}'.format(np.mean(cv_scores)))\n",
    "#Confusion matrix\n",
    "\n",
    "print('Confusion Matrix : \\n' + str(confusion_matrix(y_test,y_pred)))"
   ]
  },
  {
   "cell_type": "markdown",
   "metadata": {},
   "source": [
    "The above metrics indicate that the selectKbest logistic regression model was 75.3% accurate. It correctly predicted 80% of the customers who did not churn, and it correctly predicted 71% of the customers who did churn. The confusion matrix tells me that there were 317 true positives and 296 true negatives, but there were 80 false negatives and 120 false positives. Overall, this model was satisfactory but can be improved."
   ]
  },
  {
   "cell_type": "markdown",
   "metadata": {},
   "source": [
    " param_grid = {'C': [0.001, 0.01, 0.1, 1, 10, 100, 1000] }\n",
    ">>> clf = GridSearchCV(LogisticRegression(penalty='l2'), param_grid)\n",
    ">>> clf\n",
    "GridSearchCV(cv=None,\n",
    "       estimator=LogisticRegression(C=1.0, intercept_scaling=1, dual=False, fit_intercept=True,\n",
    "          penalty='l2', tol=0.0001),\n",
    "       fit_params={}, iid=True, loss_func=None, n_jobs=1,\n",
    "       param_grid={'C': [0.001, 0.01, 0.1, 1, 10, 100, 1000]},\n",
    "       pre_dispatch='2*n_jobs', refit=True, score_func=None, verbose=0)\n",
    ">>> clf = clf.fit(gt_features, labels)"
   ]
  },
  {
   "cell_type": "markdown",
   "metadata": {},
   "source": [
    "### KNN with selectKbest"
   ]
  },
  {
   "cell_type": "code",
   "execution_count": 29,
   "metadata": {},
   "outputs": [],
   "source": [
    "#KNN\n",
    "\n",
    "knn = KNeighborsClassifier()\n",
    "#dictionary with values I want to test for n_neighbors\n",
    "param_grid = {'n_neighbors': np.arange(1, 25)}\n",
    "#use gridsearch to test all values for n_neighbors\n",
    "knn_gscv = GridSearchCV(knn, param_grid, cv=5)\n",
    "#fit model\n",
    "knn_gscv.fit(X_train, y_train)\n",
    "\n",
    "#Predict values \n",
    "y_pred = knn_gscv.predict(X_test)"
   ]
  },
  {
   "cell_type": "code",
   "execution_count": 30,
   "metadata": {},
   "outputs": [
    {
     "name": "stdout",
     "output_type": "stream",
     "text": [
      "Accuracy Score : 0.7199017199017199\n",
      "Precision Score : 0.7008086253369272\n",
      "Recall Score : 0.6896551724137931\n",
      "F1 Score : 0.6951871657754011\n",
      "               precision    recall  f1-score   support\n",
      "\n",
      "Did Not Churn       0.74      0.75      0.74       437\n",
      "    Did Churn       0.70      0.69      0.70       377\n",
      "\n",
      "     accuracy                           0.72       814\n",
      "    macro avg       0.72      0.72      0.72       814\n",
      " weighted avg       0.72      0.72      0.72       814\n",
      "\n",
      "Mean cross validation score: 0.712\n",
      "Confusion Matrix : \n",
      "[[326 111]\n",
      " [117 260]]\n"
     ]
    }
   ],
   "source": [
    "#see how the model performed\n",
    "print('Accuracy Score : ' + str(accuracy_score(y_test,y_pred)))\n",
    "print('Precision Score : ' + str(precision_score(y_test,y_pred)))\n",
    "print('Recall Score : ' + str(recall_score(y_test,y_pred)))\n",
    "print('F1 Score : ' + str(f1_score(y_test,y_pred)))\n",
    "report = classification_report(y_test, y_pred, target_names=['Did Not Churn', 'Did Churn'])\n",
    "print(report)\n",
    "\n",
    "cv_scores = cross_val_score(knn_gscv, X_train, y_train, cv = 5)\n",
    "\n",
    "print('Mean cross validation score: {:.3f}'.format(np.mean(cv_scores)))\n",
    "#Confusion matrix\n",
    "print('Confusion Matrix : \\n' + str(confusion_matrix(y_test,y_pred)))"
   ]
  },
  {
   "cell_type": "markdown",
   "metadata": {},
   "source": [
    "The KNN model using selectKbest was 71.9% accurate. Its precision for the customers who did not churn was 74% while its precision for customers did churn was a little lower at 70%. The average cross validation score was .712, which is not great. The confusion matrix indicates that there were 326 true positives and 260 true negatives, but there were 117 false negatives and 111 false positives. Overall, this model is also just satisfactory and there is room for improvement."
   ]
  },
  {
   "cell_type": "markdown",
   "metadata": {},
   "source": [
    "### Decision Tree with selectKbest"
   ]
  },
  {
   "cell_type": "code",
   "execution_count": 31,
   "metadata": {},
   "outputs": [],
   "source": [
    "#fit the tree using the best parameters (determined by gridsearch)\n",
    "tree_para = {'criterion':['gini','entropy'],'max_depth':[4,5,6,7,8,9,10,11,12,15,20,30,40,50,70,90,120,150]}\n",
    "clf = GridSearchCV(DecisionTreeClassifier(), tree_para, cv=5)\n",
    "clf.fit(X_train, y_train)\n",
    "#Predict values \n",
    "y_pred = clf.predict(X_test)"
   ]
  },
  {
   "cell_type": "code",
   "execution_count": 32,
   "metadata": {},
   "outputs": [
    {
     "name": "stdout",
     "output_type": "stream",
     "text": [
      "Accuracy Score : 0.7542997542997543\n",
      "Precision Score : 0.697986577181208\n",
      "Recall Score : 0.8275862068965517\n",
      "F1 Score : 0.7572815533980581\n",
      "               precision    recall  f1-score   support\n",
      "\n",
      "Did Not Churn       0.82      0.69      0.75       437\n",
      "    Did Churn       0.70      0.83      0.76       377\n",
      "\n",
      "     accuracy                           0.75       814\n",
      "    macro avg       0.76      0.76      0.75       814\n",
      " weighted avg       0.77      0.75      0.75       814\n",
      "\n",
      "Mean cross validation score: 0.747\n",
      "Confusion Matrix : \n",
      "[[302 135]\n",
      " [ 65 312]]\n"
     ]
    }
   ],
   "source": [
    "#see how the model performed\n",
    "print('Accuracy Score : ' + str(accuracy_score(y_test,y_pred)))\n",
    "print('Precision Score : ' + str(precision_score(y_test,y_pred)))\n",
    "print('Recall Score : ' + str(recall_score(y_test,y_pred)))\n",
    "print('F1 Score : ' + str(f1_score(y_test,y_pred)))\n",
    "report = classification_report(y_test, y_pred, target_names=['Did Not Churn', 'Did Churn'])\n",
    "print(report)\n",
    "cv_scores = cross_val_score(clf, X_train, y_train, cv = 5)\n",
    "\n",
    "print('Mean cross validation score: {:.3f}'.format(np.mean(cv_scores)))\n",
    "#Confusion matrix\n",
    "print('Confusion Matrix : \\n' + str(confusion_matrix(y_test,y_pred)))"
   ]
  },
  {
   "cell_type": "markdown",
   "metadata": {},
   "source": [
    "The decision tree with selectKbest was slightly more accurate than the first two models at 75.4%. This model had an 82% precision rate for the customers who did not churn and a 70% precision rate for customers who did churn. The average cross validation score was .747, which could be better. There were 302 true positives, 312 true negatives, 65 false negatives, and 135 false negatives. An accuracy of 75.4% is fine, but there is still room for improvement."
   ]
  },
  {
   "cell_type": "markdown",
   "metadata": {},
   "source": [
    "### Random Forest with selectKbest"
   ]
  },
  {
   "cell_type": "code",
   "execution_count": 33,
   "metadata": {},
   "outputs": [],
   "source": [
    "#fit the RF using the parameters chosen by gridsearch\n",
    "tree_para = {'criterion':['gini','entropy'],'max_depth':[4,5,6,7,8,9,10,11,12,15,20,30,40,50,70,90,120,150]}\n",
    "clf = GridSearchCV(RandomForestClassifier(), tree_para, cv=5)\n",
    "clf.fit(X_train, y_train)\n",
    "#Predict values \n",
    "y_pred = clf.predict(X_test)\n"
   ]
  },
  {
   "cell_type": "code",
   "execution_count": 34,
   "metadata": {},
   "outputs": [
    {
     "name": "stdout",
     "output_type": "stream",
     "text": [
      "Accuracy Score : 0.7481572481572482\n",
      "Precision Score : 0.7057416267942583\n",
      "Recall Score : 0.7824933687002652\n",
      "F1 Score : 0.7421383647798743\n",
      "               precision    recall  f1-score   support\n",
      "\n",
      "Did Not Churn       0.79      0.72      0.75       437\n",
      "    Did Churn       0.71      0.78      0.74       377\n",
      "\n",
      "     accuracy                           0.75       814\n",
      "    macro avg       0.75      0.75      0.75       814\n",
      " weighted avg       0.75      0.75      0.75       814\n",
      "\n",
      "Mean cross validation score: 0.758\n",
      "Confusion Matrix : \n",
      "[[314 123]\n",
      " [ 82 295]]\n"
     ]
    }
   ],
   "source": [
    "#see how the model performed\n",
    "print('Accuracy Score : ' + str(accuracy_score(y_test,y_pred)))\n",
    "print('Precision Score : ' + str(precision_score(y_test,y_pred)))\n",
    "print('Recall Score : ' + str(recall_score(y_test,y_pred)))\n",
    "print('F1 Score : ' + str(f1_score(y_test,y_pred)))\n",
    "report = classification_report(y_test, y_pred, target_names=['Did Not Churn', 'Did Churn'])\n",
    "print(report)\n",
    "\n",
    "cv_scores = cross_val_score(clf, X_train, y_train, cv = 5)\n",
    "\n",
    "print('Mean cross validation score: {:.3f}'.format(np.mean(cv_scores)))\n",
    "#Confusion matrix\n",
    "print('Confusion Matrix : \\n' + str(confusion_matrix(y_test,y_pred)))"
   ]
  },
  {
   "cell_type": "markdown",
   "metadata": {},
   "source": [
    "The random forest with selectKbest had an accuracy rate of 74.8%. Its precision scores for the did not churn and did churn categories, which were 79% and 71%, respectively. The mean cross validation score for the random forest model was .758, which is satisfactory but needs to be improved."
   ]
  },
  {
   "cell_type": "markdown",
   "metadata": {},
   "source": [
    "### Support Vector Classifier with selectKbest"
   ]
  },
  {
   "cell_type": "code",
   "execution_count": 35,
   "metadata": {},
   "outputs": [],
   "source": [
    "# define parameter range \n",
    "param_grid = {'C': [0.001, 0.1, 1, 5,  10, 50, 100, 1000],  \n",
    "              'gamma': [1, 0.1, 0.01, 0.001, 0.0001], \n",
    "              'kernel': ['rbf']}  \n",
    "#grid search with svc model  \n",
    "grid_svc = GridSearchCV(SVC(), param_grid, refit = True, verbose = False) \n",
    "  \n",
    "# fit the model for grid search \n",
    "grid_svc.fit(X_train, y_train)\n",
    "#Predict values \n",
    "y_pred = grid_svc.predict(X_test)"
   ]
  },
  {
   "cell_type": "code",
   "execution_count": 36,
   "metadata": {},
   "outputs": [
    {
     "name": "stdout",
     "output_type": "stream",
     "text": [
      "Accuracy Score : 0.7334152334152334\n",
      "Precision Score : 0.7061855670103093\n",
      "Recall Score : 0.726790450928382\n",
      "F1 Score : 0.7163398692810458\n",
      "               precision    recall  f1-score   support\n",
      "\n",
      "Did Not Churn       0.76      0.74      0.75       437\n",
      "    Did Churn       0.71      0.73      0.72       377\n",
      "\n",
      "     accuracy                           0.73       814\n",
      "    macro avg       0.73      0.73      0.73       814\n",
      " weighted avg       0.73      0.73      0.73       814\n",
      "\n",
      "Mean cross validation score: 0.720\n",
      "Confusion Matrix : \n",
      "[[323 114]\n",
      " [103 274]]\n"
     ]
    }
   ],
   "source": [
    "#see how the model performed\n",
    "print('Accuracy Score : ' + str(accuracy_score(y_test,y_pred)))\n",
    "print('Precision Score : ' + str(precision_score(y_test,y_pred)))\n",
    "print('Recall Score : ' + str(recall_score(y_test,y_pred)))\n",
    "print('F1 Score : ' + str(f1_score(y_test,y_pred)))\n",
    "report = classification_report(y_test, y_pred, target_names=['Did Not Churn', 'Did Churn'])\n",
    "print(report)\n",
    "\n",
    "cv_scores = cross_val_score(grid_svc, X_train, y_train, cv = 5)\n",
    "\n",
    "print('Mean cross validation score: {:.3f}'.format(np.mean(cv_scores)))\n",
    "#Confusion matrix\n",
    "print('Confusion Matrix : \\n' + str(confusion_matrix(y_test,y_pred)))"
   ]
  },
  {
   "cell_type": "markdown",
   "metadata": {},
   "source": [
    "The support vector model (with selectKbest) had a slightly lower accuracy score, at 73.3%. This model had a lower precision rate for the 'did not churn' category than a few other models, at only 76%. The average cross validation score was also a little lower than a few other models, at .72. The SVC model had a larger number of false negatives and false positives than several other models, with 103 false negatives and 114 false positives."
   ]
  },
  {
   "cell_type": "markdown",
   "metadata": {},
   "source": [
    "### Gradient Boosting with selectKbest"
   ]
  },
  {
   "cell_type": "code",
   "execution_count": 37,
   "metadata": {},
   "outputs": [
    {
     "data": {
      "text/plain": [
       "GridSearchCV(cv=5, error_score='raise-deprecating',\n",
       "             estimator=GradientBoostingClassifier(criterion='friedman_mse',\n",
       "                                                  init=None, learning_rate=0.1,\n",
       "                                                  loss='deviance', max_depth=3,\n",
       "                                                  max_features=None,\n",
       "                                                  max_leaf_nodes=None,\n",
       "                                                  min_impurity_decrease=0.0,\n",
       "                                                  min_impurity_split=None,\n",
       "                                                  min_samples_leaf=1,\n",
       "                                                  min_samples_split=2,\n",
       "                                                  min_weight_fraction_leaf=0.0,\n",
       "                                                  n_estimators=100,\n",
       "                                                  n_iter_no_change=None,\n",
       "                                                  presort='auto',\n",
       "                                                  random_state=None,\n",
       "                                                  subsample=1.0, tol=0.0001,\n",
       "                                                  validation_fraction=0.1,\n",
       "                                                  verbose=0, warm_start=False),\n",
       "             iid='warn', n_jobs=None,\n",
       "             param_grid={'learning_rate': [0.01, 0.1, 1, 10, 100],\n",
       "                         'max_depth': [1, 3, 5, 7, 9],\n",
       "                         'n_estimators': [5, 50, 250, 500]},\n",
       "             pre_dispatch='2*n_jobs', refit=True, return_train_score=False,\n",
       "             scoring=None, verbose=0)"
      ]
     },
     "execution_count": 37,
     "metadata": {},
     "output_type": "execute_result"
    }
   ],
   "source": [
    "gbc = GradientBoostingClassifier()\n",
    "#choose parameters to test\n",
    "parameters = {\n",
    "    \"n_estimators\":[5,50,250,500],\n",
    "    \"max_depth\":[1,3,5,7,9],\n",
    "    \"learning_rate\":[0.01,0.1,1,10,100]\n",
    "}\n",
    "#fit GB model for gridsearch\n",
    "cv = GridSearchCV(gbc,parameters,cv=5)\n",
    "cv.fit(X_train, y_train)"
   ]
  },
  {
   "cell_type": "code",
   "execution_count": 38,
   "metadata": {},
   "outputs": [
    {
     "name": "stdout",
     "output_type": "stream",
     "text": [
      "Accuracy Score : 0.7518427518427518\n",
      "Precision Score : 0.7058823529411765\n",
      "Recall Score : 0.7957559681697612\n",
      "F1 Score : 0.7481296758104738\n",
      "               precision    recall  f1-score   support\n",
      "\n",
      "Did Not Churn       0.80      0.71      0.76       437\n",
      "    Did Churn       0.71      0.80      0.75       377\n",
      "\n",
      "     accuracy                           0.75       814\n",
      "    macro avg       0.75      0.75      0.75       814\n",
      " weighted avg       0.76      0.75      0.75       814\n",
      "\n",
      "Mean cross validation score: 0.765\n",
      "Confusion Matrix : \n",
      "[[312 125]\n",
      " [ 77 300]]\n"
     ]
    }
   ],
   "source": [
    "y_pred = cv.predict(X_test)\n",
    "#see how the model performed\n",
    "print('Accuracy Score : ' + str(accuracy_score(y_test,y_pred)))\n",
    "print('Precision Score : ' + str(precision_score(y_test,y_pred)))\n",
    "print('Recall Score : ' + str(recall_score(y_test,y_pred)))\n",
    "print('F1 Score : ' + str(f1_score(y_test,y_pred)))\n",
    "report = classification_report(y_test, y_pred, target_names=['Did Not Churn', 'Did Churn'])\n",
    "print(report)\n",
    "\n",
    "cv_scores = cross_val_score(cv, X_train, y_train, cv = 5)\n",
    "\n",
    "print('Mean cross validation score: {:.3f}'.format(np.mean(cv_scores)))\n",
    "#Confusion matrix\n",
    "print('Confusion Matrix : \\n' + str(confusion_matrix(y_test,y_pred)))"
   ]
  },
  {
   "cell_type": "markdown",
   "metadata": {},
   "source": [
    "The gradient boosting model (using selectKbest) had a decent accuracy score of 75.2%. Its precision rate for the customers who did not churn was 80%, which is fine, but its precision rate for customers who did churn was only 71%. The mean cross validation score for the gradient boosting was slightly better than most models, at .765. The confusion matrix indicates that this model predicted categories better than a few other models, with 312 true positives, 300 true negatives, 125 false positives, and 77 false negatives."
   ]
  },
  {
   "cell_type": "markdown",
   "metadata": {},
   "source": [
    "# PCA  \n",
    "\n",
    "Now, I want to compare how well the same 6 models perform after using PCA (in comparison to selectKbest). First, I will apply the PCA technique to the data to determine how many components to keep (based on cumulative explained variable). Then, I will use these components in the 6 models. "
   ]
  },
  {
   "cell_type": "code",
   "execution_count": 39,
   "metadata": {},
   "outputs": [],
   "source": [
    "#standardize and transform X\n",
    "X_standard = StandardScaler().fit_transform(X)"
   ]
  },
  {
   "cell_type": "code",
   "execution_count": 40,
   "metadata": {},
   "outputs": [
    {
     "data": {
      "text/plain": [
       "Text(0, 0.5, 'Explained Variance')"
      ]
     },
     "execution_count": 40,
     "metadata": {},
     "output_type": "execute_result"
    },
    {
     "data": {
      "image/png": "[encoded data removed]",
      "text/plain": [
       "<Figure size 432x288 with 1 Axes>"
      ]
     },
     "metadata": {
      "needs_background": "light"
     },
     "output_type": "display_data"
    }
   ],
   "source": [
    "pca = PCA().fit(X_standard)\n",
    "#look at variance explained by PCA components\n",
    "plt.plot(np.cumsum(pca.explained_variance_ratio_))\n",
    "plt.title('Cumulative Explained Variance')\n",
    "plt.xlabel('Components')\n",
    "plt.ylabel('Explained Variance')"
   ]
  },
  {
   "cell_type": "code",
   "execution_count": 41,
   "metadata": {},
   "outputs": [
    {
     "name": "stdout",
     "output_type": "stream",
     "text": [
      "The percentage of total variance in the dataset explained by each component: [5.88554516e-001 1.75741745e-001 8.67057975e-002 5.88743708e-002\n",
      " 4.91112593e-002 3.53486895e-002 5.66362171e-003 8.92285612e-035\n",
      " 2.05232959e-037 1.23476740e-068 1.90503845e-070 1.42821254e-103\n",
      " 6.82262721e-107]\n"
     ]
    }
   ],
   "source": [
    "print(\n",
    "    'The percentage of total variance in the dataset explained by each component:',\n",
    "   pca.explained_variance_ratio_\n",
    ")"
   ]
  },
  {
   "cell_type": "markdown",
   "metadata": {},
   "source": [
    "The results indicate that the first 5 components explain more than 90% of the variance. I will use the first five components in PCA, train the models, test the models."
   ]
  },
  {
   "cell_type": "code",
   "execution_count": 42,
   "metadata": {},
   "outputs": [
    {
     "name": "stdout",
     "output_type": "stream",
     "text": [
      "Cumulative Explained Variance:  0.9589876887393142\n",
      "Percentage of total variance explained by each component: [0.58855452 0.17574174 0.0867058  0.05887437 0.04911126]\n"
     ]
    }
   ],
   "source": [
    "#use 5 components in PCA\n",
    "pca = PCA(n_components=5)\n",
    "X_PCA = pca.fit_transform(X_standard)\n",
    "#look at explained variance\n",
    "pca_variance = pca.explained_variance_ratio_\n",
    "print('Cumulative Explained Variance: ', pca.explained_variance_ratio_.sum())\n",
    "print('Percentage of total variance explained by each component:',\n",
    "    pca.explained_variance_ratio_\n",
    ")\n"
   ]
  },
  {
   "cell_type": "code",
   "execution_count": 43,
   "metadata": {},
   "outputs": [],
   "source": [
    "#PCA as a dataframe\n",
    "PCA_df = pd.DataFrame(X_PCA)\n",
    "#split data based on PCA\n",
    "X_train, X_test, y_train, y_test = train_test_split(PCA_df, Y, test_size = 0.2, random_state = 465)"
   ]
  },
  {
   "cell_type": "markdown",
   "metadata": {},
   "source": [
    "Now that I have the 5 best components and test/training sets, I will fit the 6 models."
   ]
  },
  {
   "cell_type": "markdown",
   "metadata": {},
   "source": [
    "### Logistic Regression with PCA "
   ]
  },
  {
   "cell_type": "code",
   "execution_count": 44,
   "metadata": {},
   "outputs": [],
   "source": [
    "#fit a logistic regression\n",
    "lrm = LogisticRegression()\n",
    "#grid search to find best parameters\n",
    "grid_values = {'penalty': ['l1', 'l2'],'C':[0.001,.009,0.01,.09,1,5,10,25]}\n",
    "grid_lrm_acc = GridSearchCV(lrm, param_grid = grid_values,scoring = 'recall')\n",
    "grid_lrm_acc.fit(X_train, y_train)\n",
    "\n",
    "#Predict values based on best parameters\n",
    "y_pred = grid_lrm_acc.predict(X_test)"
   ]
  },
  {
   "cell_type": "code",
   "execution_count": 45,
   "metadata": {},
   "outputs": [
    {
     "name": "stdout",
     "output_type": "stream",
     "text": [
      "Accuracy Score : 0.730958230958231\n",
      "Precision Score : 0.6652719665271967\n",
      "Recall Score : 0.843501326259947\n",
      "F1 Score : 0.7438596491228071\n",
      "               precision    recall  f1-score   support\n",
      "\n",
      "Did Not Churn       0.82      0.63      0.72       437\n",
      "    Did Churn       0.67      0.84      0.74       377\n",
      "\n",
      "     accuracy                           0.73       814\n",
      "    macro avg       0.74      0.74      0.73       814\n",
      " weighted avg       0.75      0.73      0.73       814\n",
      "\n",
      "Mean cross validation score: 0.815\n",
      "Confusion Matrix : \n",
      "[[277 160]\n",
      " [ 59 318]]\n"
     ]
    }
   ],
   "source": [
    "print('Accuracy Score : ' + str(accuracy_score(y_test,y_pred)))\n",
    "print('Precision Score : ' + str(precision_score(y_test,y_pred)))\n",
    "print('Recall Score : ' + str(recall_score(y_test,y_pred)))\n",
    "print('F1 Score : ' + str(f1_score(y_test,y_pred)))\n",
    "report = classification_report(y_test, y_pred, target_names=['Did Not Churn', 'Did Churn'])\n",
    "print(report)\n",
    "\n",
    "cv_scores = cross_val_score(grid_lrm_acc, X_train, y_train, cv = 5)\n",
    "print('Mean cross validation score: {:.3f}'.format(np.mean(cv_scores)))\n",
    "#Logistic Regression Classifier Confusion matrix\n",
    "\n",
    "print('Confusion Matrix : \\n' + str(confusion_matrix(y_test,y_pred)))"
   ]
  },
  {
   "cell_type": "markdown",
   "metadata": {},
   "source": [
    "The PCA logistic regression (73.1%) was slightly less accurate than the selectKbest logistic regression (75.4%). However, this model had a higher mean cross validation score (.815) in comparison to the selectKbest logistic regression (.767). Therefore, while this model might not have quite as high an accuracy score, it is more consistent across training sets."
   ]
  },
  {
   "cell_type": "markdown",
   "metadata": {},
   "source": [
    "### K-Nearest Neighbors with PCA"
   ]
  },
  {
   "cell_type": "code",
   "execution_count": 46,
   "metadata": {},
   "outputs": [],
   "source": [
    "knn = KNeighborsClassifier()\n",
    "#dictionary with all n_neighbors values to test for\n",
    "param_grid = {'n_neighbors': np.arange(1, 25)}\n",
    "#use gridsearch to test all values \n",
    "knn_gscv = GridSearchCV(knn, param_grid, cv=5)\n",
    "#fit model to data\n",
    "knn_gscv.fit(X_train, y_train)\n",
    "\n",
    "#Predict values \n",
    "y_pred = knn_gscv.predict(X_test)"
   ]
  },
  {
   "cell_type": "code",
   "execution_count": 47,
   "metadata": {},
   "outputs": [
    {
     "name": "stdout",
     "output_type": "stream",
     "text": [
      "Accuracy Score : 0.7653562653562653\n",
      "Precision Score : 0.7348484848484849\n",
      "Recall Score : 0.7718832891246684\n",
      "F1 Score : 0.7529107373868046\n",
      "               precision    recall  f1-score   support\n",
      "\n",
      "Did Not Churn       0.79      0.76      0.78       437\n",
      "    Did Churn       0.73      0.77      0.75       377\n",
      "\n",
      "     accuracy                           0.77       814\n",
      "    macro avg       0.76      0.77      0.76       814\n",
      " weighted avg       0.77      0.77      0.77       814\n",
      "\n",
      "Mean cross validation score: 0.739\n",
      "Confusion Matrix : \n",
      "[[332 105]\n",
      " [ 86 291]]\n"
     ]
    }
   ],
   "source": [
    "print('Accuracy Score : ' + str(accuracy_score(y_test,y_pred)))\n",
    "print('Precision Score : ' + str(precision_score(y_test,y_pred)))\n",
    "print('Recall Score : ' + str(recall_score(y_test,y_pred)))\n",
    "print('F1 Score : ' + str(f1_score(y_test,y_pred)))\n",
    "report = classification_report(y_test, y_pred, target_names=['Did Not Churn', 'Did Churn'])\n",
    "print(report)\n",
    "\n",
    "\n",
    "cv_scores = cross_val_score(knn_gscv, X_train, y_train, cv = 5)\n",
    "\n",
    "print('Mean cross validation score: {:.3f}'.format(np.mean(cv_scores)))\n",
    "# Confusion matrix\n",
    "print('Confusion Matrix : \\n' + str(confusion_matrix(y_test,y_pred)))"
   ]
  },
  {
   "cell_type": "markdown",
   "metadata": {},
   "source": [
    "The PCA KNN model had a decent accuracy score (76.5%) and this was better than the selectKbest KNN (72%). Its precision score for the customers who did not churn was 79%, which is a little lower than most of the other models. However, its precision score for the customers who did churn was 73%, which is higher than most other models. The cross validation score was only satisfactory at .739, which is lower than several other models."
   ]
  },
  {
   "cell_type": "markdown",
   "metadata": {},
   "source": [
    "### Decision Tree with PCA"
   ]
  },
  {
   "cell_type": "code",
   "execution_count": 48,
   "metadata": {},
   "outputs": [],
   "source": [
    "#possible parameters\n",
    "tree_para = {'criterion':['gini','entropy'],'max_depth':[4,5,6,7,8,9,10,11,12,15,20,30,40,50,70,90,120,150]}\n",
    "clf = GridSearchCV(DecisionTreeClassifier(), tree_para, cv=5)\n",
    "clf.fit(X_train, y_train)\n",
    "#Predict values \n",
    "y_pred = clf.predict(X_test)"
   ]
  },
  {
   "cell_type": "code",
   "execution_count": 49,
   "metadata": {},
   "outputs": [
    {
     "name": "stdout",
     "output_type": "stream",
     "text": [
      "Accuracy Score : 0.7432432432432432\n",
      "Precision Score : 0.6891891891891891\n",
      "Recall Score : 0.8116710875331565\n",
      "F1 Score : 0.7454323995127893\n",
      "               precision    recall  f1-score   support\n",
      "\n",
      "Did Not Churn       0.81      0.68      0.74       437\n",
      "    Did Churn       0.69      0.81      0.75       377\n",
      "\n",
      "     accuracy                           0.74       814\n",
      "    macro avg       0.75      0.75      0.74       814\n",
      " weighted avg       0.75      0.74      0.74       814\n",
      "\n",
      "Mean cross validation score: 0.744\n",
      "Confusion Matrix : \n",
      "[[299 138]\n",
      " [ 71 306]]\n"
     ]
    }
   ],
   "source": [
    "print('Accuracy Score : ' + str(accuracy_score(y_test,y_pred)))\n",
    "print('Precision Score : ' + str(precision_score(y_test,y_pred)))\n",
    "print('Recall Score : ' + str(recall_score(y_test,y_pred)))\n",
    "print('F1 Score : ' + str(f1_score(y_test,y_pred)))\n",
    "report = classification_report(y_test, y_pred, target_names=['Did Not Churn', 'Did Churn'])\n",
    "print(report)\n",
    "cv_scores = cross_val_score(clf, X_train, y_train, cv = 5)\n",
    "\n",
    "print('Mean cross validation score: {:.3f}'.format(np.mean(cv_scores)))\n",
    "#Confusion matrix\n",
    "print('Confusion Matrix : \\n' + str(confusion_matrix(y_test,y_pred)))"
   ]
  },
  {
   "cell_type": "markdown",
   "metadata": {},
   "source": [
    "The PCA decision tree had a slightly lower accuracy score, at 74.3%. The selectKbest decision tree had a higher accuracy score (75.4%). Its precision scores were close to most other models (81% and 69%). The cross validation score was just satisfactory and similar to other models (.744). The model had 299 true positives, 306 true negatives, 71 false negatives, and 138 true positives."
   ]
  },
  {
   "cell_type": "markdown",
   "metadata": {},
   "source": [
    "### Random Forest with PCA"
   ]
  },
  {
   "cell_type": "code",
   "execution_count": 50,
   "metadata": {},
   "outputs": [],
   "source": [
    "#set all the possible parameters\n",
    "tree_para = {'criterion':['gini','entropy'],'max_depth':[4,5,6,7,8,9,10,11,12,15,20,30,40,50,70,90,120,150]}\n",
    "#search for best parameters\n",
    "clf = GridSearchCV(RandomForestClassifier(), tree_para, cv=5)\n",
    "clf.fit(X_train, y_train)\n",
    "#Predict values \n",
    "y_pred = clf.predict(X_test)"
   ]
  },
  {
   "cell_type": "code",
   "execution_count": 51,
   "metadata": {},
   "outputs": [
    {
     "name": "stdout",
     "output_type": "stream",
     "text": [
      "Accuracy Score : 0.7665847665847666\n",
      "Precision Score : 0.7286063569682152\n",
      "Recall Score : 0.7904509283819628\n",
      "F1 Score : 0.7582697201017812\n",
      "               precision    recall  f1-score   support\n",
      "\n",
      "Did Not Churn       0.80      0.75      0.77       437\n",
      "    Did Churn       0.73      0.79      0.76       377\n",
      "\n",
      "     accuracy                           0.77       814\n",
      "    macro avg       0.77      0.77      0.77       814\n",
      " weighted avg       0.77      0.77      0.77       814\n",
      "\n",
      "Mean cross validation score: 0.743\n",
      "Confusion Matrix : \n",
      "[[326 111]\n",
      " [ 79 298]]\n"
     ]
    }
   ],
   "source": [
    "print('Accuracy Score : ' + str(accuracy_score(y_test,y_pred)))\n",
    "print('Precision Score : ' + str(precision_score(y_test,y_pred)))\n",
    "print('Recall Score : ' + str(recall_score(y_test,y_pred)))\n",
    "print('F1 Score : ' + str(f1_score(y_test,y_pred)))\n",
    "report = classification_report(y_test, y_pred, target_names=['Did Not Churn', 'Did Churn'])\n",
    "print(report)\n",
    "cv_scores = cross_val_score(clf, X_train, y_train, cv = 5)\n",
    "\n",
    "print('Mean cross validation score: {:.3f}'.format(np.mean(cv_scores)))\n",
    "#Confusion matrix\n",
    "print('Confusion Matrix : \\n' + str(confusion_matrix(y_test,y_pred)))"
   ]
  },
  {
   "cell_type": "markdown",
   "metadata": {},
   "source": [
    "The PCA Random Forest model had a satisfactory accuracy rate (76.7%). The model's precision rate for customers who did not churn was 80% and its precision rate for customers who did churn was 73%, both slightly higher than several other models. The cross validation score was satisfactory (.743) but this could be improved. However, this is a similar score to most other models."
   ]
  },
  {
   "cell_type": "markdown",
   "metadata": {},
   "source": [
    "### Support Vector Classifier with PCA"
   ]
  },
  {
   "cell_type": "code",
   "execution_count": 56,
   "metadata": {},
   "outputs": [],
   "source": [
    "# define parameter range \n",
    "param_grid = {'C': [0.001, 0.1, 1, 5,  10, 50, 100, 1000],  \n",
    "              'gamma': [1, 0.1, 0.01, 0.001, 0.0001], \n",
    "              'kernel': ['rbf']}  \n",
    "#grid search for best parameters\n",
    "grid_svc = GridSearchCV(SVC(), param_grid, refit = True, verbose = False) \n",
    "  \n",
    "# fit the model for grid search \n",
    "grid_svc.fit(X_train, y_train)\n",
    "#Predict values \n",
    "y_pred = grid_svc.predict(X_test)"
   ]
  },
  {
   "cell_type": "code",
   "execution_count": 57,
   "metadata": {},
   "outputs": [
    {
     "name": "stdout",
     "output_type": "stream",
     "text": [
      "Accuracy Score : 0.769041769041769\n",
      "Precision Score : 0.727710843373494\n",
      "Recall Score : 0.8010610079575596\n",
      "F1 Score : 0.7626262626262627\n",
      "               precision    recall  f1-score   support\n",
      "\n",
      "Did Not Churn       0.81      0.74      0.78       437\n",
      "    Did Churn       0.73      0.80      0.76       377\n",
      "\n",
      "     accuracy                           0.77       814\n",
      "    macro avg       0.77      0.77      0.77       814\n",
      " weighted avg       0.77      0.77      0.77       814\n",
      "\n",
      "Mean cross validation score: 0.747\n",
      "Confusion Matrix : \n",
      "[[324 113]\n",
      " [ 75 302]]\n"
     ]
    }
   ],
   "source": [
    "\n",
    "print('Accuracy Score : ' + str(accuracy_score(y_test,y_pred)))\n",
    "print('Precision Score : ' + str(precision_score(y_test,y_pred)))\n",
    "print('Recall Score : ' + str(recall_score(y_test,y_pred)))\n",
    "print('F1 Score : ' + str(f1_score(y_test,y_pred)))\n",
    "report = classification_report(y_test, y_pred, target_names=['Did Not Churn', 'Did Churn'])\n",
    "print(report)\n",
    "cv_scores = cross_val_score(grid_svc, X_train, y_train, cv = 5)\n",
    "\n",
    "print('Mean cross validation score: {:.3f}'.format(np.mean(cv_scores)))\n",
    "#Confusion matrix\n",
    "print('Confusion Matrix : \\n' + str(confusion_matrix(y_test,y_pred)))"
   ]
  },
  {
   "cell_type": "markdown",
   "metadata": {},
   "source": [
    "The PCA SVC model had the best accuracy score of all PCA models, with 77%. This score is also higher than the selectKbest SVC model (73%). The individual precision rates were also decent, with 81% for customers who did not churn and 73% for customers who did churn. These numbers are reflected in the confusion matrix, which indicates that the model had 324 true positives, 302 true negatives, 75 false negatives, and 113 false positives. The mean cross validation score is also comparable to most models, at .747."
   ]
  },
  {
   "cell_type": "markdown",
   "metadata": {},
   "source": [
    "### Gradient Boosting with PCA"
   ]
  },
  {
   "cell_type": "code",
   "execution_count": 54,
   "metadata": {},
   "outputs": [
    {
     "data": {
      "text/plain": [
       "GridSearchCV(cv=5, error_score='raise-deprecating',\n",
       "             estimator=GradientBoostingClassifier(criterion='friedman_mse',\n",
       "                                                  init=None, learning_rate=0.1,\n",
       "                                                  loss='deviance', max_depth=3,\n",
       "                                                  max_features=None,\n",
       "                                                  max_leaf_nodes=None,\n",
       "                                                  min_impurity_decrease=0.0,\n",
       "                                                  min_impurity_split=None,\n",
       "                                                  min_samples_leaf=1,\n",
       "                                                  min_samples_split=2,\n",
       "                                                  min_weight_fraction_leaf=0.0,\n",
       "                                                  n_estimators=100,\n",
       "                                                  n_iter_no_change=None,\n",
       "                                                  presort='auto',\n",
       "                                                  random_state=None,\n",
       "                                                  subsample=1.0, tol=0.0001,\n",
       "                                                  validation_fraction=0.1,\n",
       "                                                  verbose=0, warm_start=False),\n",
       "             iid='warn', n_jobs=None,\n",
       "             param_grid={'learning_rate': [0.01, 0.1, 1, 10, 100],\n",
       "                         'max_depth': [1, 3, 5, 7, 9],\n",
       "                         'n_estimators': [5, 50, 250, 500]},\n",
       "             pre_dispatch='2*n_jobs', refit=True, return_train_score=False,\n",
       "             scoring=None, verbose=0)"
      ]
     },
     "execution_count": 54,
     "metadata": {},
     "output_type": "execute_result"
    }
   ],
   "source": [
    "gbc = GradientBoostingClassifier()\n",
    "#define possible parameters\n",
    "parameters = {\n",
    "    \"n_estimators\":[5,50,250,500],\n",
    "    \"max_depth\":[1,3,5,7,9],\n",
    "    \"learning_rate\":[0.01,0.1,1,10,100]\n",
    "}\n",
    "#grid search for best parameters\n",
    "cv = GridSearchCV(gbc,parameters,cv=5)\n",
    "cv.fit(X_train, y_train)"
   ]
  },
  {
   "cell_type": "code",
   "execution_count": 55,
   "metadata": {},
   "outputs": [
    {
     "name": "stdout",
     "output_type": "stream",
     "text": [
      "Accuracy Score : 0.757985257985258\n",
      "Precision Score : 0.7205882352941176\n",
      "Recall Score : 0.7798408488063661\n",
      "F1 Score : 0.7490445859872612\n",
      "               precision    recall  f1-score   support\n",
      "\n",
      "Did Not Churn       0.80      0.74      0.77       437\n",
      "    Did Churn       0.72      0.78      0.75       377\n",
      "\n",
      "     accuracy                           0.76       814\n",
      "    macro avg       0.76      0.76      0.76       814\n",
      " weighted avg       0.76      0.76      0.76       814\n",
      "\n",
      "Mean cross validation score: 0.745\n",
      "Confusion Matrix : \n",
      "[[323 114]\n",
      " [ 83 294]]\n"
     ]
    }
   ],
   "source": [
    "y_pred = cv.predict(X_test)\n",
    "print('Accuracy Score : ' + str(accuracy_score(y_test,y_pred)))\n",
    "print('Precision Score : ' + str(precision_score(y_test,y_pred)))\n",
    "print('Recall Score : ' + str(recall_score(y_test,y_pred)))\n",
    "print('F1 Score : ' + str(f1_score(y_test,y_pred)))\n",
    "report = classification_report(y_test, y_pred, target_names=['Did Not Churn', 'Did Churn'])\n",
    "print(report)\n",
    "cv_scores = cross_val_score(gbc, X_train, y_train, cv = 5)\n",
    "\n",
    "print('Mean cross validation score: {:.3f}'.format(np.mean(cv_scores)))\n",
    "#Confusion matrix\n",
    "print('Confusion Matrix : \\n' + str(confusion_matrix(y_test,y_pred)))"
   ]
  },
  {
   "cell_type": "markdown",
   "metadata": {},
   "source": [
    "The PCA gradient boosted model had a decent accuracy score (.758), which is very similar to the selectKbest gradient boosted model score (75.2%). Its precision rate for customers who did not churn and did churn were .80 and .72, respectively. The mean cross validation score was similar to most other models, at .745. "
   ]
  },
  {
   "cell_type": "markdown",
   "metadata": {},
   "source": [
    "## Summary"
   ]
  },
  {
   "cell_type": "markdown",
   "metadata": {},
   "source": [
    "Overall, the models that used PCA and the ones that used selectKbest performed similarly. While there was some variation across models based on whether selectKbest or PCA was used, the differences were small. The model with the best accuracy score was the PCA SVC (77%), though the PCA Random Forest model was close (76.7%). The selectKbest decision tree model and the PCA logistic regression had the best precision rates for the customers who did not churn (82%), while the PCA random forest model had a better precision rate for the customers who did churn (73%). Both logistic regressions had the highest mean cross validation scores (.767 and .815), indicating that these models were the most consist across training/test sets.   \n",
    "\n",
    "Overall, these results indicate to me that either PCA or selectKbest can be used to determine which features (or components) should be used in a model. Beyond that, each model has its pros/cons. The PCA support vector model was the most accurate, but the logistic regressions both had the highest cross validation scores. The data scientist should weigh these pros/cons when choosing a model. To best predict whether or not a customer will leave the company, however, the data scientist should consider adding more variables to the dataframe to improve the prediction accuracy."
   ]
  }
 ],
 "metadata": {
  "kernelspec": {
   "display_name": "Python 3",
   "language": "python",
   "name": "python3"
  },
  "language_info": {
   "codemirror_mode": {
    "name": "ipython",
    "version": 3
   },
   "file_extension": ".py",
   "mimetype": "text/x-python",
   "name": "python",
   "nbconvert_exporter": "python",
   "pygments_lexer": "ipython3",
   "version": "3.7.4"
  }
 },
 "nbformat": 4,
 "nbformat_minor": 2
}
