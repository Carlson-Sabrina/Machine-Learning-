{
  "nbformat": 4,
  "nbformat_minor": 0,
  "metadata": {
    "colab": {
      "name": "GMM.ipynb",
      "provenance": [],
      "collapsed_sections": []
    },
    "kernelspec": {
      "name": "python3",
      "display_name": "Python 3"
    }
  },
  "cells": [
    {
      "cell_type": "code",
      "metadata": {
        "id": "6BRjcfRtFkPo",
        "colab_type": "code",
        "colab": {}
      },
      "source": [
        "import numpy as np\n",
        "import pandas as pd\n",
        "import matplotlib.pyplot as plt\n",
        "from scipy.cluster.hierarchy import dendrogram, linkage\n",
        "from sklearn.preprocessing import StandardScaler\n",
        "from sklearn.mixture import GaussianMixture\n",
        "from sklearn import metrics\n",
        "from sqlalchemy import create_engine\n",
        "import warnings\n",
        "warnings.filterwarnings(\"ignore\")"
      ],
      "execution_count": 0,
      "outputs": []
    },
    {
      "cell_type": "code",
      "metadata": {
        "id": "l6NxDnqeFzUf",
        "colab_type": "code",
        "colab": {}
      },
      "source": [
        "postgres_user = 'dsbc_student'\n",
        "postgres_pw = '7*.8G9QH21'\n",
        "postgres_host = '142.93.121.174'\n",
        "postgres_port = '5432'\n",
        "postgres_db = 'heartdisease'\n",
        "\n",
        "engine = create_engine('postgresql://{}:{}@{}:{}/{}'.format(\n",
        "    postgres_user, postgres_pw, postgres_host, postgres_port, postgres_db))\n",
        "heartdisease_df = pd.read_sql_query('select * from heartdisease',con=engine)\n",
        "\n",
        "engine.dispose()"
      ],
      "execution_count": 0,
      "outputs": []
    },
    {
      "cell_type": "code",
      "metadata": {
        "id": "_MMOrALdGBeE",
        "colab_type": "code",
        "colab": {}
      },
      "source": [
        "#preprocessing\n",
        "# Define the features and the outcome\n",
        "X = heartdisease_df.iloc[:, :13]\n",
        "y = heartdisease_df.iloc[:, 13]\n",
        "\n",
        "# Replace missing values (marked by ?) with a 0\n",
        "X = X.replace(to_replace='?', value=0)\n",
        "\n",
        "# Binarize y so that 1 means heart disease diagnosis and 0 means no diagnosis\n",
        "y = np.where(y > 0, 0, 1)"
      ],
      "execution_count": 0,
      "outputs": []
    },
    {
      "cell_type": "markdown",
      "metadata": {
        "id": "mBMD6M0JGF8n",
        "colab_type": "text"
      },
      "source": [
        "Task 1: Apply GMM to the heart disease data by setting n_components=2. Get ARI and silhoutte scores for your solution and compare it with those of the k-means and hierarchical clustering solutions that you implemented in the assignments of the previous checkpoints. Which algorithm does perform better?"
      ]
    },
    {
      "cell_type": "code",
      "metadata": {
        "id": "F9FDP3G0Gp3w",
        "colab_type": "code",
        "colab": {}
      },
      "source": [
        "# Standardize\n",
        "scaler = StandardScaler()\n",
        "X_std = scaler.fit_transform(X)"
      ],
      "execution_count": 0,
      "outputs": []
    },
    {
      "cell_type": "code",
      "metadata": {
        "id": "TzOlXUv_GsM6",
        "colab_type": "code",
        "colab": {
          "base_uri": "https://localhost:8080/",
          "height": 52
        },
        "outputId": "a3a384d0-2551-499a-c88f-64cc8c52db6f"
      },
      "source": [
        "#define algorithm with 2 clusters\n",
        "gmm_cluster = GaussianMixture(n_components=2, random_state=123)\n",
        "\n",
        "# Fit the model\n",
        "clusters = gmm_cluster.fit_predict(X_std)\n",
        "\n",
        "print(\"GMM ARI score with 2 clusters: {}\".format(\n",
        "    metrics.adjusted_rand_score(y, clusters)))\n",
        "\n",
        "print(\"GMM silhouette score with 2 clusters: {}\".format(\n",
        "    metrics.silhouette_score(X_std, clusters, metric='euclidean')))"
      ],
      "execution_count": 6,
      "outputs": [
        {
          "output_type": "stream",
          "text": [
            "GMM ARI score with 2 clusters: 0.18389186035089963\n",
            "GMM silhouette score with 2 clusters: 0.13628813153331445\n"
          ],
          "name": "stdout"
        }
      ]
    },
    {
      "cell_type": "markdown",
      "metadata": {
        "id": "CcnS4-tEG-KG",
        "colab_type": "text"
      },
      "source": [
        "The ARI and Silhouette scores are quite low. In fact, K-means (.44) and hierarchical clustering (.29) ARI scores were higher. The K-means (.58) and hierarchical clustering (.15) silhouette scores were also higher. Setting k= 2 clusters, K-means performed best."
      ]
    },
    {
      "cell_type": "markdown",
      "metadata": {
        "id": "qbj3gZNlIG3z",
        "colab_type": "text"
      },
      "source": [
        "Task 2: GMM implementation of scikit-learn has a parameter called covariance_type. This parameter determines the type of covariance parameters to use. Specifically, there are four types you can specify:  \n",
        "\n",
        "**full:** This is the default. Each component has its own general covariance matrix.  \n",
        "**tied:** All components share the same general covariance matrix.  \n",
        "**diag:** Each component has its own diagonal covariance matrix.  \n",
        "**spherical:** Each component has its own single variance.  \n",
        "Try all of these. Which one does perform better in terms of ARI and silhouette scores?"
      ]
    },
    {
      "cell_type": "code",
      "metadata": {
        "id": "iBj6v0YrIZ1c",
        "colab_type": "code",
        "colab": {
          "base_uri": "https://localhost:8080/",
          "height": 225
        },
        "outputId": "c7645132-9955-45d6-d67f-cdf1c1648d23"
      },
      "source": [
        "#GMM with 2 clusters, covariance type set to full\n",
        "gmm_cluster = GaussianMixture(n_components=2, random_state=123, covariance_type=\"full\")\n",
        "\n",
        "# Fit the model\n",
        "clusters = gmm_cluster.fit_predict(X_std)\n",
        "\n",
        "print(\"ARI score (full): {}\".format(\n",
        "    metrics.adjusted_rand_score(y, clusters)))\n",
        "\n",
        "print(\"Silhouette score: full: {}\".format(\n",
        "    metrics.silhouette_score(X_std, clusters, metric='euclidean')))\n",
        "print(\"**********************************\")\n",
        "\n",
        "# GMM with covariance type set to tied\n",
        "gmm_cluster = GaussianMixture(n_components=2, random_state=123, covariance_type=\"tied\")\n",
        "\n",
        "# Fit the model\n",
        "clusters = gmm_cluster.fit_predict(X_std)\n",
        "\n",
        "print(\"ARI score (tied): {}\".format(\n",
        "    metrics.adjusted_rand_score(y, clusters)))\n",
        "\n",
        "print(\"Silhouette score (tied): {}\".format(\n",
        "    metrics.silhouette_score(X_std, clusters, metric='euclidean')))\n",
        "print(\"**********************************\")\n",
        "\n",
        "#GMM with diag\n",
        "gmm_cluster = GaussianMixture(n_components=2, random_state=123, covariance_type=\"diag\")\n",
        "\n",
        "# Fit the model\n",
        "clusters = gmm_cluster.fit_predict(X_std)\n",
        "\n",
        "print(\"ARI score (diag): {}\".format(\n",
        "    metrics.adjusted_rand_score(y, clusters)))\n",
        "\n",
        "print(\"Silhouette score (diag): {}\".format(\n",
        "    metrics.silhouette_score(X_std, clusters, metric='euclidean')))\n",
        "print(\"**********************************\")\n",
        "\n",
        "\n",
        "# GMM with spherical \n",
        "gmm_cluster = GaussianMixture(n_components=2, random_state=123, covariance_type=\"spherical\")\n",
        "\n",
        "# Fit the model\n",
        "clusters = gmm_cluster.fit_predict(X_std)\n",
        "\n",
        "print(\"ARI score (spherical): {}\".format(\n",
        "    metrics.adjusted_rand_score(y, clusters)))\n",
        "\n",
        "print(\"Silhouette score (spherical): {}\".format(\n",
        "    metrics.silhouette_score(X_std, clusters, metric='euclidean')))\n",
        "print(\"**********************************\")"
      ],
      "execution_count": 8,
      "outputs": [
        {
          "output_type": "stream",
          "text": [
            "ARI score (full): 0.18389186035089963\n",
            "Silhouette score: full: 0.13628813153331445\n",
            "**********************************\n",
            "ARI score (tied): 0.18389186035089963\n",
            "Silhouette score (tied): 0.13628813153331445\n",
            "**********************************\n",
            "ARI score (diag): 0.18389186035089963\n",
            "Silhouette score (diag): 0.13628813153331445\n",
            "**********************************\n",
            "ARI score (spherical): 0.20765243525722465\n",
            "Silhouette score (spherical): 0.12468753110276873\n",
            "**********************************\n"
          ],
          "name": "stdout"
        }
      ]
    },
    {
      "cell_type": "markdown",
      "metadata": {
        "id": "LIg-h7HoKrAN",
        "colab_type": "text"
      },
      "source": [
        "When covariance type is set to spherical, the ARI score is slightly higher (.21 in comparison to .18). However, the full, tied, and diag covariance types all had very slightly higher silhouette scores (.136 vs .125)."
      ]
    }
  ]
}